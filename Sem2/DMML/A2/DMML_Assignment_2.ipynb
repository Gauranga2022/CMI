{
  "cells": [
    {
      "cell_type": "markdown",
      "source": [
        "## The Task\n",
        "The \"Bag of Words\" data set from the UCI Machine Learning Repository contains five text collections in the form of bags-of-words. The URL for the UCI repository is https://archive.ics.uci.edu/ml/datasets/Bag+of+Words.\n",
        "\n",
        "Your task is to cluster the documents in these datasets via K-means clustering for different values of K and determine an optimum value of K.\n",
        "\n",
        "As a similarity measure, use Jaccard index, that measures similarity between two documents based on the overlap of words present in both documents. Note that this changes the underlying model from \"bag of words\" to \"set of words\".\n",
        "\n",
        "The datasets are of different sizes. Report your results on the three smaller datasets (Enron emails, NIPS blog entries, KOS blog entries).\n",
        "\n",
        "## The Data Set\n",
        "In each of the text collections, each document is summarized as a bag (multiset) of words. The individual documents are identified by document IDs and the words are identified by word IDs.\n",
        "\n",
        "After some cleaning up, in each collection the vocabulary of unique words has been truncated to only keep words that occurred more than ten times overall in that collection.\n",
        "\n",
        "For each collection XYZ:\n",
        "\n",
        "vocab.XYZ.txt is the vocabulary file, listing all words that appear in the collection XYZ, one word per line. Each word has an implicit wordID that is its line number in this file, starting with 1 (the word on line 1 has wordID 1, the word on line 2 has wordID 2, ...)\n",
        "\n",
        "docword.XYZ.txt lists out the number of times each word in vocab.XYZ.txt occurs in each document (only non-zero counts are recorded).\n",
        "\n",
        "The file docword.XYZ.txt begins with 3 header lines\n",
        "\n",
        "\t  D\n",
        "\t  W\n",
        "\t  NNZ\n",
        "\n",
        "where D is the number of documents in the collection, W is the number of words whose frequency is counted (i.e., W is the number of words in vocab.XYZ.txt) and NNZ is the number of non-zero frequency entries for this collection (i.e., NNZ is 3 less than the number of lines in docword.XYZ.txt).\n",
        "\n",
        "This is followed by NNZ lines of the form\n",
        "\n",
        "\t  docID wordID count\n",
        "\n",
        "where count is the number of time the word with id wordID appears in document with id docID. Remember that only non-zero counts are recorded.\n",
        "\n",
        "Information about the datasets in the repository (that you need to analyze)\n",
        "Enron Emails:\n",
        "orig source: www.cs.cmu.edu/~enron\n",
        "\t  D=39861\n",
        "\t  W=28102\n",
        "\t  N=6,400,000 (approx)\n",
        "\n",
        "NIPS full papers:\n",
        "orig source: books.nips.cc\n",
        "\t  D=1500\n",
        "\t  W=12419\n",
        "\t  N=1,900,000 (approx)\n",
        "\n",
        "KOS blog entries:\n",
        "orig source: dailykos.com\n",
        "\t  D=3430\n",
        "\t  W=6906\n",
        "\t  N=467714\n",
        "\n",
        "## Solving the Task\n",
        "You can use any programming language, including Python and R. You can make use of standard packages for analytics and machine learning. Clearly document any external packages used by your code.\n",
        "\n",
        "Submit the following via Moodle, as a Jupyter notebook if you are using Python and as a single archive (zip, tar.gz, …) otherwise:\n",
        "\n",
        "The code you used to solve the assignment.\n",
        "\n",
        "If you have voluminous output to report, save it somewhere on the cloud and provide a link.\n",
        "\n",
        "A short write up describing how your code ran on the data sets: the parameters used, time taken, space required, and anything else of interest.\n",
        "\n",
        "You may work alone or in groups of two. Each group makes a single submission to Moodle. Use either person's Moodle account to submit. The submission should mention the names of the two partners.\n",
        "\n",
        "There will be a short oral presentation and question/answer session for each submission."
      ],
      "metadata": {
        "id": "N2ntu6cnbKRT"
      }
    },
    {
      "cell_type": "markdown",
      "metadata": {
        "id": "urbqd3dBrfEO"
      },
      "source": [
        "# Import libraries"
      ]
    },
    {
      "cell_type": "code",
      "execution_count": null,
      "metadata": {
        "id": "iYJObt1_qkya"
      },
      "outputs": [],
      "source": [
        "import pandas as pd\n",
        "import numpy as np\n",
        "from sklearn.feature_extraction.text import TfidfVectorizer\n",
        "from sklearn.cluster import KMeans\n",
        "import matplotlib.pyplot as plt\n",
        "from sklearn.decomposition import PCA\n",
        "from sklearn.linear_model import LinearRegression\n",
        "from mpl_toolkits.mplot3d import Axes3D"
      ]
    },
    {
      "cell_type": "markdown",
      "metadata": {
        "id": "efAKrBwah9FA"
      },
      "source": [
        "#Functions"
      ]
    },
    {
      "cell_type": "markdown",
      "metadata": {
        "id": "qmyczEFJDcZg"
      },
      "source": [
        "## Custom K means\n",
        "\n",
        "K Means Algorithm\n",
        "\n",
        "1. Choose K points initially as random centroids\n",
        "2. In each iteration\n",
        "    1. Assign each point to nearest centroid\n",
        "    2. Recompute centroids\n",
        "3. Termination\n",
        "    1. Clusters stabilize, or\n",
        "    2. Sum square distance is below threshold"
      ]
    },
    {
      "cell_type": "markdown",
      "metadata": {
        "id": "awr_5vkrQNph"
      },
      "source": [
        "### Random Initialisation $∝$ probabilities ≡ distance"
      ]
    },
    {
      "cell_type": "code",
      "execution_count": null,
      "metadata": {
        "id": "obx16wylIcOf"
      },
      "outputs": [],
      "source": [
        "def kmeans_plusplus(X, k): # X is a list of lists\n",
        "    centroids = []\n",
        "\n",
        "    # Randomly select the first centroid from data points\n",
        "    centroids.append(X[np.random.randint(X.shape[0])])\n",
        "    #print('centroid =', centroids)\n",
        "\n",
        "    # Repeat until k centroids are chosen\n",
        "    for _ in range(1, k):\n",
        "\n",
        "        # Calculate squared distances from each point to this 'centroids' and store it in a list\n",
        "        distances = np.array([[np.linalg.norm(x - c)**2 for c in centroids][0] for x in X])\n",
        "        #print('distances in iter', _ ,':-', distances )\n",
        "\n",
        "        # Choose the next centroid with probability proportional to squared distance\n",
        "        probabilities = distances / distances.sum()\n",
        "        centroids.append(X[np.random.choice(X.shape[0], p=probabilities)])\n",
        "\n",
        "    return np.array(centroids)"
      ]
    },
    {
      "cell_type": "code",
      "execution_count": null,
      "metadata": {
        "colab": {
          "base_uri": "https://localhost:8080/"
        },
        "id": "cow5ZDBmIdiY",
        "outputId": "c70cc428-74a2-4565-a264-272af554aa4e"
      },
      "outputs": [
        {
          "data": {
            "text/plain": [
              "array([[1, 3],\n",
              "       [0, 1],\n",
              "       [3, 4]])"
            ]
          },
          "execution_count": 3,
          "metadata": {},
          "output_type": "execute_result"
        }
      ],
      "source": [
        "#Test\n",
        "\n",
        "np.random.seed(0)\n",
        "X = np.array([[0,0],\n",
        "              [0,1],\n",
        "              [2,3],\n",
        "              [3,4],\n",
        "              [1,3]])\n",
        "\n",
        "kmeans_plusplus(X, 3)\n",
        "\n",
        "# [1st centroid: [1, 3],\n",
        "#  2nd centroid: [0, 1],\n",
        "#  3rd centroid: [3, 4]]\n",
        "# 3 centroids because k = 3\n",
        "# the 3 centroids are a representative of its cluster"
      ]
    },
    {
      "cell_type": "markdown",
      "metadata": {
        "id": "Z9kDegN8QcL3"
      },
      "source": [
        "### Function to store the points in their respective clusters"
      ]
    },
    {
      "cell_type": "code",
      "execution_count": null,
      "metadata": {
        "id": "A0Xy_APqPKpZ"
      },
      "outputs": [],
      "source": [
        "def assign_clusters(X, centroids):\n",
        "    clusters = [[] for _ in range(len(centroids))] # e.g., clusters = [[points of cluster 1],[...],[...]] for k = 3\n",
        "                                                   # which will store the points of the respective clusters\n",
        "\n",
        "    for x in X:\n",
        "\n",
        "        # Calculate distances from this point to each centroid\n",
        "        distances = [np.linalg.norm(x - c) for c in centroids]\n",
        "        #print('distances from', x , 'to each centroid', distances)\n",
        "\n",
        "        # Assign the point to the cluster with the nearest centroid\n",
        "        cluster_index = np.argmin(distances)\n",
        "        #print('∴ the cluster-index of the point', x, ':-', cluster_index)\n",
        "\n",
        "        clusters[cluster_index].append(x) #put the point x in clusters[cluster_index]\n",
        "\n",
        "    return [np.array(cluster) for cluster in clusters]"
      ]
    },
    {
      "cell_type": "code",
      "execution_count": null,
      "metadata": {
        "colab": {
          "base_uri": "https://localhost:8080/"
        },
        "id": "ZnscgOCLPWFq",
        "outputId": "df38a6ea-7abc-4567-a2d6-23775e1afccd"
      },
      "outputs": [
        {
          "name": "stdout",
          "output_type": "stream",
          "text": [
            "cluster 1 \n",
            " [[2 3]\n",
            " [1 3]]\n",
            "cluster 2 \n",
            " [[0 0]\n",
            " [0 1]]\n",
            "cluster 3 \n",
            " [[3 4]]\n"
          ]
        }
      ],
      "source": [
        "#Test\n",
        "\n",
        "np.random.seed(0)\n",
        "X = np.array([[0,0],\n",
        "              [0,1],\n",
        "              [2,3],\n",
        "              [3,4],\n",
        "              [1,3]])\n",
        "\n",
        "clusters = kmeans_plusplus(X, 3)\n",
        "for i in range(len(assign_clusters(X, clusters))):\n",
        "    print('cluster', i+1, '\\n', assign_clusters(X, clusters)[i])"
      ]
    },
    {
      "cell_type": "markdown",
      "metadata": {
        "id": "Ki5tBOlwQnnO"
      },
      "source": [
        "### Function to Update centroids after each iteration"
      ]
    },
    {
      "cell_type": "code",
      "execution_count": null,
      "metadata": {
        "id": "0GnFkkeIPZed"
      },
      "outputs": [],
      "source": [
        "def update_centroids(clusters):\n",
        "    return [np.mean(cluster, axis=0) for cluster in clusters]\n",
        "\n",
        "# e.g., np.mean(np.array([[1, 2],\n",
        "#                   [3, 6]]), axis=1) = array([1.5, 4.5])"
      ]
    },
    {
      "cell_type": "code",
      "execution_count": null,
      "metadata": {
        "colab": {
          "base_uri": "https://localhost:8080/"
        },
        "id": "K8tiXPUfPb4-",
        "outputId": "20e2cd42-8661-451a-8a3c-c3a8f335246d"
      },
      "outputs": [
        {
          "data": {
            "text/plain": [
              "[array([1.5, 3. ]), array([0. , 0.5]), array([3., 4.])]"
            ]
          },
          "execution_count": 7,
          "metadata": {},
          "output_type": "execute_result"
        }
      ],
      "source": [
        "update_centroids(assign_clusters(X, clusters))"
      ]
    },
    {
      "cell_type": "markdown",
      "metadata": {
        "id": "ZF7rMK3BQtc8"
      },
      "source": [
        "### The Main K-Means function implemented with K-Means ++"
      ]
    },
    {
      "cell_type": "code",
      "execution_count": null,
      "metadata": {
        "id": "wKRuLarCPd8b"
      },
      "outputs": [],
      "source": [
        "def kmeans(X, k, max_iterations=100, tol=1e-04):\n",
        "\n",
        "    # Initialize centroids using k-means++\n",
        "    centroids = kmeans_plusplus(X, k)\n",
        "\n",
        "    for _ in range(max_iterations):\n",
        "        # Assign points to clusters\n",
        "        clusters = assign_clusters(X, centroids)\n",
        "        # Update centroids\n",
        "        new_centroids = update_centroids(clusters)\n",
        "\n",
        "        # If centroids stop changing, break the loop\n",
        "        if np.allclose(centroids, new_centroids, rtol=0, atol=tol, equal_nan=True):\n",
        "            break\n",
        "        centroids = new_centroids\n",
        "\n",
        "    return centroids, clusters"
      ]
    },
    {
      "cell_type": "code",
      "execution_count": null,
      "metadata": {
        "colab": {
          "base_uri": "https://localhost:8080/"
        },
        "id": "y7a7kq-uPuBB",
        "outputId": "bb6671d1-131b-4bdd-d849-124b053702be"
      },
      "outputs": [
        {
          "name": "stdout",
          "output_type": "stream",
          "text": [
            "Centroid 1 '\n",
            "' [2.         3.33333333]\n",
            "Cluster 1 '\n",
            "' [[2 3]\n",
            " [3 4]\n",
            " [1 3]]\n",
            "\n",
            "Centroid 2 '\n",
            "' [0.  0.5]\n",
            "Cluster 2 '\n",
            "' [[0 0]\n",
            " [0 1]]\n",
            "\n"
          ]
        }
      ],
      "source": [
        "# Example usage:\n",
        "\n",
        "np.random.seed(0)\n",
        "X = np.array([[0,0],\n",
        "              [0,1],\n",
        "              [2,3],\n",
        "              [3,4],\n",
        "              [1,3]])\n",
        "\n",
        "k = 2\n",
        "\n",
        "centroids, clusters = kmeans(X, k)\n",
        "\n",
        "for i, centroid in enumerate(centroids):\n",
        "    print(f\"Centroid {i+1} '\\n' {centroid}\")\n",
        "    print(f\"Cluster {i+1} '\\n' {clusters[i]}\")\n",
        "    print()"
      ]
    },
    {
      "cell_type": "markdown",
      "metadata": {
        "id": "1uabZ7b0J35n"
      },
      "source": [
        "## Functions for Jaccard Distance"
      ]
    },
    {
      "cell_type": "code",
      "execution_count": null,
      "metadata": {
        "id": "yyqzTKr7CXhv"
      },
      "outputs": [],
      "source": [
        "def jaccard_dist(list1, list2):\n",
        "    set1 = set(filter(lambda x: x != 0, list1))\n",
        "    set2 = set(filter(lambda x: x != 0, list2))\n",
        "    intersection = len(set1.intersection(set2))\n",
        "    union = len(set1.union(set2))\n",
        "    jaccard_index = 1- intersection / union if union != 0 else 0\n",
        "    return jaccard_index"
      ]
    },
    {
      "cell_type": "code",
      "execution_count": null,
      "metadata": {
        "colab": {
          "base_uri": "https://localhost:8080/"
        },
        "id": "HFSvOoZmaTz6",
        "outputId": "a3add025-a81b-4d7f-ca76-3d7d1e99277a"
      },
      "outputs": [
        {
          "data": {
            "text/plain": [
              "0.33333333333333337"
            ]
          },
          "execution_count": 203,
          "metadata": {},
          "output_type": "execute_result"
        }
      ],
      "source": [
        "jaccard_dist([1,2],[1,2,3])"
      ]
    },
    {
      "cell_type": "code",
      "execution_count": null,
      "metadata": {
        "colab": {
          "base_uri": "https://localhost:8080/"
        },
        "id": "C3R25FZ7qBtP",
        "outputId": "26947181-00ef-4d35-a54b-3e38f5ec602e"
      },
      "outputs": [
        {
          "data": {
            "text/plain": [
              "0.33333333333333337"
            ]
          },
          "execution_count": 202,
          "metadata": {},
          "output_type": "execute_result"
        }
      ],
      "source": [
        "jaccard_dist([1,2,0,0,0,0],[1,2,3,0,0,0])"
      ]
    },
    {
      "cell_type": "markdown",
      "metadata": {
        "id": "0Gqq96rvfcI7"
      },
      "source": [
        "## Functions to find the optimal k using the inertia - elbow method"
      ]
    },
    {
      "cell_type": "code",
      "execution_count": null,
      "metadata": {
        "id": "DL_8jjXOfcI7"
      },
      "outputs": [],
      "source": [
        "def compute_inertia(centroids, clusters):\n",
        "    inertia = 0\n",
        "    for i, centroid in enumerate(centroids):\n",
        "        cluster = clusters[i]\n",
        "        inertia += np.sum(np.linalg.norm(cluster - centroid, axis=1) ** 2)\n",
        "    return inertia\n",
        "\n",
        "def plot_k_vs_inertia(k_list, inertia_values):\n",
        "    plt.plot(k_list, inertia_values, marker='o')\n",
        "    plt.xlabel('Number of Clusters (k)')\n",
        "    plt.ylabel('Inertia')\n",
        "    plt.title('Elbow Method for Optimal k')\n",
        "    plt.grid(True)\n",
        "    plt.show()"
      ]
    },
    {
      "cell_type": "markdown",
      "metadata": {
        "id": "KAeuNOGRrjoc"
      },
      "source": [
        "# Dataset Preprocessing\n"
      ]
    },
    {
      "cell_type": "code",
      "execution_count": null,
      "metadata": {
        "id": "R4WpLZ43p4b4"
      },
      "outputs": [],
      "source": [
        "df1 = pd.read_csv(\"C:\\\\Users\\\\hp\\\\Desktop\\\\DMML_Assignment-2\\\\vocab.nips.txt\")\n",
        "df1.to_csv('vnips.csv', index = None)\n",
        "\n",
        "df2 = pd.read_csv(\"C:\\\\Users\\\\hp\\\\Desktop\\\\DMML_Assignment-2\\\\vocab.enron.txt\")\n",
        "df2.to_csv('venron.csv', index = None)\n",
        "\n",
        "df3 = pd.read_csv(\"C:\\\\Users\\\\hp\\\\Desktop\\\\DMML_Assignment-2\\\\vocab.kos.txt\")\n",
        "df3.to_csv('vkos.csv', index = None)"
      ]
    },
    {
      "cell_type": "code",
      "execution_count": null,
      "metadata": {
        "id": "4449qNZ5rXSm"
      },
      "outputs": [],
      "source": [
        "df4 = pd.read_csv(\"C:\\\\Users\\\\hp\\\\Desktop\\\\DMML_Assignment-2\\\\docword.nips.txt\")\n",
        "df4.to_csv('dnips.csv', index = None)\n",
        "\n",
        "df5 = pd.read_csv(\"C:\\\\Users\\\\hp\\\\Desktop\\\\DMML_Assignment-2\\\\docword.enron.txt\")\n",
        "df5.to_csv('denron.csv', index = None)\n",
        "\n",
        "df6 = pd.read_csv(\"C:\\\\Users\\\\hp\\\\Desktop\\\\DMML_Assignment-2\\\\docword.kos.txt\")\n",
        "df6.to_csv('dkos.csv', index = None)"
      ]
    },
    {
      "cell_type": "code",
      "execution_count": null,
      "metadata": {
        "id": "UU59Od7avY1F"
      },
      "outputs": [],
      "source": [
        "# Reading files for processing\n",
        "d_names = ['doc_id', 'Word_id', 'count']\n",
        "\n",
        "denron = pd.read_csv(\"denron.csv\", header=None, skiprows=3, names=d_names, sep=\" \")\n",
        "venron = pd.read_csv(\"venron.csv\", header=None).reset_index().rename(columns={0: 'Word'}).rename(columns={'index': 'Word_id'})[['Word_id', 'Word']]\n",
        "venron['Word_id'] += 1\n",
        "\n",
        "dkos = pd.read_csv(\"dkos.csv\", header=None, skiprows=3, names=d_names, sep=\" \")\n",
        "vkos = pd.read_csv(\"vkos.csv\", header=None).reset_index().rename(columns={0: 'Word'}).rename(columns={'index': 'Word_id'})[['Word_id', 'Word']]\n",
        "vkos['Word_id'] += 1\n",
        "\n",
        "dnips = pd.read_csv(\"dnips.csv\", header=None, skiprows=3, names=d_names, sep=\" \")\n",
        "vnips = pd.read_csv(\"vnips.csv\", header=None).reset_index().rename(columns={0: 'Word'}).rename(columns={'index': 'Word_id'})[['Word_id', 'Word']]\n",
        "vnips['Word_id'] += 1"
      ]
    },
    {
      "cell_type": "markdown",
      "metadata": {
        "id": "MNjzVpT5xbBY"
      },
      "source": [
        "$vocab.XYZ.txt$ is the vocabulary file, listing all words that appear in the collection XYZ, one word per line.\n",
        "> $WordID$ - $word$ ; $WordID$ $\\geq$ $1$\n"
      ]
    },
    {
      "cell_type": "code",
      "execution_count": null,
      "metadata": {
        "colab": {
          "base_uri": "https://localhost:8080/"
        },
        "id": "mDwKBd_kv_pP",
        "outputId": "2d00f585-9c5a-4c37-b60f-ea233006762b"
      },
      "outputs": [
        {
          "data": {
            "text/html": [
              "<div>\n",
              "<style scoped>\n",
              "    .dataframe tbody tr th:only-of-type {\n",
              "        vertical-align: middle;\n",
              "    }\n",
              "\n",
              "    .dataframe tbody tr th {\n",
              "        vertical-align: top;\n",
              "    }\n",
              "\n",
              "    .dataframe thead th {\n",
              "        text-align: right;\n",
              "    }\n",
              "</style>\n",
              "<table border=\"1\" class=\"dataframe\">\n",
              "  <thead>\n",
              "    <tr style=\"text-align: right;\">\n",
              "      <th></th>\n",
              "      <th>Word_id</th>\n",
              "      <th>Word</th>\n",
              "    </tr>\n",
              "  </thead>\n",
              "  <tbody>\n",
              "    <tr>\n",
              "      <th>0</th>\n",
              "      <td>1</td>\n",
              "      <td>aaa</td>\n",
              "    </tr>\n",
              "    <tr>\n",
              "      <th>1</th>\n",
              "      <td>2</td>\n",
              "      <td>aaas</td>\n",
              "    </tr>\n",
              "    <tr>\n",
              "      <th>2</th>\n",
              "      <td>3</td>\n",
              "      <td>aactive</td>\n",
              "    </tr>\n",
              "    <tr>\n",
              "      <th>3</th>\n",
              "      <td>4</td>\n",
              "      <td>aadvantage</td>\n",
              "    </tr>\n",
              "    <tr>\n",
              "      <th>4</th>\n",
              "      <td>5</td>\n",
              "      <td>aaker</td>\n",
              "    </tr>\n",
              "  </tbody>\n",
              "</table>\n",
              "</div>"
            ],
            "text/plain": [
              "   Word_id        Word\n",
              "0        1         aaa\n",
              "1        2        aaas\n",
              "2        3     aactive\n",
              "3        4  aadvantage\n",
              "4        5       aaker"
            ]
          },
          "execution_count": 16,
          "metadata": {},
          "output_type": "execute_result"
        }
      ],
      "source": [
        "venron.head()"
      ]
    },
    {
      "cell_type": "code",
      "execution_count": null,
      "metadata": {
        "colab": {
          "base_uri": "https://localhost:8080/"
        },
        "id": "re2Y82sEwHys",
        "outputId": "2c50db47-d6d2-4a1f-e59b-cbf8440b6952"
      },
      "outputs": [
        {
          "data": {
            "text/html": [
              "<div>\n",
              "<style scoped>\n",
              "    .dataframe tbody tr th:only-of-type {\n",
              "        vertical-align: middle;\n",
              "    }\n",
              "\n",
              "    .dataframe tbody tr th {\n",
              "        vertical-align: top;\n",
              "    }\n",
              "\n",
              "    .dataframe thead th {\n",
              "        text-align: right;\n",
              "    }\n",
              "</style>\n",
              "<table border=\"1\" class=\"dataframe\">\n",
              "  <thead>\n",
              "    <tr style=\"text-align: right;\">\n",
              "      <th></th>\n",
              "      <th>Word_id</th>\n",
              "      <th>Word</th>\n",
              "    </tr>\n",
              "  </thead>\n",
              "  <tbody>\n",
              "    <tr>\n",
              "      <th>0</th>\n",
              "      <td>1</td>\n",
              "      <td>aarp</td>\n",
              "    </tr>\n",
              "    <tr>\n",
              "      <th>1</th>\n",
              "      <td>2</td>\n",
              "      <td>abandon</td>\n",
              "    </tr>\n",
              "    <tr>\n",
              "      <th>2</th>\n",
              "      <td>3</td>\n",
              "      <td>abandoned</td>\n",
              "    </tr>\n",
              "    <tr>\n",
              "      <th>3</th>\n",
              "      <td>4</td>\n",
              "      <td>abandoning</td>\n",
              "    </tr>\n",
              "    <tr>\n",
              "      <th>4</th>\n",
              "      <td>5</td>\n",
              "      <td>abb</td>\n",
              "    </tr>\n",
              "  </tbody>\n",
              "</table>\n",
              "</div>"
            ],
            "text/plain": [
              "   Word_id        Word\n",
              "0        1        aarp\n",
              "1        2     abandon\n",
              "2        3   abandoned\n",
              "3        4  abandoning\n",
              "4        5         abb"
            ]
          },
          "execution_count": 17,
          "metadata": {},
          "output_type": "execute_result"
        }
      ],
      "source": [
        "vkos.head()"
      ]
    },
    {
      "cell_type": "code",
      "execution_count": null,
      "metadata": {
        "colab": {
          "base_uri": "https://localhost:8080/"
        },
        "id": "0XipJ_otxOx_",
        "outputId": "01fd81a5-ebeb-46cc-fff4-97a42f769ca1"
      },
      "outputs": [
        {
          "data": {
            "text/html": [
              "<div>\n",
              "<style scoped>\n",
              "    .dataframe tbody tr th:only-of-type {\n",
              "        vertical-align: middle;\n",
              "    }\n",
              "\n",
              "    .dataframe tbody tr th {\n",
              "        vertical-align: top;\n",
              "    }\n",
              "\n",
              "    .dataframe thead th {\n",
              "        text-align: right;\n",
              "    }\n",
              "</style>\n",
              "<table border=\"1\" class=\"dataframe\">\n",
              "  <thead>\n",
              "    <tr style=\"text-align: right;\">\n",
              "      <th></th>\n",
              "      <th>Word_id</th>\n",
              "      <th>Word</th>\n",
              "    </tr>\n",
              "  </thead>\n",
              "  <tbody>\n",
              "    <tr>\n",
              "      <th>0</th>\n",
              "      <td>1</td>\n",
              "      <td>a2i</td>\n",
              "    </tr>\n",
              "    <tr>\n",
              "      <th>1</th>\n",
              "      <td>2</td>\n",
              "      <td>aaa</td>\n",
              "    </tr>\n",
              "    <tr>\n",
              "      <th>2</th>\n",
              "      <td>3</td>\n",
              "      <td>aaai</td>\n",
              "    </tr>\n",
              "    <tr>\n",
              "      <th>3</th>\n",
              "      <td>4</td>\n",
              "      <td>aapo</td>\n",
              "    </tr>\n",
              "    <tr>\n",
              "      <th>4</th>\n",
              "      <td>5</td>\n",
              "      <td>aat</td>\n",
              "    </tr>\n",
              "  </tbody>\n",
              "</table>\n",
              "</div>"
            ],
            "text/plain": [
              "   Word_id  Word\n",
              "0        1   a2i\n",
              "1        2   aaa\n",
              "2        3  aaai\n",
              "3        4  aapo\n",
              "4        5   aat"
            ]
          },
          "execution_count": 18,
          "metadata": {},
          "output_type": "execute_result"
        }
      ],
      "source": [
        "vnips.head()"
      ]
    },
    {
      "cell_type": "markdown",
      "metadata": {
        "id": "o8K5uKVfypqi"
      },
      "source": [
        "$docword.XYZ.txt$ lists out the number of times each word in $vocab.XYZ.txt$ occurs in each document (only non-zero counts are recorded).\n",
        "\n",
        "The file docword.XYZ.txt begins with $3$ header lines\n",
        "\n",
        "\t  D\n",
        "\t  W\n",
        "\t  NNZ\n",
        "\n",
        "where $D$ is the number of documents in the collection, $W$ is the number of words whose frequency is counted (i.e., $W$ is the number of words in $vocab.XYZ.txt$) and $NNZ$ is the number of non-zero frequency entries for this collection (i.e., $NNZ$ is $3$ less than the number of lines in docword.XYZ.txt).\n",
        "\n",
        "This is followed by $NNZ$ lines of the form\n",
        "\n",
        "\t  docID wordID count\n",
        "\n",
        "where count is the number of time the word with id $wordID$ appears in document with $id=docID$. Remember that only non-zero counts are recorded."
      ]
    },
    {
      "cell_type": "code",
      "execution_count": null,
      "metadata": {
        "colab": {
          "base_uri": "https://localhost:8080/"
        },
        "id": "GoiN-ZiYwCkf",
        "outputId": "61196a16-e510-48dd-94f3-ad44fcc324f2"
      },
      "outputs": [
        {
          "data": {
            "text/html": [
              "<div>\n",
              "<style scoped>\n",
              "    .dataframe tbody tr th:only-of-type {\n",
              "        vertical-align: middle;\n",
              "    }\n",
              "\n",
              "    .dataframe tbody tr th {\n",
              "        vertical-align: top;\n",
              "    }\n",
              "\n",
              "    .dataframe thead th {\n",
              "        text-align: right;\n",
              "    }\n",
              "</style>\n",
              "<table border=\"1\" class=\"dataframe\">\n",
              "  <thead>\n",
              "    <tr style=\"text-align: right;\">\n",
              "      <th></th>\n",
              "      <th>doc_id</th>\n",
              "      <th>Word_id</th>\n",
              "      <th>count</th>\n",
              "    </tr>\n",
              "  </thead>\n",
              "  <tbody>\n",
              "    <tr>\n",
              "      <th>0</th>\n",
              "      <td>1</td>\n",
              "      <td>118</td>\n",
              "      <td>1</td>\n",
              "    </tr>\n",
              "    <tr>\n",
              "      <th>1</th>\n",
              "      <td>1</td>\n",
              "      <td>285</td>\n",
              "      <td>1</td>\n",
              "    </tr>\n",
              "    <tr>\n",
              "      <th>2</th>\n",
              "      <td>1</td>\n",
              "      <td>1229</td>\n",
              "      <td>1</td>\n",
              "    </tr>\n",
              "    <tr>\n",
              "      <th>3</th>\n",
              "      <td>1</td>\n",
              "      <td>1688</td>\n",
              "      <td>1</td>\n",
              "    </tr>\n",
              "    <tr>\n",
              "      <th>4</th>\n",
              "      <td>1</td>\n",
              "      <td>2068</td>\n",
              "      <td>1</td>\n",
              "    </tr>\n",
              "  </tbody>\n",
              "</table>\n",
              "</div>"
            ],
            "text/plain": [
              "   doc_id  Word_id  count\n",
              "0       1      118      1\n",
              "1       1      285      1\n",
              "2       1     1229      1\n",
              "3       1     1688      1\n",
              "4       1     2068      1"
            ]
          },
          "execution_count": 19,
          "metadata": {},
          "output_type": "execute_result"
        }
      ],
      "source": [
        "denron.head(5)"
      ]
    },
    {
      "cell_type": "code",
      "execution_count": null,
      "metadata": {
        "colab": {
          "base_uri": "https://localhost:8080/"
        },
        "id": "xU9-DzRMxDha",
        "outputId": "8ae3ae69-5671-4767-c7f4-375405e48571"
      },
      "outputs": [
        {
          "data": {
            "text/html": [
              "<div>\n",
              "<style scoped>\n",
              "    .dataframe tbody tr th:only-of-type {\n",
              "        vertical-align: middle;\n",
              "    }\n",
              "\n",
              "    .dataframe tbody tr th {\n",
              "        vertical-align: top;\n",
              "    }\n",
              "\n",
              "    .dataframe thead th {\n",
              "        text-align: right;\n",
              "    }\n",
              "</style>\n",
              "<table border=\"1\" class=\"dataframe\">\n",
              "  <thead>\n",
              "    <tr style=\"text-align: right;\">\n",
              "      <th></th>\n",
              "      <th>doc_id</th>\n",
              "      <th>Word_id</th>\n",
              "      <th>count</th>\n",
              "    </tr>\n",
              "  </thead>\n",
              "  <tbody>\n",
              "    <tr>\n",
              "      <th>0</th>\n",
              "      <td>1</td>\n",
              "      <td>61</td>\n",
              "      <td>2</td>\n",
              "    </tr>\n",
              "    <tr>\n",
              "      <th>1</th>\n",
              "      <td>1</td>\n",
              "      <td>76</td>\n",
              "      <td>1</td>\n",
              "    </tr>\n",
              "    <tr>\n",
              "      <th>2</th>\n",
              "      <td>1</td>\n",
              "      <td>89</td>\n",
              "      <td>1</td>\n",
              "    </tr>\n",
              "    <tr>\n",
              "      <th>3</th>\n",
              "      <td>1</td>\n",
              "      <td>211</td>\n",
              "      <td>1</td>\n",
              "    </tr>\n",
              "    <tr>\n",
              "      <th>4</th>\n",
              "      <td>1</td>\n",
              "      <td>296</td>\n",
              "      <td>1</td>\n",
              "    </tr>\n",
              "  </tbody>\n",
              "</table>\n",
              "</div>"
            ],
            "text/plain": [
              "   doc_id  Word_id  count\n",
              "0       1       61      2\n",
              "1       1       76      1\n",
              "2       1       89      1\n",
              "3       1      211      1\n",
              "4       1      296      1"
            ]
          },
          "execution_count": 20,
          "metadata": {},
          "output_type": "execute_result"
        }
      ],
      "source": [
        "dkos.head()"
      ]
    },
    {
      "cell_type": "code",
      "execution_count": null,
      "metadata": {
        "colab": {
          "base_uri": "https://localhost:8080/"
        },
        "id": "xBeSgBNYxTmk",
        "outputId": "59f03464-4ffe-44cb-b91b-48a575f7fcfb"
      },
      "outputs": [
        {
          "data": {
            "text/html": [
              "<div>\n",
              "<style scoped>\n",
              "    .dataframe tbody tr th:only-of-type {\n",
              "        vertical-align: middle;\n",
              "    }\n",
              "\n",
              "    .dataframe tbody tr th {\n",
              "        vertical-align: top;\n",
              "    }\n",
              "\n",
              "    .dataframe thead th {\n",
              "        text-align: right;\n",
              "    }\n",
              "</style>\n",
              "<table border=\"1\" class=\"dataframe\">\n",
              "  <thead>\n",
              "    <tr style=\"text-align: right;\">\n",
              "      <th></th>\n",
              "      <th>doc_id</th>\n",
              "      <th>Word_id</th>\n",
              "      <th>count</th>\n",
              "    </tr>\n",
              "  </thead>\n",
              "  <tbody>\n",
              "    <tr>\n",
              "      <th>0</th>\n",
              "      <td>1</td>\n",
              "      <td>2</td>\n",
              "      <td>1</td>\n",
              "    </tr>\n",
              "    <tr>\n",
              "      <th>1</th>\n",
              "      <td>1</td>\n",
              "      <td>39</td>\n",
              "      <td>1</td>\n",
              "    </tr>\n",
              "    <tr>\n",
              "      <th>2</th>\n",
              "      <td>1</td>\n",
              "      <td>42</td>\n",
              "      <td>3</td>\n",
              "    </tr>\n",
              "    <tr>\n",
              "      <th>3</th>\n",
              "      <td>1</td>\n",
              "      <td>77</td>\n",
              "      <td>1</td>\n",
              "    </tr>\n",
              "    <tr>\n",
              "      <th>4</th>\n",
              "      <td>1</td>\n",
              "      <td>95</td>\n",
              "      <td>1</td>\n",
              "    </tr>\n",
              "    <tr>\n",
              "      <th>5</th>\n",
              "      <td>1</td>\n",
              "      <td>96</td>\n",
              "      <td>1</td>\n",
              "    </tr>\n",
              "    <tr>\n",
              "      <th>6</th>\n",
              "      <td>1</td>\n",
              "      <td>105</td>\n",
              "      <td>1</td>\n",
              "    </tr>\n",
              "    <tr>\n",
              "      <th>7</th>\n",
              "      <td>1</td>\n",
              "      <td>108</td>\n",
              "      <td>1</td>\n",
              "    </tr>\n",
              "    <tr>\n",
              "      <th>8</th>\n",
              "      <td>1</td>\n",
              "      <td>133</td>\n",
              "      <td>3</td>\n",
              "    </tr>\n",
              "    <tr>\n",
              "      <th>9</th>\n",
              "      <td>1</td>\n",
              "      <td>137</td>\n",
              "      <td>2</td>\n",
              "    </tr>\n",
              "  </tbody>\n",
              "</table>\n",
              "</div>"
            ],
            "text/plain": [
              "   doc_id  Word_id  count\n",
              "0       1        2      1\n",
              "1       1       39      1\n",
              "2       1       42      3\n",
              "3       1       77      1\n",
              "4       1       95      1\n",
              "5       1       96      1\n",
              "6       1      105      1\n",
              "7       1      108      1\n",
              "8       1      133      3\n",
              "9       1      137      2"
            ]
          },
          "execution_count": 21,
          "metadata": {},
          "output_type": "execute_result"
        }
      ],
      "source": [
        "dnips.head(10)"
      ]
    },
    {
      "cell_type": "markdown",
      "metadata": {
        "id": "hpwCsSV6j1KA"
      },
      "source": [
        "# Clustering Enron Dataset"
      ]
    },
    {
      "cell_type": "code",
      "execution_count": null,
      "metadata": {
        "id": "9phqY7Q3owuA"
      },
      "outputs": [],
      "source": [
        "merged_df = pd.merge(denron, venron, on='Word_id', how='inner')"
      ]
    },
    {
      "cell_type": "code",
      "execution_count": null,
      "metadata": {
        "colab": {
          "base_uri": "https://localhost:8080/"
        },
        "id": "KkrvmiGsoBm-",
        "outputId": "1c06790f-c268-4f19-90b8-c92a791583f1"
      },
      "outputs": [
        {
          "data": {
            "text/plain": [
              "doc_id      0\n",
              "Word_id     0\n",
              "count       0\n",
              "Word       20\n",
              "dtype: int64"
            ]
          },
          "execution_count": 233,
          "metadata": {},
          "output_type": "execute_result"
        }
      ],
      "source": [
        "merged_df.isnull().sum()"
      ]
    },
    {
      "cell_type": "code",
      "execution_count": null,
      "metadata": {
        "colab": {
          "base_uri": "https://localhost:8080/"
        },
        "id": "Y_tJdzxBrMNL",
        "outputId": "ac28abd0-900a-40a8-9d58-f2eb6fcfc6f6"
      },
      "outputs": [
        {
          "data": {
            "text/plain": [
              "doc_id     0\n",
              "Word_id    0\n",
              "count      0\n",
              "Word       0\n",
              "dtype: int64"
            ]
          },
          "execution_count": 234,
          "metadata": {},
          "output_type": "execute_result"
        }
      ],
      "source": [
        "merged_df = merged_df.dropna()\n",
        "merged_df.isnull().sum()"
      ]
    },
    {
      "cell_type": "code",
      "execution_count": null,
      "metadata": {
        "colab": {
          "base_uri": "https://localhost:8080/",
          "height": 206
        },
        "id": "TEZnprgtt8fK",
        "outputId": "f10b7eaa-3e21-4aae-a735-aee5f3153f71"
      },
      "outputs": [
        {
          "data": {
            "text/html": [
              "<div>\n",
              "<style scoped>\n",
              "    .dataframe tbody tr th:only-of-type {\n",
              "        vertical-align: middle;\n",
              "    }\n",
              "\n",
              "    .dataframe tbody tr th {\n",
              "        vertical-align: top;\n",
              "    }\n",
              "\n",
              "    .dataframe thead th {\n",
              "        text-align: right;\n",
              "    }\n",
              "</style>\n",
              "<table border=\"1\" class=\"dataframe\">\n",
              "  <thead>\n",
              "    <tr style=\"text-align: right;\">\n",
              "      <th></th>\n",
              "      <th>doc_id</th>\n",
              "      <th>Word_id</th>\n",
              "      <th>count</th>\n",
              "      <th>Word</th>\n",
              "    </tr>\n",
              "  </thead>\n",
              "  <tbody>\n",
              "    <tr>\n",
              "      <th>0</th>\n",
              "      <td>1</td>\n",
              "      <td>118</td>\n",
              "      <td>1</td>\n",
              "      <td>access</td>\n",
              "    </tr>\n",
              "    <tr>\n",
              "      <th>1</th>\n",
              "      <td>86</td>\n",
              "      <td>118</td>\n",
              "      <td>7</td>\n",
              "      <td>access</td>\n",
              "    </tr>\n",
              "    <tr>\n",
              "      <th>2</th>\n",
              "      <td>93</td>\n",
              "      <td>118</td>\n",
              "      <td>3</td>\n",
              "      <td>access</td>\n",
              "    </tr>\n",
              "    <tr>\n",
              "      <th>3</th>\n",
              "      <td>108</td>\n",
              "      <td>118</td>\n",
              "      <td>2</td>\n",
              "      <td>access</td>\n",
              "    </tr>\n",
              "    <tr>\n",
              "      <th>4</th>\n",
              "      <td>127</td>\n",
              "      <td>118</td>\n",
              "      <td>1</td>\n",
              "      <td>access</td>\n",
              "    </tr>\n",
              "  </tbody>\n",
              "</table>\n",
              "</div>"
            ],
            "text/plain": [
              "   doc_id  Word_id  count    Word\n",
              "0       1      118      1  access\n",
              "1      86      118      7  access\n",
              "2      93      118      3  access\n",
              "3     108      118      2  access\n",
              "4     127      118      1  access"
            ]
          },
          "execution_count": 235,
          "metadata": {},
          "output_type": "execute_result"
        }
      ],
      "source": [
        "merged_df.head()"
      ]
    },
    {
      "cell_type": "code",
      "execution_count": null,
      "metadata": {
        "colab": {
          "base_uri": "https://localhost:8080/"
        },
        "id": "5ayPjBcbCGiC",
        "outputId": "4cbe6b34-56be-4cb7-c8aa-e0aa1d9ad7b1"
      },
      "outputs": [
        {
          "name": "stdout",
          "output_type": "stream",
          "text": [
            "max doc_id =  39861\n",
            "min doc_id =  1\n",
            "max Word_id =  28102\n",
            "min Word_id =  1\n",
            "max count =  403\n",
            "min count =  1\n"
          ]
        }
      ],
      "source": [
        "print(\"max doc_id = \",merged_df['doc_id'].max())\n",
        "print(\"min doc_id = \",merged_df['doc_id'].min())\n",
        "print(\"max Word_id = \",merged_df['Word_id'].max())\n",
        "print(\"min Word_id = \",merged_df['Word_id'].min())\n",
        "print(\"max count = \",merged_df['count'].max())\n",
        "print(\"min count = \",merged_df['count'].min())"
      ]
    },
    {
      "cell_type": "code",
      "execution_count": null,
      "metadata": {
        "id": "OqhAjFQxL97j"
      },
      "outputs": [],
      "source": [
        "df = merged_df.copy()\n",
        "counts_dict = {}\n",
        "\n",
        "for index, row in df.iterrows():\n",
        "    doc_id = row['doc_id']\n",
        "    word_id = row['Word_id']\n",
        "    count = row['count']\n",
        "\n",
        "    if doc_id in counts_dict:\n",
        "        counts_dict[doc_id][word_id] = count\n",
        "    else:\n",
        "        counts_dict[doc_id] = {word_id: count}"
      ]
    },
    {
      "cell_type": "code",
      "execution_count": null,
      "metadata": {
        "colab": {
          "base_uri": "https://localhost:8080/"
        },
        "id": "WBONSIE3yGPo",
        "outputId": "be362ff2-c79d-4d16-8f98-525432013433"
      },
      "outputs": [
        {
          "data": {
            "text/plain": [
              "6"
            ]
          },
          "execution_count": 238,
          "metadata": {},
          "output_type": "execute_result"
        }
      ],
      "source": [
        "def sum(dic):\n",
        "  sum = 0\n",
        "  for i in dic.keys():\n",
        "    sum+=dic[i]\n",
        "  return(sum)\n",
        "sum({1: 2, 3:4})"
      ]
    },
    {
      "cell_type": "code",
      "execution_count": null,
      "metadata": {
        "colab": {
          "base_uri": "https://localhost:8080/"
        },
        "id": "FrS666CVWY8c",
        "outputId": "9265abae-6149-4459-e258-3e31ac477bdb"
      },
      "outputs": [
        {
          "name": "stdout",
          "output_type": "stream",
          "text": [
            "4873\n"
          ]
        }
      ],
      "source": [
        "max = 0\n",
        "for i in counts_dict.keys():\n",
        "  if sum(counts_dict[i]) > max:\n",
        "    max = sum(counts_dict[i])\n",
        "print(max)"
      ]
    },
    {
      "cell_type": "code",
      "execution_count": null,
      "metadata": {
        "id": "70oFi1EzWa-U"
      },
      "outputs": [],
      "source": [
        "doc_dic = {}\n",
        "for i in range(1, merged_df['doc_id'].max()+1):\n",
        "  doc_dic[i] = []\n",
        "for i in doc_dic.keys():\n",
        "  for j in counts_dict[i].keys():\n",
        "    doc_dic[i] += [j for _ in range(counts_dict[i][j])]\n",
        "  diff = max - len(doc_dic[i])\n",
        "  doc_dic[i] += [0 for _ in range(diff)]"
      ]
    },
    {
      "cell_type": "code",
      "execution_count": null,
      "metadata": {
        "colab": {
          "base_uri": "https://localhost:8080/"
        },
        "id": "DcJOM6OVz2CG",
        "outputId": "aeff2d1c-c311-4895-aeab-695fec02d5a3"
      },
      "outputs": [
        {
          "data": {
            "text/plain": [
              "(4873, 4873)"
            ]
          },
          "execution_count": 241,
          "metadata": {},
          "output_type": "execute_result"
        }
      ],
      "source": [
        "len(doc_dic[3]), len(doc_dic[567])"
      ]
    },
    {
      "cell_type": "code",
      "execution_count": null,
      "metadata": {
        "id": "1jjmb9dqchho"
      },
      "outputs": [],
      "source": [
        "doc_list = np.array([doc_dic[i] for i in doc_dic.keys()])"
      ]
    },
    {
      "cell_type": "code",
      "execution_count": null,
      "metadata": {
        "id": "kTl-FQJInlI5",
        "outputId": "f998c5d0-e33d-40d7-efb8-f385fa0b0d54"
      },
      "outputs": [
        {
          "data": {
            "text/plain": [
              "([array([10866.53795716, 12512.98047501, 13606.37046481, ...,\n",
              "             0.        ,     0.        ,     0.        ]),\n",
              "  array([4031.4370915 , 6742.13439542, 8532.07066993, ...,    0.        ,\n",
              "            0.        ,    0.        ]),\n",
              "  array([ 6960.66518706,  9192.71750159, 10407.39811879, ...,\n",
              "             0.        ,     0.        ,     0.        ]),\n",
              "  array([ 348.63727455,  799.69539078, 1264.4488978 , ...,   14.39478958,\n",
              "           14.89378758,   20.17034068])],\n",
              " [array([[  118,   285,  1229, ...,     0,     0,     0],\n",
              "         [ 4802,  4802,  5602, ...,     0,     0,     0],\n",
              "         [  285,   285,  5299, ...,     0,     0,     0],\n",
              "         ...,\n",
              "         [ 1583,  7392, 19409, ...,     0,     0,     0],\n",
              "         [15084, 10636, 14611, ...,     0,     0,     0],\n",
              "         [ 6993, 15617, 15617, ...,     0,     0,     0]]),\n",
              "  array([[13631, 13631, 25611, ...,     0,     0,     0],\n",
              "         [ 8904,  8904, 12669, ...,     0,     0,     0],\n",
              "         [  285,   285,  5299, ...,     0,     0,     0],\n",
              "         ...,\n",
              "         [  118, 19190, 19190, ...,     0,     0,     0],\n",
              "         [ 2068,  8904, 11099, ...,     0,     0,     0],\n",
              "         [ 5299,  8904,  8904, ...,     0,     0,     0]]),\n",
              "  array([[ 2068, 13631, 23028, ...,     0,     0,     0],\n",
              "         [ 1229,  5299,  5299, ...,     0,     0,     0],\n",
              "         [ 1889, 17486, 17486, ...,     0,     0,     0],\n",
              "         ...,\n",
              "         [   46,  4802,  4802, ...,     0,     0,     0],\n",
              "         [  536,   536,  5066, ...,     0,     0,     0],\n",
              "         [11897, 11897, 11897, ...,     0,     0,     0]]),\n",
              "  array([[ 1229,  5299,  5299, ...,     0,     0,     0],\n",
              "         [  118,   285,   285, ...,     0,     0,     0],\n",
              "         [  285,   285,   285, ...,     0,     0,     0],\n",
              "         ...,\n",
              "         [  118,   118,   285, ...,     0,     0,     0],\n",
              "         [19484,  8243,  9404, ...,     0,     0,     0],\n",
              "         [  285,   285,   285, ...,     0,     0,     0]])])"
            ]
          },
          "execution_count": 243,
          "metadata": {},
          "output_type": "execute_result"
        }
      ],
      "source": [
        "kmeans(doc_list, 4, max_iterations=100, tol=1e-04)"
      ]
    },
    {
      "cell_type": "markdown",
      "metadata": {
        "id": "cJwVBqh2fcI7"
      },
      "source": [
        "### Visualisation of the clusters using PCA"
      ]
    },
    {
      "cell_type": "code",
      "execution_count": null,
      "metadata": {
        "id": "Ikh-F-PafcI7",
        "outputId": "136007e8-14aa-42ab-d922-a781bd141938"
      },
      "outputs": [
        {
          "data": {
            "image/png": "[encoded data removed]",
            "text/plain": [
              "<Figure size 432x288 with 1 Axes>"
            ]
          },
          "metadata": {
            "needs_background": "light"
          },
          "output_type": "display_data"
        }
      ],
      "source": [
        "# Flatten the array of clusters\n",
        "\n",
        "res = kmeans(doc_list, 4, max_iterations=100, tol=1e-04)\n",
        "array_of_clusters = res[1]\n",
        "flattened_clusters = np.concatenate(array_of_clusters)\n",
        "\n",
        "# Perform PCA to reduce dimensions\n",
        "pca = PCA(n_components=2)\n",
        "transformed_clusters = pca.fit_transform(flattened_clusters)\n",
        "\n",
        "# Plot the clusters\n",
        "colors = ['black', 'green', 'red', 'yellow', 'm', 'cyan']  # Define colors for clusters\n",
        "for i, cluster in enumerate(array_of_clusters):\n",
        "    transformed_cluster = pca.transform(cluster)\n",
        "    plt.scatter(transformed_cluster[:, 0], transformed_cluster[:, 1], color=colors[i], label=f'Cluster {i+1}', alpha=0.5)\n",
        "\n",
        "plt.xlabel('Principal Component 1')\n",
        "plt.ylabel('Principal Component 2')\n",
        "plt.title('Clusters Visualization using PCA')\n",
        "plt.legend()\n",
        "plt.show()"
      ]
    },
    {
      "cell_type": "markdown",
      "metadata": {
        "id": "1tt8zN9GgqhC"
      },
      "source": [
        "### Finding the optimal k"
      ]
    },
    {
      "cell_type": "code",
      "execution_count": null,
      "metadata": {
        "id": "UwmDuyHUfcI8"
      },
      "outputs": [],
      "source": [
        "np.random.seed(0)\n",
        "k_list = range(3,11)\n",
        "inertia_values = []\n",
        "for k in k_list:\n",
        "    centroids, clusters = kmeans(doc_list, k)\n",
        "    inertia = compute_inertia(centroids, clusters)\n",
        "    inertia_values.append(inertia)"
      ]
    },
    {
      "cell_type": "code",
      "execution_count": null,
      "metadata": {
        "id": "MUuJ9ABEfcI8",
        "outputId": "470b2f15-152a-4732-c64a-033f2f4b85a7"
      },
      "outputs": [
        {
          "data": {
            "text/plain": [
              "[764902130129618.5,\n",
              " 670256284439711.1,\n",
              " 614453716542561.6,\n",
              " 579497088420080.2,\n",
              " 553140191285934.06,\n",
              " 532537142400705.5,\n",
              " 518069293121198.56,\n",
              " 504595783979978.6]"
            ]
          },
          "execution_count": 245,
          "metadata": {},
          "output_type": "execute_result"
        }
      ],
      "source": [
        "inertia_values"
      ]
    },
    {
      "cell_type": "code",
      "execution_count": null,
      "metadata": {
        "id": "1_ArM9j8as3c",
        "outputId": "ae37e621-c7ee-4b71-bee8-4843258a92ce"
      },
      "outputs": [
        {
          "data": {
            "image/png": "[encoded data removed]",
            "text/plain": [
              "<Figure size 432x288 with 1 Axes>"
            ]
          },
          "metadata": {
            "needs_background": "light"
          },
          "output_type": "display_data"
        }
      ],
      "source": [
        "points = [(764902130129618.50, 3),\n",
        "          (670256284439711.10, 4),\n",
        "          (614453716542561.60, 5),\n",
        "          (579497088420080.20, 6),\n",
        "          (553140191285934.06, 7),\n",
        "          (532537142400705.50, 8),\n",
        "          (518069293121198.56, 9),\n",
        "          (504595783979978.60, 10)]\n",
        "highlight_point = points[2]\n",
        "\n",
        "x_values = [point[1] for point in points]\n",
        "y_values = [point[0] for point in points]\n",
        "\n",
        "X = np.array(x_values[-6:]).reshape(-1, 1)\n",
        "y = np.array(y_values[-6:])\n",
        "model = LinearRegression().fit(X, y)\n",
        "\n",
        "first_x = x_values[0]\n",
        "last_x = x_values[-1]\n",
        "first_y = model.predict([[first_x]])[0]\n",
        "last_y = model.predict([[last_x]])[0]\n",
        "\n",
        "plt.scatter(x_values, y_values, color='blue', label='inertia for different values of k')\n",
        "plt.plot(x_values, y_values, color='blue')\n",
        "\n",
        "# Plot the best line passing through the last three points\n",
        "plt.plot([first_x, last_x], [first_y, last_y], color='red', linestyle='--', label='linear plot for the last few pts')\n",
        "plt.scatter(highlight_point[1], highlight_point[0], color='black', s=100, label='Elbow at k=5')\n",
        "plt.xlabel('k')\n",
        "plt.ylabel('Inertia')\n",
        "plt.title('Best Line Passing Through Last Three Points')\n",
        "plt.legend()\n",
        "plt.grid(True)\n",
        "plt.show()"
      ]
    },
    {
      "cell_type": "markdown",
      "metadata": {
        "id": "P_4XGRlnas3c"
      },
      "source": [
        "# Clustering kos Dataset"
      ]
    },
    {
      "cell_type": "code",
      "execution_count": null,
      "metadata": {
        "id": "YOATtQA6as3c"
      },
      "outputs": [],
      "source": [
        "merged_df = pd.merge(dkos, vkos, on='Word_id', how='inner')"
      ]
    },
    {
      "cell_type": "code",
      "execution_count": null,
      "metadata": {
        "colab": {
          "base_uri": "https://localhost:8080/"
        },
        "outputId": "1c06790f-c268-4f19-90b8-c92a791583f1",
        "id": "L11gb0DHas3d"
      },
      "outputs": [
        {
          "data": {
            "text/plain": [
              "doc_id     0\n",
              "Word_id    0\n",
              "count      0\n",
              "Word       0\n",
              "dtype: int64"
            ]
          },
          "execution_count": 160,
          "metadata": {},
          "output_type": "execute_result"
        }
      ],
      "source": [
        "merged_df.isnull().sum()"
      ]
    },
    {
      "cell_type": "code",
      "execution_count": null,
      "metadata": {
        "colab": {
          "base_uri": "https://localhost:8080/"
        },
        "outputId": "ac28abd0-900a-40a8-9d58-f2eb6fcfc6f6",
        "id": "w51hvhX8as3d"
      },
      "outputs": [
        {
          "data": {
            "text/plain": [
              "doc_id     0\n",
              "Word_id    0\n",
              "count      0\n",
              "Word       0\n",
              "dtype: int64"
            ]
          },
          "execution_count": 161,
          "metadata": {},
          "output_type": "execute_result"
        }
      ],
      "source": [
        "merged_df = merged_df.dropna()\n",
        "merged_df.isnull().sum()"
      ]
    },
    {
      "cell_type": "code",
      "execution_count": null,
      "metadata": {
        "colab": {
          "base_uri": "https://localhost:8080/",
          "height": 206
        },
        "outputId": "f10b7eaa-3e21-4aae-a735-aee5f3153f71",
        "id": "kAQTx1JKas3d"
      },
      "outputs": [
        {
          "data": {
            "text/html": [
              "<div>\n",
              "<style scoped>\n",
              "    .dataframe tbody tr th:only-of-type {\n",
              "        vertical-align: middle;\n",
              "    }\n",
              "\n",
              "    .dataframe tbody tr th {\n",
              "        vertical-align: top;\n",
              "    }\n",
              "\n",
              "    .dataframe thead th {\n",
              "        text-align: right;\n",
              "    }\n",
              "</style>\n",
              "<table border=\"1\" class=\"dataframe\">\n",
              "  <thead>\n",
              "    <tr style=\"text-align: right;\">\n",
              "      <th></th>\n",
              "      <th>doc_id</th>\n",
              "      <th>Word_id</th>\n",
              "      <th>count</th>\n",
              "      <th>Word</th>\n",
              "    </tr>\n",
              "  </thead>\n",
              "  <tbody>\n",
              "    <tr>\n",
              "      <th>0</th>\n",
              "      <td>1</td>\n",
              "      <td>61</td>\n",
              "      <td>2</td>\n",
              "      <td>action</td>\n",
              "    </tr>\n",
              "    <tr>\n",
              "      <th>1</th>\n",
              "      <td>58</td>\n",
              "      <td>61</td>\n",
              "      <td>1</td>\n",
              "      <td>action</td>\n",
              "    </tr>\n",
              "    <tr>\n",
              "      <th>2</th>\n",
              "      <td>196</td>\n",
              "      <td>61</td>\n",
              "      <td>1</td>\n",
              "      <td>action</td>\n",
              "    </tr>\n",
              "    <tr>\n",
              "      <th>3</th>\n",
              "      <td>197</td>\n",
              "      <td>61</td>\n",
              "      <td>2</td>\n",
              "      <td>action</td>\n",
              "    </tr>\n",
              "    <tr>\n",
              "      <th>4</th>\n",
              "      <td>230</td>\n",
              "      <td>61</td>\n",
              "      <td>1</td>\n",
              "      <td>action</td>\n",
              "    </tr>\n",
              "  </tbody>\n",
              "</table>\n",
              "</div>"
            ],
            "text/plain": [
              "   doc_id  Word_id  count    Word\n",
              "0       1       61      2  action\n",
              "1      58       61      1  action\n",
              "2     196       61      1  action\n",
              "3     197       61      2  action\n",
              "4     230       61      1  action"
            ]
          },
          "execution_count": 162,
          "metadata": {},
          "output_type": "execute_result"
        }
      ],
      "source": [
        "merged_df.head()"
      ]
    },
    {
      "cell_type": "code",
      "execution_count": null,
      "metadata": {
        "colab": {
          "base_uri": "https://localhost:8080/"
        },
        "outputId": "4cbe6b34-56be-4cb7-c8aa-e0aa1d9ad7b1",
        "id": "Y7K_n7_cas3d"
      },
      "outputs": [
        {
          "name": "stdout",
          "output_type": "stream",
          "text": [
            "max doc_id =  3430\n",
            "min doc_id =  1\n",
            "max Word_id =  6906\n",
            "min Word_id =  1\n",
            "max count =  43\n",
            "min count =  1\n"
          ]
        }
      ],
      "source": [
        "print(\"max doc_id = \",merged_df['doc_id'].max())\n",
        "print(\"min doc_id = \",merged_df['doc_id'].min())\n",
        "print(\"max Word_id = \",merged_df['Word_id'].max())\n",
        "print(\"min Word_id = \",merged_df['Word_id'].min())\n",
        "print(\"max count = \",merged_df['count'].max())\n",
        "print(\"min count = \",merged_df['count'].min())"
      ]
    },
    {
      "cell_type": "code",
      "execution_count": null,
      "metadata": {
        "id": "aQVgEN4was3d"
      },
      "outputs": [],
      "source": [
        "df = merged_df.copy()\n",
        "counts_dict = {}\n",
        "\n",
        "for index, row in df.iterrows():\n",
        "    doc_id = row['doc_id']\n",
        "    word_id = row['Word_id']\n",
        "    count = row['count']\n",
        "\n",
        "    if doc_id in counts_dict:\n",
        "        counts_dict[doc_id][word_id] = count\n",
        "    else:\n",
        "        counts_dict[doc_id] = {word_id: count}"
      ]
    },
    {
      "cell_type": "code",
      "execution_count": null,
      "metadata": {
        "id": "IKy_XOSkas3d"
      },
      "outputs": [],
      "source": [
        "def sum(dic):\n",
        "  sum = 0\n",
        "  for i in dic.keys():\n",
        "    sum+=dic[i]\n",
        "  return(sum)"
      ]
    },
    {
      "cell_type": "code",
      "execution_count": null,
      "metadata": {
        "colab": {
          "base_uri": "https://localhost:8080/"
        },
        "outputId": "9265abae-6149-4459-e258-3e31ac477bdb",
        "id": "LfF_NYH1as3d"
      },
      "outputs": [
        {
          "name": "stdout",
          "output_type": "stream",
          "text": [
            "670\n"
          ]
        }
      ],
      "source": [
        "max = 0\n",
        "for i in counts_dict.keys():\n",
        "  if sum(counts_dict[i]) > max:\n",
        "    max = sum(counts_dict[i])\n",
        "print(max)"
      ]
    },
    {
      "cell_type": "code",
      "execution_count": null,
      "metadata": {
        "id": "2lrAVaANas3d"
      },
      "outputs": [],
      "source": [
        "doc_dic = {}\n",
        "for i in range(1, merged_df['doc_id'].max()+1):\n",
        "  doc_dic[i] = []\n",
        "for i in doc_dic.keys():\n",
        "  for j in counts_dict[i].keys():\n",
        "    doc_dic[i] += [j for _ in range(counts_dict[i][j])]\n",
        "  diff = max - len(doc_dic[i])\n",
        "  doc_dic[i] += [0 for _ in range(diff)]"
      ]
    },
    {
      "cell_type": "code",
      "execution_count": null,
      "metadata": {
        "colab": {
          "base_uri": "https://localhost:8080/"
        },
        "outputId": "aeff2d1c-c311-4895-aeab-695fec02d5a3",
        "id": "ZUD-nR-uas3d"
      },
      "outputs": [
        {
          "data": {
            "text/plain": [
              "(670, 670)"
            ]
          },
          "execution_count": 168,
          "metadata": {},
          "output_type": "execute_result"
        }
      ],
      "source": [
        "len(doc_dic[3]), len(doc_dic[567])"
      ]
    },
    {
      "cell_type": "code",
      "execution_count": null,
      "metadata": {
        "id": "9mFEbuqaas3d"
      },
      "outputs": [],
      "source": [
        "doc_list = np.array([doc_dic[i] for i in doc_dic.keys()])"
      ]
    },
    {
      "cell_type": "code",
      "execution_count": null,
      "metadata": {
        "outputId": "f998c5d0-e33d-40d7-efb8-f385fa0b0d54",
        "scrolled": false,
        "id": "Z7B1m0gzas3d"
      },
      "outputs": [
        {
          "data": {
            "text/plain": [
              "([array([ 681.51222352, 1228.27590221, 1656.65075669, 2049.07683353,\n",
              "         2339.5983702 , 2569.64726426, 2810.14202561, 3019.23166473,\n",
              "         3266.5774156 , 3400.91152503, 3514.74155995, 3607.01746217,\n",
              "         3726.56111758, 3813.89871944, 3871.77066356, 3910.96740396,\n",
              "         3984.1862631 , 4070.98603027, 4179.14668219, 4144.73108265,\n",
              "         4085.39813737, 3905.42491269, 3910.37834692, 3741.26426077,\n",
              "         3699.27124563, 3608.3806752 , 3510.63678696, 3529.28172293,\n",
              "         3437.71944121, 3424.05820722, 3306.68102445, 3204.79045402,\n",
              "         3175.70197905, 3163.94412107, 3189.55529686, 3047.27590221,\n",
              "         3116.81490105, 3145.54016298, 3154.30616997, 3157.29103609,\n",
              "         3123.31781141, 3227.68568102, 3185.12456345, 3236.59022119,\n",
              "         3260.90570431, 3261.74505239, 3300.45518044, 3347.05820722,\n",
              "         3318.2782305 , 3343.95692666, 3240.39580908, 3302.49476135,\n",
              "         3295.76018626, 3245.74621653, 3171.99301513, 3186.6193248 ,\n",
              "         3280.57625146, 3255.00232829, 3274.88824214, 3287.36437718,\n",
              "         3311.8242142 , 3300.41443539, 3472.51920838, 3454.54365541,\n",
              "         3597.87194412, 3442.63911525, 3492.92782305, 3606.23399302,\n",
              "         3563.05005821, 3574.02444703, 3607.74388824, 3646.02211874,\n",
              "         3651.90686845, 3730.58556461, 3749.82188591, 3740.5459837 ,\n",
              "         3759.22817229, 3808.21769499, 3667.71012806, 3819.77182771,\n",
              "         3809.73573923, 3657.68800931, 3776.20256112, 3746.62747381,\n",
              "         3853.01164144, 3803.8975553 , 3714.41327125, 3761.27357392,\n",
              "         3848.0919674 , 3895.94179278, 3935.68102445, 3865.45983702,\n",
              "         3854.21071013, 3920.25261932, 3920.34691502, 4050.12922002,\n",
              "         3969.69150175, 4003.38183935, 4057.56810244, 4161.08847497,\n",
              "         4048.27939464, 4109.68218859, 4097.26076834, 4041.22118743,\n",
              "         4006.64144354, 4097.93946449, 4016.00116414, 3986.84400466,\n",
              "         4029.15366705, 4030.77299185, 3959.20372526, 3939.78463329,\n",
              "         3796.21420256, 3912.22467986, 3959.92200233, 3935.55296857,\n",
              "         3942.16065192, 3910.16996508, 3858.61583236, 3903.18044237,\n",
              "         3832.40977881, 3797.74738068, 3698.65308498, 3740.58207218,\n",
              "         3820.36786962, 3729.79278231, 3720.59022119, 3737.13038417,\n",
              "         3655.28521537, 3751.76717113, 3702.49708964, 3738.1338766 ,\n",
              "         3755.0419092 , 3674.50523865, 3659.11175786, 3562.64144354,\n",
              "         3597.34807916, 3533.43888242, 3646.37834692, 3627.33527357,\n",
              "         3534.89406286, 3516.36670547, 3505.65541327, 3538.40046566,\n",
              "         3554.25261932, 3594.90221187, 3426.81606519, 3482.58207218,\n",
              "         3518.7427241 , 3363.55529686, 3370.1024447 , 3372.45867288,\n",
              "         3209.65308498, 3111.67287544, 3027.77182771, 3080.53317811,\n",
              "         3027.87077998, 2871.47264261, 2906.45634459, 2826.0814901 ,\n",
              "         2853.67287544, 2732.32596042, 2761.08963912, 2623.21187427,\n",
              "         2623.30267753, 2469.63096624, 2487.15715949, 2410.11059371,\n",
              "         2266.12805588, 2296.50058207, 2210.330617  , 2226.32712456,\n",
              "         2210.23748545, 2207.05122235, 2098.17345751, 2137.01164144,\n",
              "         2019.21769499, 2019.6798603 , 1887.47380675, 1994.9476135 ,\n",
              "         1885.33294529, 1834.74505239, 1845.02328289, 1907.55180442,\n",
              "         1788.07683353, 1687.86379511, 1599.41094296, 1613.26309662,\n",
              "         1610.00814901, 1588.22700815, 1529.44935972, 1478.09662398,\n",
              "         1513.45285215, 1391.16647264, 1335.04307334, 1337.47380675,\n",
              "         1281.8137369 , 1208.44935972, 1215.92898719, 1157.47962747,\n",
              "         1176.0628638 , 1175.89173458, 1104.91036088, 1134.65192084,\n",
              "         1012.53434226, 1018.45867288,  981.18160652,  922.70314319,\n",
              "          897.90570431,  912.20605355,  863.57625146,  890.52386496,\n",
              "          840.23166473,  801.26426077,  813.10128056,  755.28521537,\n",
              "          746.37136205,  740.96041909,  666.60302678,  673.52386496,\n",
              "          612.87776484,  605.59953434,  521.40279395,  550.23515716,\n",
              "          576.36088475,  592.4854482 ,  537.32246799,  460.16298021,\n",
              "          451.71245634,  412.33876601,  416.39813737,  342.99068685,\n",
              "          357.30500582,  295.38766007,  261.38300349,  256.37601863,\n",
              "          275.89057043,  246.56461001,  231.71362049,  191.23166473,\n",
              "          182.65541327,  148.46332945,  124.63329453,  108.57857974,\n",
              "          100.9790454 ,   60.03376019,   60.80791618,   46.90104773,\n",
              "           37.36903376,   29.42840512,   31.34924331,   25.39697322,\n",
              "           23.74621653,   14.27590221,    6.74388824,   13.74388824,\n",
              "            6.35040745,    6.35040745,    6.35040745,    0.        ,\n",
              "            0.        ,    0.        ,    0.        ,    0.        ,\n",
              "            0.        ,    0.        ,    0.        ,    0.        ,\n",
              "            0.        ,    0.        ,    0.        ,    0.        ,\n",
              "            0.        ,    0.        ,    0.        ,    0.        ,\n",
              "            0.        ,    0.        ,    0.        ,    0.        ,\n",
              "            0.        ,    0.        ,    0.        ,    0.        ,\n",
              "            0.        ,    0.        ,    0.        ,    0.        ,\n",
              "            0.        ,    0.        ,    0.        ,    0.        ,\n",
              "            0.        ,    0.        ,    0.        ,    0.        ,\n",
              "            0.        ,    0.        ,    0.        ,    0.        ,\n",
              "            0.        ,    0.        ,    0.        ,    0.        ,\n",
              "            0.        ,    0.        ,    0.        ,    0.        ,\n",
              "            0.        ,    0.        ,    0.        ,    0.        ,\n",
              "            0.        ,    0.        ,    0.        ,    0.        ,\n",
              "            0.        ,    0.        ,    0.        ,    0.        ,\n",
              "            0.        ,    0.        ,    0.        ,    0.        ,\n",
              "            0.        ,    0.        ,    0.        ,    0.        ,\n",
              "            0.        ,    0.        ,    0.        ,    0.        ,\n",
              "            0.        ,    0.        ,    0.        ,    0.        ,\n",
              "            0.        ,    0.        ,    0.        ,    0.        ,\n",
              "            0.        ,    0.        ,    0.        ,    0.        ,\n",
              "            0.        ,    0.        ,    0.        ,    0.        ,\n",
              "            0.        ,    0.        ,    0.        ,    0.        ,\n",
              "            0.        ,    0.        ,    0.        ,    0.        ,\n",
              "            0.        ,    0.        ,    0.        ,    0.        ,\n",
              "            0.        ,    0.        ,    0.        ,    0.        ,\n",
              "            0.        ,    0.        ,    0.        ,    0.        ,\n",
              "            0.        ,    0.        ,    0.        ,    0.        ,\n",
              "            0.        ,    0.        ,    0.        ,    0.        ,\n",
              "            0.        ,    0.        ,    0.        ,    0.        ,\n",
              "            0.        ,    0.        ,    0.        ,    0.        ,\n",
              "            0.        ,    0.        ,    0.        ,    0.        ,\n",
              "            0.        ,    0.        ,    0.        ,    0.        ,\n",
              "            0.        ,    0.        ,    0.        ,    0.        ,\n",
              "            0.        ,    0.        ,    0.        ,    0.        ,\n",
              "            0.        ,    0.        ,    0.        ,    0.        ,\n",
              "            0.        ,    0.        ,    0.        ,    0.        ,\n",
              "            0.        ,    0.        ,    0.        ,    0.        ,\n",
              "            0.        ,    0.        ,    0.        ,    0.        ,\n",
              "            0.        ,    0.        ,    0.        ,    0.        ,\n",
              "            0.        ,    0.        ,    0.        ,    0.        ,\n",
              "            0.        ,    0.        ,    0.        ,    0.        ,\n",
              "            0.        ,    0.        ,    0.        ,    0.        ,\n",
              "            0.        ,    0.        ,    0.        ,    0.        ,\n",
              "            0.        ,    0.        ,    0.        ,    0.        ,\n",
              "            0.        ,    0.        ,    0.        ,    0.        ,\n",
              "            0.        ,    0.        ,    0.        ,    0.        ,\n",
              "            0.        ,    0.        ,    0.        ,    0.        ,\n",
              "            0.        ,    0.        ,    0.        ,    0.        ,\n",
              "            0.        ,    0.        ,    0.        ,    0.        ,\n",
              "            0.        ,    0.        ,    0.        ,    0.        ,\n",
              "            0.        ,    0.        ,    0.        ,    0.        ,\n",
              "            0.        ,    0.        ,    0.        ,    0.        ,\n",
              "            0.        ,    0.        ,    0.        ,    0.        ,\n",
              "            0.        ,    0.        ,    0.        ,    0.        ,\n",
              "            0.        ,    0.        ,    0.        ,    0.        ,\n",
              "            0.        ,    0.        ,    0.        ,    0.        ,\n",
              "            0.        ,    0.        ,    0.        ,    0.        ,\n",
              "            0.        ,    0.        ,    0.        ,    0.        ,\n",
              "            0.        ,    0.        ,    0.        ,    0.        ,\n",
              "            0.        ,    0.        ,    0.        ,    0.        ,\n",
              "            0.        ,    0.        ,    0.        ,    0.        ,\n",
              "            0.        ,    0.        ,    0.        ,    0.        ,\n",
              "            0.        ,    0.        ,    0.        ,    0.        ,\n",
              "            0.        ,    0.        ,    0.        ,    0.        ,\n",
              "            0.        ,    0.        ,    0.        ,    0.        ,\n",
              "            0.        ,    0.        ,    0.        ,    0.        ,\n",
              "            0.        ,    0.        ,    0.        ,    0.        ,\n",
              "            0.        ,    0.        ,    0.        ,    0.        ,\n",
              "            0.        ,    0.        ,    0.        ,    0.        ,\n",
              "            0.        ,    0.        ,    0.        ,    0.        ,\n",
              "            0.        ,    0.        ,    0.        ,    0.        ,\n",
              "            0.        ,    0.        ,    0.        ,    0.        ,\n",
              "            0.        ,    0.        ,    0.        ,    0.        ,\n",
              "            0.        ,    0.        ,    0.        ,    0.        ,\n",
              "            0.        ,    0.        ,    0.        ,    0.        ,\n",
              "            0.        ,    0.        ,    0.        ,    0.        ,\n",
              "            0.        ,    0.        ,    0.        ,    0.        ,\n",
              "            0.        ,    0.        ,    0.        ,    0.        ,\n",
              "            0.        ,    0.        ,    0.        ,    0.        ,\n",
              "            0.        ,    0.        ,    0.        ,    0.        ,\n",
              "            0.        ,    0.        ,    0.        ,    0.        ,\n",
              "            0.        ,    0.        ,    0.        ,    0.        ,\n",
              "            0.        ,    0.        ,    0.        ,    0.        ,\n",
              "            0.        ,    0.        ,    0.        ,    0.        ,\n",
              "            0.        ,    0.        ,    0.        ,    0.        ,\n",
              "            0.        ,    0.        ,    0.        ,    0.        ,\n",
              "            0.        ,    0.        ,    0.        ,    0.        ,\n",
              "            0.        ,    0.        ,    0.        ,    0.        ,\n",
              "            0.        ,    0.        ,    0.        ,    0.        ,\n",
              "            0.        ,    0.        ,    0.        ,    0.        ,\n",
              "            0.        ,    0.        ,    0.        ,    0.        ,\n",
              "            0.        ,    0.        ,    0.        ,    0.        ,\n",
              "            0.        ,    0.        ,    0.        ,    0.        ,\n",
              "            0.        ,    0.        ,    0.        ,    0.        ,\n",
              "            0.        ,    0.        ,    0.        ,    0.        ,\n",
              "            0.        ,    0.        ,    0.        ,    0.        ,\n",
              "            0.        ,    0.        ,    0.        ,    0.        ,\n",
              "            0.        ,    0.        ,    0.        ,    0.        ,\n",
              "            0.        ,    0.        ,    0.        ,    0.        ,\n",
              "            0.        ,    0.        ,    0.        ,    0.        ,\n",
              "            0.        ,    0.        ,    0.        ,    0.        ,\n",
              "            0.        ,    0.        ]),\n",
              "  array([1009.02240326, 1622.98778004, 2157.1700611 , 2543.14460285,\n",
              "         2844.34317719, 3144.46435845, 3328.07841141, 3578.56822811,\n",
              "         3666.75967413, 3806.41446029, 3886.71181263, 3924.54378819,\n",
              "         3895.09572301, 3908.95112016, 3872.95315682, 3847.07331976,\n",
              "         3890.28207739, 3899.55498982, 3956.4185336 , 3981.60692464,\n",
              "         3800.67107943, 3860.65478615, 3867.5509165 , 3821.36252546,\n",
              "         3758.61303462, 3741.51934827, 3803.78818737, 3733.19755601,\n",
              "         3794.95213849, 3817.88187373, 3810.83299389, 3749.58757637,\n",
              "         3714.20366599, 3606.88696538, 3670.53462322, 3736.12525458,\n",
              "         3616.90529532, 3690.53869654, 3542.16496945, 3571.06415479,\n",
              "         3529.10386965, 3599.21792261, 3631.60386965, 3711.27698574,\n",
              "         3712.86354379, 3701.10183299, 3615.93686354, 3687.81262729,\n",
              "         3709.01731161, 3670.18839104, 3695.05498982, 3603.45519348,\n",
              "         3469.02851324, 3504.10794297, 3490.9114053 , 3579.03462322,\n",
              "         3617.33503055, 3518.78716904, 3691.53971487, 3712.24949084,\n",
              "         3561.40224033, 3522.36863544, 3585.08961303, 3617.85132383,\n",
              "         3663.92464358, 3691.79531568, 3587.48268839, 3761.96232179,\n",
              "         3661.44501018, 3504.36659878, 3578.61303462, 3630.50916497,\n",
              "         3642.52240326, 3565.25967413, 3493.43075356, 3485.18126273,\n",
              "         3404.94297352, 3551.56924644, 3554.28207739, 3416.42668024,\n",
              "         3342.69450102, 3345.02545825, 3303.63034623, 3229.81160896,\n",
              "         3238.47148676, 3164.49592668, 3047.07942974, 2909.74032587,\n",
              "         2847.80244399, 2883.43279022, 2739.76578411, 2703.28513238,\n",
              "         2705.73727088, 2557.87881874, 2494.88900204, 2471.83095723,\n",
              "         2462.06619145, 2306.25050916, 2333.15071283, 2111.65376782,\n",
              "         2080.03971487, 2053.30753564, 2019.22708758, 1932.81364562,\n",
              "         1925.10386965, 1879.68737271, 1862.41955193, 1732.48778004,\n",
              "         1674.54175153, 1660.09470468, 1594.69857434, 1477.38798371,\n",
              "         1396.04684318, 1340.51120163, 1275.13034623, 1242.27087576,\n",
              "         1226.83706721, 1227.52138493, 1125.09368635, 1087.96537678,\n",
              "         1085.63543788, 1006.15784114,  953.1904277 ,  943.53156823,\n",
              "          930.98167006,  868.38798371,  841.88391039,  784.36456212,\n",
              "          765.75050916,  687.74032587,  584.18635438,  607.10488798,\n",
              "          596.68839104,  513.65071283,  472.5509165 ,  432.55295316,\n",
              "          404.98472505,  354.69959267,  332.2209776 ,  299.17515275,\n",
              "          228.53665988,  208.25458248,  214.15274949,  157.89409369,\n",
              "          132.54480652,   92.59063136,   43.79226069,   38.06924644,\n",
              "           55.31466395,   33.1700611 ,   25.00916497,   21.06720978,\n",
              "           17.75763747,   10.09572301,   11.87372709,    4.8095723 ,\n",
              "            4.88492872,    4.88492872,    5.76578411,    5.76578411,\n",
              "            5.94093686,    6.64765784,    0.        ,    0.        ,\n",
              "            0.        ,    0.        ,    0.        ,    0.        ,\n",
              "            0.        ,    0.        ,    0.        ,    0.        ,\n",
              "            0.        ,    0.        ,    0.        ,    0.        ,\n",
              "            0.        ,    0.        ,    0.        ,    0.        ,\n",
              "            0.        ,    0.        ,    0.        ,    0.        ,\n",
              "            0.        ,    0.        ,    0.        ,    0.        ,\n",
              "            0.        ,    0.        ,    0.        ,    0.        ,\n",
              "            0.        ,    0.        ,    0.        ,    0.        ,\n",
              "            0.        ,    0.        ,    0.        ,    0.        ,\n",
              "            0.        ,    0.        ,    0.        ,    0.        ,\n",
              "            0.        ,    0.        ,    0.        ,    0.        ,\n",
              "            0.        ,    0.        ,    0.        ,    0.        ,\n",
              "            0.        ,    0.        ,    0.        ,    0.        ,\n",
              "            0.        ,    0.        ,    0.        ,    0.        ,\n",
              "            0.        ,    0.        ,    0.        ,    0.        ,\n",
              "            0.        ,    0.        ,    0.        ,    0.        ,\n",
              "            0.        ,    0.        ,    0.        ,    0.        ,\n",
              "            0.        ,    0.        ,    0.        ,    0.        ,\n",
              "            0.        ,    0.        ,    0.        ,    0.        ,\n",
              "            0.        ,    0.        ,    0.        ,    0.        ,\n",
              "            0.        ,    0.        ,    0.        ,    0.        ,\n",
              "            0.        ,    0.        ,    0.        ,    0.        ,\n",
              "            0.        ,    0.        ,    0.        ,    0.        ,\n",
              "            0.        ,    0.        ,    0.        ,    0.        ,\n",
              "            0.        ,    0.        ,    0.        ,    0.        ,\n",
              "            0.        ,    0.        ,    0.        ,    0.        ,\n",
              "            0.        ,    0.        ,    0.        ,    0.        ,\n",
              "            0.        ,    0.        ,    0.        ,    0.        ,\n",
              "            0.        ,    0.        ,    0.        ,    0.        ,\n",
              "            0.        ,    0.        ,    0.        ,    0.        ,\n",
              "            0.        ,    0.        ,    0.        ,    0.        ,\n",
              "            0.        ,    0.        ,    0.        ,    0.        ,\n",
              "            0.        ,    0.        ,    0.        ,    0.        ,\n",
              "            0.        ,    0.        ,    0.        ,    0.        ,\n",
              "            0.        ,    0.        ,    0.        ,    0.        ,\n",
              "            0.        ,    0.        ,    0.        ,    0.        ,\n",
              "            0.        ,    0.        ,    0.        ,    0.        ,\n",
              "            0.        ,    0.        ,    0.        ,    0.        ,\n",
              "            0.        ,    0.        ,    0.        ,    0.        ,\n",
              "            0.        ,    0.        ,    0.        ,    0.        ,\n",
              "            0.        ,    0.        ,    0.        ,    0.        ,\n",
              "            0.        ,    0.        ,    0.        ,    0.        ,\n",
              "            0.        ,    0.        ,    0.        ,    0.        ,\n",
              "            0.        ,    0.        ,    0.        ,    0.        ,\n",
              "            0.        ,    0.        ,    0.        ,    0.        ,\n",
              "            0.        ,    0.        ,    0.        ,    0.        ,\n",
              "            0.        ,    0.        ,    0.        ,    0.        ,\n",
              "            0.        ,    0.        ,    0.        ,    0.        ,\n",
              "            0.        ,    0.        ,    0.        ,    0.        ,\n",
              "            0.        ,    0.        ,    0.        ,    0.        ,\n",
              "            0.        ,    0.        ,    0.        ,    0.        ,\n",
              "            0.        ,    0.        ,    0.        ,    0.        ,\n",
              "            0.        ,    0.        ,    0.        ,    0.        ,\n",
              "            0.        ,    0.        ,    0.        ,    0.        ,\n",
              "            0.        ,    0.        ,    0.        ,    0.        ,\n",
              "            0.        ,    0.        ,    0.        ,    0.        ,\n",
              "            0.        ,    0.        ,    0.        ,    0.        ,\n",
              "            0.        ,    0.        ,    0.        ,    0.        ,\n",
              "            0.        ,    0.        ,    0.        ,    0.        ,\n",
              "            0.        ,    0.        ,    0.        ,    0.        ,\n",
              "            0.        ,    0.        ,    0.        ,    0.        ,\n",
              "            0.        ,    0.        ,    0.        ,    0.        ,\n",
              "            0.        ,    0.        ,    0.        ,    0.        ,\n",
              "            0.        ,    0.        ,    0.        ,    0.        ,\n",
              "            0.        ,    0.        ,    0.        ,    0.        ,\n",
              "            0.        ,    0.        ,    0.        ,    0.        ,\n",
              "            0.        ,    0.        ,    0.        ,    0.        ,\n",
              "            0.        ,    0.        ,    0.        ,    0.        ,\n",
              "            0.        ,    0.        ,    0.        ,    0.        ,\n",
              "            0.        ,    0.        ,    0.        ,    0.        ,\n",
              "            0.        ,    0.        ,    0.        ,    0.        ,\n",
              "            0.        ,    0.        ,    0.        ,    0.        ,\n",
              "            0.        ,    0.        ,    0.        ,    0.        ,\n",
              "            0.        ,    0.        ,    0.        ,    0.        ,\n",
              "            0.        ,    0.        ,    0.        ,    0.        ,\n",
              "            0.        ,    0.        ,    0.        ,    0.        ,\n",
              "            0.        ,    0.        ,    0.        ,    0.        ,\n",
              "            0.        ,    0.        ,    0.        ,    0.        ,\n",
              "            0.        ,    0.        ,    0.        ,    0.        ,\n",
              "            0.        ,    0.        ,    0.        ,    0.        ,\n",
              "            0.        ,    0.        ,    0.        ,    0.        ,\n",
              "            0.        ,    0.        ,    0.        ,    0.        ,\n",
              "            0.        ,    0.        ,    0.        ,    0.        ,\n",
              "            0.        ,    0.        ,    0.        ,    0.        ,\n",
              "            0.        ,    0.        ,    0.        ,    0.        ,\n",
              "            0.        ,    0.        ,    0.        ,    0.        ,\n",
              "            0.        ,    0.        ,    0.        ,    0.        ,\n",
              "            0.        ,    0.        ,    0.        ,    0.        ,\n",
              "            0.        ,    0.        ,    0.        ,    0.        ,\n",
              "            0.        ,    0.        ,    0.        ,    0.        ,\n",
              "            0.        ,    0.        ,    0.        ,    0.        ,\n",
              "            0.        ,    0.        ,    0.        ,    0.        ,\n",
              "            0.        ,    0.        ,    0.        ,    0.        ,\n",
              "            0.        ,    0.        ,    0.        ,    0.        ,\n",
              "            0.        ,    0.        ,    0.        ,    0.        ,\n",
              "            0.        ,    0.        ,    0.        ,    0.        ,\n",
              "            0.        ,    0.        ,    0.        ,    0.        ,\n",
              "            0.        ,    0.        ,    0.        ,    0.        ,\n",
              "            0.        ,    0.        ,    0.        ,    0.        ,\n",
              "            0.        ,    0.        ,    0.        ,    0.        ,\n",
              "            0.        ,    0.        ,    0.        ,    0.        ,\n",
              "            0.        ,    0.        ,    0.        ,    0.        ,\n",
              "            0.        ,    0.        ,    0.        ,    0.        ,\n",
              "            0.        ,    0.        ,    0.        ,    0.        ,\n",
              "            0.        ,    0.        ,    0.        ,    0.        ,\n",
              "            0.        ,    0.        ,    0.        ,    0.        ,\n",
              "            0.        ,    0.        ,    0.        ,    0.        ,\n",
              "            0.        ,    0.        ,    0.        ,    0.        ,\n",
              "            0.        ,    0.        ,    0.        ,    0.        ,\n",
              "            0.        ,    0.        ,    0.        ,    0.        ,\n",
              "            0.        ,    0.        ,    0.        ,    0.        ,\n",
              "            0.        ,    0.        ,    0.        ,    0.        ,\n",
              "            0.        ,    0.        ,    0.        ,    0.        ,\n",
              "            0.        ,    0.        ,    0.        ,    0.        ,\n",
              "            0.        ,    0.        ,    0.        ,    0.        ,\n",
              "            0.        ,    0.        ,    0.        ,    0.        ,\n",
              "            0.        ,    0.        ,    0.        ,    0.        ,\n",
              "            0.        ,    0.        ,    0.        ,    0.        ,\n",
              "            0.        ,    0.        ,    0.        ,    0.        ,\n",
              "            0.        ,    0.        ,    0.        ,    0.        ,\n",
              "            0.        ,    0.        ,    0.        ,    0.        ,\n",
              "            0.        ,    0.        ,    0.        ,    0.        ,\n",
              "            0.        ,    0.        ,    0.        ,    0.        ,\n",
              "            0.        ,    0.        ,    0.        ,    0.        ,\n",
              "            0.        ,    0.        ,    0.        ,    0.        ,\n",
              "            0.        ,    0.        ,    0.        ,    0.        ,\n",
              "            0.        ,    0.        ]),\n",
              "  array([1.59963528e+03, 2.37989652e+03, 2.93596268e+03, 3.24796777e+03,\n",
              "         3.51254962e+03, 3.69145547e+03, 3.87849618e+03, 3.82622731e+03,\n",
              "         3.94149618e+03, 3.94582697e+03, 3.95256658e+03, 3.85349958e+03,\n",
              "         3.75620780e+03, 3.64964631e+03, 3.76583376e+03, 3.63129856e+03,\n",
              "         3.76150382e+03, 3.70923155e+03, 3.60992791e+03, 3.64501103e+03,\n",
              "         3.67127566e+03, 3.71035708e+03, 3.68316115e+03, 3.62819423e+03,\n",
              "         3.58781086e+03, 3.30230704e+03, 3.34023834e+03, 3.36333588e+03,\n",
              "         3.34317642e+03, 3.17316624e+03, 3.10556913e+03, 3.11476760e+03,\n",
              "         3.04515182e+03, 2.96216879e+03, 2.83277099e+03, 2.82249025e+03,\n",
              "         2.70591773e+03, 2.72000085e+03, 2.57195929e+03, 2.57580662e+03,\n",
              "         2.45237150e+03, 2.42777014e+03, 2.33860560e+03, 2.28057167e+03,\n",
              "         2.13293978e+03, 2.05066412e+03, 2.03315606e+03, 1.93124173e+03,\n",
              "         1.83643003e+03, 1.82595250e+03, 1.77825530e+03, 1.64505683e+03,\n",
              "         1.56974894e+03, 1.47594741e+03, 1.42077269e+03, 1.31707294e+03,\n",
              "         1.26304580e+03, 1.23551060e+03, 1.11144784e+03, 1.03918745e+03,\n",
              "         1.04955725e+03, 9.65553011e+02, 8.73127226e+02, 8.51259542e+02,\n",
              "         7.74046650e+02, 6.65038168e+02, 6.55180662e+02, 5.75753181e+02,\n",
              "         5.20102629e+02, 4.78215437e+02, 4.12737065e+02, 3.55072943e+02,\n",
              "         3.46444444e+02, 3.11602205e+02, 2.49044105e+02, 2.22704835e+02,\n",
              "         1.50976251e+02, 1.08684478e+02, 8.38592027e+01, 7.56488550e+01,\n",
              "         4.03918575e+01, 2.99550466e+01, 1.21382528e+01, 1.06251060e+01,\n",
              "         1.06870229e+00, 7.06106870e+00, 0.00000000e+00, 0.00000000e+00,\n",
              "         0.00000000e+00, 0.00000000e+00, 0.00000000e+00, 0.00000000e+00,\n",
              "         0.00000000e+00, 0.00000000e+00, 0.00000000e+00, 0.00000000e+00,\n",
              "         0.00000000e+00, 0.00000000e+00, 0.00000000e+00, 0.00000000e+00,\n",
              "         0.00000000e+00, 0.00000000e+00, 0.00000000e+00, 0.00000000e+00,\n",
              "         0.00000000e+00, 0.00000000e+00, 0.00000000e+00, 0.00000000e+00,\n",
              "         0.00000000e+00, 0.00000000e+00, 0.00000000e+00, 0.00000000e+00,\n",
              "         0.00000000e+00, 0.00000000e+00, 0.00000000e+00, 0.00000000e+00,\n",
              "         0.00000000e+00, 0.00000000e+00, 0.00000000e+00, 0.00000000e+00,\n",
              "         0.00000000e+00, 0.00000000e+00, 0.00000000e+00, 0.00000000e+00,\n",
              "         0.00000000e+00, 0.00000000e+00, 0.00000000e+00, 0.00000000e+00,\n",
              "         0.00000000e+00, 0.00000000e+00, 0.00000000e+00, 0.00000000e+00,\n",
              "         0.00000000e+00, 0.00000000e+00, 0.00000000e+00, 0.00000000e+00,\n",
              "         0.00000000e+00, 0.00000000e+00, 0.00000000e+00, 0.00000000e+00,\n",
              "         0.00000000e+00, 0.00000000e+00, 0.00000000e+00, 0.00000000e+00,\n",
              "         0.00000000e+00, 0.00000000e+00, 0.00000000e+00, 0.00000000e+00,\n",
              "         0.00000000e+00, 0.00000000e+00, 0.00000000e+00, 0.00000000e+00,\n",
              "         0.00000000e+00, 0.00000000e+00, 0.00000000e+00, 0.00000000e+00,\n",
              "         0.00000000e+00, 0.00000000e+00, 0.00000000e+00, 0.00000000e+00,\n",
              "         0.00000000e+00, 0.00000000e+00, 0.00000000e+00, 0.00000000e+00,\n",
              "         0.00000000e+00, 0.00000000e+00, 0.00000000e+00, 0.00000000e+00,\n",
              "         0.00000000e+00, 0.00000000e+00, 0.00000000e+00, 0.00000000e+00,\n",
              "         0.00000000e+00, 0.00000000e+00, 0.00000000e+00, 0.00000000e+00,\n",
              "         0.00000000e+00, 0.00000000e+00, 0.00000000e+00, 0.00000000e+00,\n",
              "         0.00000000e+00, 0.00000000e+00, 0.00000000e+00, 0.00000000e+00,\n",
              "         0.00000000e+00, 0.00000000e+00, 0.00000000e+00, 0.00000000e+00,\n",
              "         0.00000000e+00, 0.00000000e+00, 0.00000000e+00, 0.00000000e+00,\n",
              "         0.00000000e+00, 0.00000000e+00, 0.00000000e+00, 0.00000000e+00,\n",
              "         0.00000000e+00, 0.00000000e+00, 0.00000000e+00, 0.00000000e+00,\n",
              "         0.00000000e+00, 0.00000000e+00, 0.00000000e+00, 0.00000000e+00,\n",
              "         0.00000000e+00, 0.00000000e+00, 0.00000000e+00, 0.00000000e+00,\n",
              "         0.00000000e+00, 0.00000000e+00, 0.00000000e+00, 0.00000000e+00,\n",
              "         0.00000000e+00, 0.00000000e+00, 0.00000000e+00, 0.00000000e+00,\n",
              "         0.00000000e+00, 0.00000000e+00, 0.00000000e+00, 0.00000000e+00,\n",
              "         0.00000000e+00, 0.00000000e+00, 0.00000000e+00, 0.00000000e+00,\n",
              "         0.00000000e+00, 0.00000000e+00, 0.00000000e+00, 0.00000000e+00,\n",
              "         0.00000000e+00, 0.00000000e+00, 0.00000000e+00, 0.00000000e+00,\n",
              "         0.00000000e+00, 0.00000000e+00, 0.00000000e+00, 0.00000000e+00,\n",
              "         0.00000000e+00, 0.00000000e+00, 0.00000000e+00, 0.00000000e+00,\n",
              "         0.00000000e+00, 0.00000000e+00, 0.00000000e+00, 0.00000000e+00,\n",
              "         0.00000000e+00, 0.00000000e+00, 0.00000000e+00, 0.00000000e+00,\n",
              "         0.00000000e+00, 0.00000000e+00, 0.00000000e+00, 0.00000000e+00,\n",
              "         0.00000000e+00, 0.00000000e+00, 0.00000000e+00, 0.00000000e+00,\n",
              "         0.00000000e+00, 0.00000000e+00, 0.00000000e+00, 0.00000000e+00,\n",
              "         0.00000000e+00, 0.00000000e+00, 0.00000000e+00, 0.00000000e+00,\n",
              "         0.00000000e+00, 0.00000000e+00, 0.00000000e+00, 0.00000000e+00,\n",
              "         0.00000000e+00, 0.00000000e+00, 0.00000000e+00, 0.00000000e+00,\n",
              "         0.00000000e+00, 0.00000000e+00, 0.00000000e+00, 0.00000000e+00,\n",
              "         0.00000000e+00, 0.00000000e+00, 0.00000000e+00, 0.00000000e+00,\n",
              "         0.00000000e+00, 0.00000000e+00, 0.00000000e+00, 0.00000000e+00,\n",
              "         0.00000000e+00, 0.00000000e+00, 0.00000000e+00, 0.00000000e+00,\n",
              "         0.00000000e+00, 0.00000000e+00, 0.00000000e+00, 0.00000000e+00,\n",
              "         0.00000000e+00, 0.00000000e+00, 0.00000000e+00, 0.00000000e+00,\n",
              "         0.00000000e+00, 0.00000000e+00, 0.00000000e+00, 0.00000000e+00,\n",
              "         0.00000000e+00, 0.00000000e+00, 0.00000000e+00, 0.00000000e+00,\n",
              "         0.00000000e+00, 0.00000000e+00, 0.00000000e+00, 0.00000000e+00,\n",
              "         0.00000000e+00, 0.00000000e+00, 0.00000000e+00, 0.00000000e+00,\n",
              "         0.00000000e+00, 0.00000000e+00, 0.00000000e+00, 0.00000000e+00,\n",
              "         0.00000000e+00, 0.00000000e+00, 0.00000000e+00, 0.00000000e+00,\n",
              "         0.00000000e+00, 0.00000000e+00, 0.00000000e+00, 0.00000000e+00,\n",
              "         0.00000000e+00, 0.00000000e+00, 0.00000000e+00, 0.00000000e+00,\n",
              "         0.00000000e+00, 0.00000000e+00, 0.00000000e+00, 0.00000000e+00,\n",
              "         0.00000000e+00, 0.00000000e+00, 0.00000000e+00, 0.00000000e+00,\n",
              "         0.00000000e+00, 0.00000000e+00, 0.00000000e+00, 0.00000000e+00,\n",
              "         0.00000000e+00, 0.00000000e+00, 0.00000000e+00, 0.00000000e+00,\n",
              "         0.00000000e+00, 0.00000000e+00, 0.00000000e+00, 0.00000000e+00,\n",
              "         0.00000000e+00, 0.00000000e+00, 0.00000000e+00, 0.00000000e+00,\n",
              "         0.00000000e+00, 0.00000000e+00, 0.00000000e+00, 0.00000000e+00,\n",
              "         0.00000000e+00, 0.00000000e+00, 0.00000000e+00, 0.00000000e+00,\n",
              "         0.00000000e+00, 0.00000000e+00, 0.00000000e+00, 0.00000000e+00,\n",
              "         0.00000000e+00, 0.00000000e+00, 0.00000000e+00, 0.00000000e+00,\n",
              "         0.00000000e+00, 0.00000000e+00, 0.00000000e+00, 0.00000000e+00,\n",
              "         0.00000000e+00, 0.00000000e+00, 0.00000000e+00, 0.00000000e+00,\n",
              "         0.00000000e+00, 0.00000000e+00, 0.00000000e+00, 0.00000000e+00,\n",
              "         0.00000000e+00, 0.00000000e+00, 0.00000000e+00, 0.00000000e+00,\n",
              "         0.00000000e+00, 0.00000000e+00, 0.00000000e+00, 0.00000000e+00,\n",
              "         0.00000000e+00, 0.00000000e+00, 0.00000000e+00, 0.00000000e+00,\n",
              "         0.00000000e+00, 0.00000000e+00, 0.00000000e+00, 0.00000000e+00,\n",
              "         0.00000000e+00, 0.00000000e+00, 0.00000000e+00, 0.00000000e+00,\n",
              "         0.00000000e+00, 0.00000000e+00, 0.00000000e+00, 0.00000000e+00,\n",
              "         0.00000000e+00, 0.00000000e+00, 0.00000000e+00, 0.00000000e+00,\n",
              "         0.00000000e+00, 0.00000000e+00, 0.00000000e+00, 0.00000000e+00,\n",
              "         0.00000000e+00, 0.00000000e+00, 0.00000000e+00, 0.00000000e+00,\n",
              "         0.00000000e+00, 0.00000000e+00, 0.00000000e+00, 0.00000000e+00,\n",
              "         0.00000000e+00, 0.00000000e+00, 0.00000000e+00, 0.00000000e+00,\n",
              "         0.00000000e+00, 0.00000000e+00, 0.00000000e+00, 0.00000000e+00,\n",
              "         0.00000000e+00, 0.00000000e+00, 0.00000000e+00, 0.00000000e+00,\n",
              "         0.00000000e+00, 0.00000000e+00, 0.00000000e+00, 0.00000000e+00,\n",
              "         0.00000000e+00, 0.00000000e+00, 0.00000000e+00, 0.00000000e+00,\n",
              "         0.00000000e+00, 0.00000000e+00, 0.00000000e+00, 0.00000000e+00,\n",
              "         0.00000000e+00, 0.00000000e+00, 0.00000000e+00, 0.00000000e+00,\n",
              "         0.00000000e+00, 0.00000000e+00, 0.00000000e+00, 0.00000000e+00,\n",
              "         0.00000000e+00, 0.00000000e+00, 0.00000000e+00, 0.00000000e+00,\n",
              "         0.00000000e+00, 0.00000000e+00, 0.00000000e+00, 0.00000000e+00,\n",
              "         0.00000000e+00, 0.00000000e+00, 0.00000000e+00, 0.00000000e+00,\n",
              "         0.00000000e+00, 0.00000000e+00, 0.00000000e+00, 0.00000000e+00,\n",
              "         0.00000000e+00, 0.00000000e+00, 0.00000000e+00, 0.00000000e+00,\n",
              "         0.00000000e+00, 0.00000000e+00, 0.00000000e+00, 0.00000000e+00,\n",
              "         0.00000000e+00, 0.00000000e+00, 0.00000000e+00, 0.00000000e+00,\n",
              "         0.00000000e+00, 0.00000000e+00, 0.00000000e+00, 0.00000000e+00,\n",
              "         0.00000000e+00, 0.00000000e+00, 0.00000000e+00, 0.00000000e+00,\n",
              "         0.00000000e+00, 0.00000000e+00, 0.00000000e+00, 0.00000000e+00,\n",
              "         0.00000000e+00, 0.00000000e+00, 0.00000000e+00, 0.00000000e+00,\n",
              "         0.00000000e+00, 0.00000000e+00, 0.00000000e+00, 0.00000000e+00,\n",
              "         0.00000000e+00, 0.00000000e+00, 0.00000000e+00, 0.00000000e+00,\n",
              "         0.00000000e+00, 0.00000000e+00, 0.00000000e+00, 0.00000000e+00,\n",
              "         0.00000000e+00, 0.00000000e+00, 0.00000000e+00, 0.00000000e+00,\n",
              "         0.00000000e+00, 0.00000000e+00, 0.00000000e+00, 0.00000000e+00,\n",
              "         0.00000000e+00, 0.00000000e+00, 0.00000000e+00, 0.00000000e+00,\n",
              "         0.00000000e+00, 0.00000000e+00, 0.00000000e+00, 0.00000000e+00,\n",
              "         0.00000000e+00, 0.00000000e+00, 0.00000000e+00, 0.00000000e+00,\n",
              "         0.00000000e+00, 0.00000000e+00, 0.00000000e+00, 0.00000000e+00,\n",
              "         0.00000000e+00, 0.00000000e+00, 0.00000000e+00, 0.00000000e+00,\n",
              "         0.00000000e+00, 0.00000000e+00, 0.00000000e+00, 0.00000000e+00,\n",
              "         0.00000000e+00, 0.00000000e+00, 0.00000000e+00, 0.00000000e+00,\n",
              "         0.00000000e+00, 0.00000000e+00, 0.00000000e+00, 0.00000000e+00,\n",
              "         0.00000000e+00, 0.00000000e+00, 0.00000000e+00, 0.00000000e+00,\n",
              "         0.00000000e+00, 0.00000000e+00, 0.00000000e+00, 0.00000000e+00,\n",
              "         0.00000000e+00, 0.00000000e+00, 0.00000000e+00, 0.00000000e+00,\n",
              "         0.00000000e+00, 0.00000000e+00, 0.00000000e+00, 0.00000000e+00,\n",
              "         0.00000000e+00, 0.00000000e+00, 0.00000000e+00, 0.00000000e+00,\n",
              "         0.00000000e+00, 0.00000000e+00, 0.00000000e+00, 0.00000000e+00,\n",
              "         0.00000000e+00, 0.00000000e+00, 0.00000000e+00, 0.00000000e+00,\n",
              "         0.00000000e+00, 0.00000000e+00, 0.00000000e+00, 0.00000000e+00,\n",
              "         0.00000000e+00, 0.00000000e+00, 0.00000000e+00, 0.00000000e+00,\n",
              "         0.00000000e+00, 0.00000000e+00, 0.00000000e+00, 0.00000000e+00,\n",
              "         0.00000000e+00, 0.00000000e+00, 0.00000000e+00, 0.00000000e+00,\n",
              "         0.00000000e+00, 0.00000000e+00, 0.00000000e+00, 0.00000000e+00,\n",
              "         0.00000000e+00, 0.00000000e+00, 0.00000000e+00, 0.00000000e+00,\n",
              "         0.00000000e+00, 0.00000000e+00, 0.00000000e+00, 0.00000000e+00,\n",
              "         0.00000000e+00, 0.00000000e+00, 0.00000000e+00, 0.00000000e+00,\n",
              "         0.00000000e+00, 0.00000000e+00, 0.00000000e+00, 0.00000000e+00,\n",
              "         0.00000000e+00, 0.00000000e+00, 0.00000000e+00, 0.00000000e+00,\n",
              "         0.00000000e+00, 0.00000000e+00, 0.00000000e+00, 0.00000000e+00,\n",
              "         0.00000000e+00, 0.00000000e+00, 0.00000000e+00, 0.00000000e+00,\n",
              "         0.00000000e+00, 0.00000000e+00, 0.00000000e+00, 0.00000000e+00,\n",
              "         0.00000000e+00, 0.00000000e+00, 0.00000000e+00, 0.00000000e+00,\n",
              "         0.00000000e+00, 0.00000000e+00, 0.00000000e+00, 0.00000000e+00,\n",
              "         0.00000000e+00, 0.00000000e+00, 0.00000000e+00, 0.00000000e+00,\n",
              "         0.00000000e+00, 0.00000000e+00, 0.00000000e+00, 0.00000000e+00,\n",
              "         0.00000000e+00, 0.00000000e+00, 0.00000000e+00, 0.00000000e+00,\n",
              "         0.00000000e+00, 0.00000000e+00, 0.00000000e+00, 0.00000000e+00,\n",
              "         0.00000000e+00, 0.00000000e+00, 0.00000000e+00, 0.00000000e+00,\n",
              "         0.00000000e+00, 0.00000000e+00, 0.00000000e+00, 0.00000000e+00,\n",
              "         0.00000000e+00, 0.00000000e+00, 0.00000000e+00, 0.00000000e+00,\n",
              "         0.00000000e+00, 0.00000000e+00, 0.00000000e+00, 0.00000000e+00,\n",
              "         0.00000000e+00, 0.00000000e+00]),\n",
              "  array([4.44687805e+02, 7.87858537e+02, 1.09908780e+03, 1.43556585e+03,\n",
              "         1.70263415e+03, 1.96431951e+03, 2.19079024e+03, 2.40685366e+03,\n",
              "         2.56497317e+03, 2.78085366e+03, 2.90332195e+03, 3.05876585e+03,\n",
              "         3.20200488e+03, 3.39116098e+03, 3.47631951e+03, 3.58523171e+03,\n",
              "         3.59412683e+03, 3.68472439e+03, 3.77797073e+03, 3.84353902e+03,\n",
              "         3.93560244e+03, 3.96246585e+03, 4.11666098e+03, 4.11083902e+03,\n",
              "         4.08180976e+03, 4.00032439e+03, 4.13747561e+03, 4.07361463e+03,\n",
              "         4.05636098e+03, 4.06236829e+03, 3.99086585e+03, 3.89534634e+03,\n",
              "         3.80920732e+03, 3.69051707e+03, 3.55020488e+03, 3.54500488e+03,\n",
              "         3.56337561e+03, 3.48629756e+03, 3.54449512e+03, 3.42584878e+03,\n",
              "         3.38998293e+03, 3.30400732e+03, 3.25160488e+03, 3.32193415e+03,\n",
              "         3.27073659e+03, 3.28988293e+03, 3.15675366e+03, 3.12201220e+03,\n",
              "         2.90525366e+03, 3.09687805e+03, 3.13097317e+03, 3.13666585e+03,\n",
              "         3.14983659e+03, 3.05133415e+03, 3.09604390e+03, 3.09583902e+03,\n",
              "         3.11184390e+03, 3.08041463e+03, 3.07799268e+03, 3.03084634e+03,\n",
              "         3.11481463e+03, 2.99462439e+03, 2.87258049e+03, 3.03512195e+03,\n",
              "         2.96212927e+03, 3.01834878e+03, 2.93348537e+03, 3.14676098e+03,\n",
              "         3.07367805e+03, 3.10303415e+03, 3.18736098e+03, 3.26354878e+03,\n",
              "         3.29272927e+03, 3.30872195e+03, 3.30814634e+03, 3.27403171e+03,\n",
              "         3.31026829e+03, 3.25410244e+03, 3.30189024e+03, 3.28306585e+03,\n",
              "         3.43717805e+03, 3.47499756e+03, 3.43057561e+03, 3.40148780e+03,\n",
              "         3.41436341e+03, 3.44916585e+03, 3.52982683e+03, 3.53805122e+03,\n",
              "         3.57777805e+03, 3.67459024e+03, 3.63651220e+03, 3.66809512e+03,\n",
              "         3.63008293e+03, 3.72440488e+03, 3.74216585e+03, 3.73794878e+03,\n",
              "         3.76632439e+03, 3.77193659e+03, 3.74873659e+03, 3.75681951e+03,\n",
              "         3.85187317e+03, 3.83094634e+03, 3.84132683e+03, 3.90547073e+03,\n",
              "         3.81565366e+03, 3.99986341e+03, 3.99846341e+03, 4.01206585e+03,\n",
              "         3.98157805e+03, 3.93712683e+03, 4.02433659e+03, 4.06612927e+03,\n",
              "         4.09975366e+03, 4.13631463e+03, 4.19075366e+03, 4.24934878e+03,\n",
              "         4.04575610e+03, 4.10797073e+03, 4.05077317e+03, 4.00420000e+03,\n",
              "         3.95713659e+03, 4.10706098e+03, 4.18807561e+03, 4.08039024e+03,\n",
              "         4.06522439e+03, 4.11030976e+03, 4.05438780e+03, 4.03137805e+03,\n",
              "         3.97697561e+03, 4.17533171e+03, 4.06224878e+03, 3.97082927e+03,\n",
              "         4.07049268e+03, 4.02813659e+03, 4.10937317e+03, 4.07778293e+03,\n",
              "         3.96635122e+03, 3.99338780e+03, 3.95800976e+03, 3.96602195e+03,\n",
              "         4.03222683e+03, 3.96652439e+03, 4.00574634e+03, 3.94260000e+03,\n",
              "         3.85487073e+03, 3.92057561e+03, 3.86746098e+03, 3.93968049e+03,\n",
              "         3.99892683e+03, 3.89085122e+03, 3.89875854e+03, 3.96500488e+03,\n",
              "         3.98408293e+03, 3.92927317e+03, 3.89329268e+03, 3.94754390e+03,\n",
              "         3.92265854e+03, 3.86984390e+03, 3.78374146e+03, 3.79098049e+03,\n",
              "         3.82199268e+03, 3.86764390e+03, 3.89547317e+03, 3.92044878e+03,\n",
              "         3.74641951e+03, 3.84778049e+03, 3.63254146e+03, 3.67895122e+03,\n",
              "         3.72004146e+03, 3.75024146e+03, 3.68102683e+03, 3.64863902e+03,\n",
              "         3.82004146e+03, 3.63429024e+03, 3.68373415e+03, 3.81701463e+03,\n",
              "         3.68205122e+03, 3.81960732e+03, 3.68211463e+03, 3.55317805e+03,\n",
              "         3.59322195e+03, 3.60984878e+03, 3.56664634e+03, 3.73263902e+03,\n",
              "         3.41016829e+03, 3.72877073e+03, 3.87371220e+03, 3.65741951e+03,\n",
              "         3.65158537e+03, 3.64318780e+03, 3.57322439e+03, 3.50136341e+03,\n",
              "         3.57896829e+03, 3.45203415e+03, 3.49280732e+03, 3.52301707e+03,\n",
              "         3.64030488e+03, 3.60663415e+03, 3.62513902e+03, 3.49570732e+03,\n",
              "         3.61273171e+03, 3.62175610e+03, 3.50970488e+03, 3.38577805e+03,\n",
              "         3.50563171e+03, 3.54075122e+03, 3.55037805e+03, 3.39804634e+03,\n",
              "         3.59571463e+03, 3.60409024e+03, 3.76391220e+03, 3.67719268e+03,\n",
              "         3.68963659e+03, 3.69765610e+03, 3.53425366e+03, 3.57286585e+03,\n",
              "         3.53215854e+03, 3.43132927e+03, 3.32202439e+03, 3.31443659e+03,\n",
              "         3.51517317e+03, 3.47696829e+03, 3.61523171e+03, 3.58443415e+03,\n",
              "         3.62103415e+03, 3.51020732e+03, 3.36872927e+03, 3.53651707e+03,\n",
              "         3.54543902e+03, 3.44967561e+03, 3.61132439e+03, 3.42020244e+03,\n",
              "         3.47207317e+03, 3.48628049e+03, 3.61219512e+03, 3.70030244e+03,\n",
              "         3.45654634e+03, 3.52723415e+03, 3.56791951e+03, 3.45628780e+03,\n",
              "         3.41607073e+03, 3.49821463e+03, 3.57185366e+03, 3.35079024e+03,\n",
              "         3.35774390e+03, 3.38349024e+03, 3.33512927e+03, 3.31766829e+03,\n",
              "         3.47855610e+03, 3.39120488e+03, 3.44405854e+03, 3.39133659e+03,\n",
              "         3.23083902e+03, 3.15695854e+03, 3.27690000e+03, 3.12007805e+03,\n",
              "         3.13994878e+03, 3.13723415e+03, 3.13635366e+03, 3.11347073e+03,\n",
              "         2.95862683e+03, 3.03742683e+03, 3.00110732e+03, 3.05385610e+03,\n",
              "         2.89264390e+03, 2.84215122e+03, 2.81504878e+03, 2.79737805e+03,\n",
              "         2.70982683e+03, 2.68683659e+03, 2.66731951e+03, 2.82061463e+03,\n",
              "         2.68460000e+03, 2.66871220e+03, 2.58727073e+03, 2.65734390e+03,\n",
              "         2.50742683e+03, 2.59828293e+03, 2.59179024e+03, 2.39673902e+03,\n",
              "         2.47342439e+03, 2.38818780e+03, 2.41784146e+03, 2.19794878e+03,\n",
              "         2.29387561e+03, 2.30329756e+03, 2.31007073e+03, 2.28237317e+03,\n",
              "         2.18305366e+03, 2.17995610e+03, 2.21822195e+03, 2.09641707e+03,\n",
              "         2.08923659e+03, 2.15120488e+03, 2.38168049e+03, 2.17026341e+03,\n",
              "         2.00075610e+03, 2.09464146e+03, 2.12370244e+03, 2.02296341e+03,\n",
              "         2.06703902e+03, 1.93959756e+03, 1.97950244e+03, 1.90630732e+03,\n",
              "         1.88831951e+03, 1.81089024e+03, 1.82923415e+03, 1.76931707e+03,\n",
              "         1.68772195e+03, 1.86236829e+03, 1.79008780e+03, 1.72092195e+03,\n",
              "         1.74400000e+03, 1.72887317e+03, 1.65132195e+03, 1.69161463e+03,\n",
              "         1.71066098e+03, 1.60367317e+03, 1.66482439e+03, 1.61205122e+03,\n",
              "         1.60780976e+03, 1.63024878e+03, 1.50830976e+03, 1.52142683e+03,\n",
              "         1.57568537e+03, 1.52793902e+03, 1.49086585e+03, 1.42462927e+03,\n",
              "         1.39361220e+03, 1.41539268e+03, 1.37988780e+03, 1.33368049e+03,\n",
              "         1.32212683e+03, 1.31761707e+03, 1.28943415e+03, 1.30867561e+03,\n",
              "         1.33351951e+03, 1.21203415e+03, 1.22678049e+03, 1.15253171e+03,\n",
              "         1.28280244e+03, 1.23246341e+03, 1.17233902e+03, 1.19532927e+03,\n",
              "         1.15241951e+03, 1.16501463e+03, 1.16690488e+03, 1.11342927e+03,\n",
              "         1.01527073e+03, 1.09981220e+03, 1.05031707e+03, 9.98902439e+02,\n",
              "         9.35160976e+02, 9.87617073e+02, 8.85546341e+02, 9.79507317e+02,\n",
              "         8.99407317e+02, 8.78068293e+02, 9.42951220e+02, 9.84907317e+02,\n",
              "         9.55917073e+02, 8.92226829e+02, 9.46902439e+02, 9.76200000e+02,\n",
              "         9.75307317e+02, 8.59612195e+02, 8.18375610e+02, 8.29585366e+02,\n",
              "         8.37336585e+02, 8.38851220e+02, 8.31148780e+02, 7.67331707e+02,\n",
              "         7.64775610e+02, 7.10202439e+02, 7.75919512e+02, 7.33863415e+02,\n",
              "         7.79290244e+02, 7.62190244e+02, 6.34060976e+02, 7.08263415e+02,\n",
              "         7.14043902e+02, 7.69609756e+02, 7.50934146e+02, 7.24712195e+02,\n",
              "         6.34431707e+02, 6.73065854e+02, 6.40836585e+02, 6.06097561e+02,\n",
              "         6.32378049e+02, 6.58836585e+02, 5.85941463e+02, 5.81363415e+02,\n",
              "         5.59473171e+02, 6.04278049e+02, 5.53775610e+02, 4.95446341e+02,\n",
              "         5.08617073e+02, 5.20821951e+02, 5.38658537e+02, 5.65680488e+02,\n",
              "         4.96731707e+02, 5.65912195e+02, 4.73446341e+02, 5.00863415e+02,\n",
              "         5.38129268e+02, 5.18575610e+02, 4.37765854e+02, 4.54492683e+02,\n",
              "         4.28978049e+02, 4.51531707e+02, 4.72802439e+02, 4.21282927e+02,\n",
              "         4.12207317e+02, 4.79321951e+02, 4.58060976e+02, 4.58387805e+02,\n",
              "         4.56804878e+02, 3.68785366e+02, 4.01517073e+02, 3.95012195e+02,\n",
              "         4.33292683e+02, 4.49370732e+02, 4.32124390e+02, 4.06517073e+02,\n",
              "         4.51924390e+02, 4.34702439e+02, 4.95839024e+02, 4.08651220e+02,\n",
              "         3.42346341e+02, 3.72024390e+02, 3.95609756e+02, 4.40587805e+02,\n",
              "         3.77136585e+02, 4.05590244e+02, 4.49321951e+02, 4.49926829e+02,\n",
              "         4.06802439e+02, 3.83860976e+02, 4.37641463e+02, 4.20304878e+02,\n",
              "         3.80173171e+02, 3.68258537e+02, 3.37317073e+02, 3.38148780e+02,\n",
              "         3.61717073e+02, 2.79104878e+02, 3.24656098e+02, 3.97260976e+02,\n",
              "         3.43512195e+02, 2.88029268e+02, 3.19421951e+02, 3.36636585e+02,\n",
              "         3.06173171e+02, 3.64446341e+02, 3.68026829e+02, 3.46582927e+02,\n",
              "         4.09534146e+02, 3.20107317e+02, 3.14904878e+02, 2.96036585e+02,\n",
              "         2.93814634e+02, 3.29651220e+02, 3.06802439e+02, 2.80136585e+02,\n",
              "         3.04241463e+02, 2.88948780e+02, 2.97253659e+02, 2.69012195e+02,\n",
              "         2.60648780e+02, 2.50236585e+02, 2.67304878e+02, 2.55395122e+02,\n",
              "         2.71507317e+02, 2.69814634e+02, 2.63695122e+02, 2.98382927e+02,\n",
              "         2.87360976e+02, 2.72226829e+02, 2.65639024e+02, 2.96992683e+02,\n",
              "         2.32490244e+02, 2.21921951e+02, 2.57431707e+02, 3.09829268e+02,\n",
              "         2.73560976e+02, 2.67351220e+02, 2.19536585e+02, 2.27317073e+02,\n",
              "         2.08660976e+02, 2.03478049e+02, 2.34631707e+02, 2.12658537e+02,\n",
              "         1.79219512e+02, 1.89390244e+02, 1.95965854e+02, 1.82746341e+02,\n",
              "         1.90673171e+02, 2.08246341e+02, 1.86046341e+02, 1.61973171e+02,\n",
              "         1.87282927e+02, 1.90768293e+02, 1.47775610e+02, 1.79314634e+02,\n",
              "         2.05870732e+02, 1.79173171e+02, 1.85939024e+02, 1.74012195e+02,\n",
              "         2.02170732e+02, 2.19760976e+02, 1.87656098e+02, 1.89226829e+02,\n",
              "         2.07931707e+02, 1.85936585e+02, 1.96500000e+02, 1.79646341e+02,\n",
              "         1.83092683e+02, 1.57136585e+02, 1.09658537e+02, 1.37207317e+02,\n",
              "         1.47253659e+02, 1.49117073e+02, 1.88863415e+02, 1.50585366e+02,\n",
              "         1.34702439e+02, 1.07843902e+02, 1.70146341e+02, 1.56756098e+02,\n",
              "         1.64614634e+02, 1.53475610e+02, 1.48873171e+02, 1.21356098e+02,\n",
              "         1.55419512e+02, 1.25543902e+02, 1.47009756e+02, 1.39112195e+02,\n",
              "         1.29468293e+02, 1.21639024e+02, 9.95658537e+01, 8.90975610e+01,\n",
              "         9.51951220e+01, 9.63170732e+01, 1.06841463e+02, 9.32170732e+01,\n",
              "         9.25365854e+01, 1.03604878e+02, 1.20070732e+02, 9.49243902e+01,\n",
              "         7.59268293e+01, 1.06995122e+02, 1.04231707e+02, 7.91804878e+01,\n",
              "         9.06658537e+01, 1.13719512e+02, 1.17400000e+02, 1.18056098e+02,\n",
              "         1.02809756e+02, 1.04890244e+02, 8.83414634e+01, 8.28609756e+01,\n",
              "         7.23463415e+01, 9.83853659e+01, 8.12146341e+01, 1.05102439e+02,\n",
              "         8.63707317e+01, 7.94000000e+01, 8.62219512e+01, 8.89439024e+01,\n",
              "         6.03195122e+01, 7.06219512e+01, 9.04170732e+01, 7.91000000e+01,\n",
              "         1.01326829e+02, 8.69048780e+01, 7.33463415e+01, 1.10648780e+02,\n",
              "         7.25195122e+01, 8.58756098e+01, 8.95243902e+01, 7.85073171e+01,\n",
              "         8.30780488e+01, 7.44390244e+01, 7.41878049e+01, 7.63878049e+01,\n",
              "         7.74024390e+01, 7.17097561e+01, 6.34975610e+01, 7.28439024e+01,\n",
              "         3.82731707e+01, 7.28000000e+01, 7.52390244e+01, 6.34926829e+01,\n",
              "         7.61487805e+01, 7.02219512e+01, 7.47000000e+01, 6.29195122e+01,\n",
              "         7.36902439e+01, 7.83536585e+01, 5.19658537e+01, 8.64975610e+01,\n",
              "         7.84024390e+01, 9.12024390e+01, 7.99707317e+01, 4.39853659e+01,\n",
              "         6.36170732e+01, 7.00341463e+01, 6.90780488e+01, 5.95292683e+01,\n",
              "         6.83536585e+01, 4.85902439e+01, 6.01121951e+01, 6.50756098e+01,\n",
              "         7.57121951e+01, 5.41512195e+01, 6.16341463e+01, 6.80195122e+01,\n",
              "         3.65707317e+01, 5.33512195e+01, 2.54414634e+01, 3.14951220e+01,\n",
              "         5.00707317e+01, 5.03268293e+01, 2.41463415e+01, 5.02073171e+01,\n",
              "         4.31317073e+01, 5.85634146e+01, 5.03682927e+01, 5.13682927e+01,\n",
              "         5.43439024e+01, 4.37292683e+01, 3.00097561e+01, 6.18951220e+01,\n",
              "         5.44146341e+01, 3.88243902e+01, 5.23560976e+01, 2.91000000e+01,\n",
              "         2.69951220e+01, 2.76170732e+01, 2.11463415e+01, 2.51975610e+01,\n",
              "         2.20609756e+01, 1.20317073e+01, 2.96439024e+01, 2.03560976e+01,\n",
              "         4.51463415e+00, 1.60902439e+01, 5.21951220e-01, 1.47121951e+01,\n",
              "         8.71707317e+00, 1.07439024e+01, 1.65365854e+00, 1.61853659e+01,\n",
              "         7.99268293e+00, 1.21951220e+01, 4.76585366e+00, 1.00000000e+01,\n",
              "         9.69756098e+00, 8.09024390e+00, 1.05487805e+01, 7.46341463e+00,\n",
              "         1.28536585e+00, 7.32195122e+00, 6.09756098e-01, 3.59268293e+00,\n",
              "         5.07317073e-01, 8.40487805e+00, 2.50731707e+00, 1.63926829e+01,\n",
              "         7.25609756e+00, 1.60292683e+01])],\n",
              " [array([[ 61,  61,  76, ...,   0,   0,   0],\n",
              "         [463, 841, 841, ...,   0,   0,   0],\n",
              "         [441, 441, 463, ...,   0,   0,   0],\n",
              "         ...,\n",
              "         [441, 463, 841, ...,   0,   0,   0],\n",
              "         [463, 841, 841, ...,   0,   0,   0],\n",
              "         [ 89, 463, 841, ...,   0,   0,   0]]),\n",
              "  array([[ 463,  841, 1116, ...,    0,    0,    0],\n",
              "         [ 441,  441,  441, ...,    0,    0,    0],\n",
              "         [  76,  296,  335, ...,    0,    0,    0],\n",
              "         ...,\n",
              "         [ 463,  841,  841, ...,    0,    0,    0],\n",
              "         [ 463,  841, 2275, ...,    0,    0,    0],\n",
              "         [  89,  463,  841, ...,    0,    0,    0]]),\n",
              "  array([[ 463,  841,  841, ...,    0,    0,    0],\n",
              "         [ 463, 2640, 2640, ...,    0,    0,    0],\n",
              "         [ 463, 2640, 3534, ...,    0,    0,    0],\n",
              "         ...,\n",
              "         [ 463,  841, 2640, ...,    0,    0,    0],\n",
              "         [  89,   89,  463, ...,    0,    0,    0],\n",
              "         [  89,   89,  463, ...,    0,    0,    0]]),\n",
              "  array([[ 463,  841,  841, ...,    0,    0,    0],\n",
              "         [ 463,  841, 1206, ...,    0,    0,    0],\n",
              "         [ 463, 1267, 1919, ...,    0,    0,    0],\n",
              "         ...,\n",
              "         [  89,  463,  841, ...,    0,    0,    0],\n",
              "         [  89,  441,  441, ...,    0,    0,    0],\n",
              "         [  61,  463,  841, ...,    0,    0,    0]])])"
            ]
          },
          "execution_count": 172,
          "metadata": {},
          "output_type": "execute_result"
        }
      ],
      "source": [
        "kmeans(doc_list, 4, max_iterations=100, tol=1e-04)"
      ]
    },
    {
      "cell_type": "markdown",
      "metadata": {
        "id": "TcxRYU6Aas3e"
      },
      "source": [
        "### Visualisation of the clusters using PCA"
      ]
    },
    {
      "cell_type": "code",
      "execution_count": null,
      "metadata": {
        "id": "ui-RmX2Ras3e",
        "outputId": "94ef83eb-754f-405b-e5c1-9f6df6b8acda"
      },
      "outputs": [
        {
          "data": {
            "image/png": "[encoded data removed]",
            "text/plain": [
              "<Figure size 432x288 with 1 Axes>"
            ]
          },
          "metadata": {
            "needs_background": "light"
          },
          "output_type": "display_data"
        }
      ],
      "source": [
        "# Flatten the array of clusters\n",
        "\n",
        "res = kmeans(doc_list, 4, max_iterations=100, tol=1e-04)\n",
        "array_of_clusters = res[1]\n",
        "flattened_clusters = np.concatenate(array_of_clusters)\n",
        "\n",
        "# Perform PCA to reduce dimensions\n",
        "pca = PCA(n_components=2)\n",
        "transformed_clusters = pca.fit_transform(flattened_clusters)\n",
        "\n",
        "# Plot the clusters\n",
        "colors = ['black', 'green', 'red', 'yellow', 'm', 'cyan']  # Define colors for clusters\n",
        "for i, cluster in enumerate(array_of_clusters):\n",
        "    transformed_cluster = pca.transform(cluster)\n",
        "    plt.scatter(transformed_cluster[:, 0], transformed_cluster[:, 1], color=colors[i], label=f'Cluster {i+1}', alpha=0.5)\n",
        "\n",
        "plt.xlabel('Principal Component 1')\n",
        "plt.ylabel('Principal Component 2')\n",
        "plt.title('Clusters Visualization using PCA')\n",
        "plt.legend()\n",
        "plt.show()"
      ]
    },
    {
      "cell_type": "markdown",
      "metadata": {
        "id": "pkVrxom_as3e"
      },
      "source": [
        "### Finding the optimal k"
      ]
    },
    {
      "cell_type": "code",
      "execution_count": null,
      "metadata": {
        "id": "mClWMRx_as3e"
      },
      "outputs": [],
      "source": [
        "np.random.seed(0)\n",
        "k_list = range(3,16)\n",
        "inertia_values = []\n",
        "for k in k_list:\n",
        "    centroids, clusters = kmeans(doc_list, k)\n",
        "    inertia = compute_inertia(centroids, clusters)\n",
        "    inertia_values.append(inertia)"
      ]
    },
    {
      "cell_type": "code",
      "execution_count": null,
      "metadata": {
        "id": "Db6YLWAEas3e",
        "outputId": "80658048-14b0-4069-ed28-77e7471b4e4d"
      },
      "outputs": [
        {
          "data": {
            "text/plain": [
              "([2559160645885.465,\n",
              "  2354579757935.886,\n",
              "  2226132035025.147,\n",
              "  2152686674161.5242,\n",
              "  2094691931230.697,\n",
              "  2090096062555.5488,\n",
              "  2015073652338.3865,\n",
              "  1979337874760.2874,\n",
              "  1961110828042.6755,\n",
              "  1931123081639.9297,\n",
              "  1915682967972.4336,\n",
              "  1901650982305.5918,\n",
              "  1915692456642.2183],\n",
              " range(3, 16))"
            ]
          },
          "execution_count": 175,
          "metadata": {},
          "output_type": "execute_result"
        }
      ],
      "source": [
        "inertia_values, k_list"
      ]
    },
    {
      "cell_type": "code",
      "execution_count": null,
      "metadata": {
        "scrolled": true,
        "id": "_OfIj3jSas3e",
        "outputId": "c3e24f92-4813-4cb0-a59c-46a1998c4bf3"
      },
      "outputs": [
        {
          "data": {
            "image/png": "[encoded data removed]",
            "text/plain": [
              "<Figure size 432x288 with 1 Axes>"
            ]
          },
          "metadata": {
            "needs_background": "light"
          },
          "output_type": "display_data"
        }
      ],
      "source": [
        "points = [(2559160645885.4650, 3),\n",
        "          (2354579757935.8860, 4),\n",
        "          (2226132035025.1470, 5),\n",
        "          (2152686674161.5242, 6),\n",
        "          (2094691931230.6970, 7),\n",
        "          (2090096062555.5488, 8),\n",
        "          (2015073652338.3865, 9),\n",
        "          (1979337874760.2874, 10),\n",
        "          (1961110828042.6755, 11),\n",
        "          (1931123081639.9297, 12),\n",
        "          (1915682967972.4336, 13),\n",
        "          (1901650982305.5918, 14)]\n",
        "\n",
        "highlight_point = points[3]\n",
        "\n",
        "x_values = [point[1] for point in points]\n",
        "y_values = [point[0] for point in points]\n",
        "\n",
        "X = np.array(x_values[-7:-1]).reshape(-1, 1)\n",
        "y = np.array(y_values[-7:-1])\n",
        "model = LinearRegression().fit(X, y)\n",
        "\n",
        "first_x = x_values[0]\n",
        "last_x = x_values[-1]\n",
        "first_y = model.predict([[first_x]])[0]\n",
        "last_y = model.predict([[last_x]])[0]\n",
        "\n",
        "plt.scatter(x_values, y_values, color='blue', label='inertia for different values of k')\n",
        "plt.plot(x_values, y_values, color='blue')\n",
        "\n",
        "plt.plot([first_x, last_x], [first_y, last_y], color='red', linestyle='--', label='linear plot for the last few pts')\n",
        "plt.scatter(highlight_point[1], highlight_point[0], color='black', s=100, label='Elbow at k=6')\n",
        "plt.xlabel('k')\n",
        "plt.ylabel('Inertia')\n",
        "plt.title('Best Line Passing Through Last few Points')\n",
        "plt.legend()\n",
        "plt.grid(True)\n",
        "plt.show()"
      ]
    },
    {
      "cell_type": "markdown",
      "metadata": {
        "id": "W_cf86vZas3e"
      },
      "source": [
        "# Clustering the Nips dataset"
      ]
    },
    {
      "cell_type": "code",
      "execution_count": null,
      "metadata": {
        "id": "lnPc6Jxlas3e"
      },
      "outputs": [],
      "source": [
        "merged_df = pd.merge(dnips, vnips, on='Word_id', how='inner')"
      ]
    },
    {
      "cell_type": "code",
      "execution_count": null,
      "metadata": {
        "colab": {
          "base_uri": "https://localhost:8080/"
        },
        "outputId": "1c06790f-c268-4f19-90b8-c92a791583f1",
        "id": "sYjI7Y8gas3e"
      },
      "outputs": [
        {
          "data": {
            "text/plain": [
              "doc_id      0\n",
              "Word_id     0\n",
              "count       0\n",
              "Word       52\n",
              "dtype: int64"
            ]
          },
          "execution_count": 209,
          "metadata": {},
          "output_type": "execute_result"
        }
      ],
      "source": [
        "merged_df.isnull().sum()"
      ]
    },
    {
      "cell_type": "code",
      "execution_count": null,
      "metadata": {
        "colab": {
          "base_uri": "https://localhost:8080/"
        },
        "outputId": "ac28abd0-900a-40a8-9d58-f2eb6fcfc6f6",
        "id": "PMb2yV2kas3e"
      },
      "outputs": [
        {
          "data": {
            "text/plain": [
              "doc_id     0\n",
              "Word_id    0\n",
              "count      0\n",
              "Word       0\n",
              "dtype: int64"
            ]
          },
          "execution_count": 210,
          "metadata": {},
          "output_type": "execute_result"
        }
      ],
      "source": [
        "merged_df = merged_df.dropna()\n",
        "merged_df.isnull().sum()"
      ]
    },
    {
      "cell_type": "code",
      "execution_count": null,
      "metadata": {
        "colab": {
          "base_uri": "https://localhost:8080/",
          "height": 206
        },
        "outputId": "f10b7eaa-3e21-4aae-a735-aee5f3153f71",
        "id": "67WPBWWZas3e"
      },
      "outputs": [
        {
          "data": {
            "text/html": [
              "<div>\n",
              "<style scoped>\n",
              "    .dataframe tbody tr th:only-of-type {\n",
              "        vertical-align: middle;\n",
              "    }\n",
              "\n",
              "    .dataframe tbody tr th {\n",
              "        vertical-align: top;\n",
              "    }\n",
              "\n",
              "    .dataframe thead th {\n",
              "        text-align: right;\n",
              "    }\n",
              "</style>\n",
              "<table border=\"1\" class=\"dataframe\">\n",
              "  <thead>\n",
              "    <tr style=\"text-align: right;\">\n",
              "      <th></th>\n",
              "      <th>doc_id</th>\n",
              "      <th>Word_id</th>\n",
              "      <th>count</th>\n",
              "      <th>Word</th>\n",
              "    </tr>\n",
              "  </thead>\n",
              "  <tbody>\n",
              "    <tr>\n",
              "      <th>0</th>\n",
              "      <td>1</td>\n",
              "      <td>2</td>\n",
              "      <td>1</td>\n",
              "      <td>aaa</td>\n",
              "    </tr>\n",
              "    <tr>\n",
              "      <th>1</th>\n",
              "      <td>8</td>\n",
              "      <td>2</td>\n",
              "      <td>1</td>\n",
              "      <td>aaa</td>\n",
              "    </tr>\n",
              "    <tr>\n",
              "      <th>2</th>\n",
              "      <td>380</td>\n",
              "      <td>2</td>\n",
              "      <td>3</td>\n",
              "      <td>aaa</td>\n",
              "    </tr>\n",
              "    <tr>\n",
              "      <th>3</th>\n",
              "      <td>417</td>\n",
              "      <td>2</td>\n",
              "      <td>1</td>\n",
              "      <td>aaa</td>\n",
              "    </tr>\n",
              "    <tr>\n",
              "      <th>4</th>\n",
              "      <td>744</td>\n",
              "      <td>2</td>\n",
              "      <td>1</td>\n",
              "      <td>aaa</td>\n",
              "    </tr>\n",
              "  </tbody>\n",
              "</table>\n",
              "</div>"
            ],
            "text/plain": [
              "   doc_id  Word_id  count Word\n",
              "0       1        2      1  aaa\n",
              "1       8        2      1  aaa\n",
              "2     380        2      3  aaa\n",
              "3     417        2      1  aaa\n",
              "4     744        2      1  aaa"
            ]
          },
          "execution_count": 211,
          "metadata": {},
          "output_type": "execute_result"
        }
      ],
      "source": [
        "merged_df.head()"
      ]
    },
    {
      "cell_type": "code",
      "execution_count": null,
      "metadata": {
        "colab": {
          "base_uri": "https://localhost:8080/"
        },
        "outputId": "4cbe6b34-56be-4cb7-c8aa-e0aa1d9ad7b1",
        "id": "LJaEr57zas3f"
      },
      "outputs": [
        {
          "name": "stdout",
          "output_type": "stream",
          "text": [
            "max doc_id =  1500\n",
            "min doc_id =  1\n",
            "max Word_id =  12419\n",
            "min Word_id =  1\n",
            "max count =  132\n",
            "min count =  1\n"
          ]
        }
      ],
      "source": [
        "print(\"max doc_id = \",merged_df['doc_id'].max())\n",
        "print(\"min doc_id = \",merged_df['doc_id'].min())\n",
        "print(\"max Word_id = \",merged_df['Word_id'].max())\n",
        "print(\"min Word_id = \",merged_df['Word_id'].min())\n",
        "print(\"max count = \",merged_df['count'].max())\n",
        "print(\"min count = \",merged_df['count'].min())"
      ]
    },
    {
      "cell_type": "code",
      "execution_count": null,
      "metadata": {
        "id": "mcZMJIR4as3f"
      },
      "outputs": [],
      "source": [
        "df = merged_df.copy()\n",
        "counts_dict = {}\n",
        "\n",
        "for index, row in df.iterrows():\n",
        "    doc_id = row['doc_id']\n",
        "    word_id = row['Word_id']\n",
        "    count = row['count']\n",
        "\n",
        "    if doc_id in counts_dict:\n",
        "        counts_dict[doc_id][word_id] = count\n",
        "    else:\n",
        "        counts_dict[doc_id] = {word_id: count}"
      ]
    },
    {
      "cell_type": "code",
      "execution_count": null,
      "metadata": {
        "id": "GwtEAqk8as3f"
      },
      "outputs": [],
      "source": [
        "def sum(dic):\n",
        "  sum = 0\n",
        "  for i in dic.keys():\n",
        "    sum+=dic[i]\n",
        "  return(sum)"
      ]
    },
    {
      "cell_type": "code",
      "execution_count": null,
      "metadata": {
        "colab": {
          "base_uri": "https://localhost:8080/"
        },
        "outputId": "9265abae-6149-4459-e258-3e31ac477bdb",
        "id": "em5Ce8zaas3f"
      },
      "outputs": [
        {
          "name": "stdout",
          "output_type": "stream",
          "text": [
            "2307\n"
          ]
        }
      ],
      "source": [
        "max = 0\n",
        "for i in counts_dict.keys():\n",
        "  if sum(counts_dict[i]) > max:\n",
        "    max = sum(counts_dict[i])\n",
        "print(max)"
      ]
    },
    {
      "cell_type": "code",
      "execution_count": null,
      "metadata": {
        "id": "1VpAfS91as3f"
      },
      "outputs": [],
      "source": [
        "doc_dic = {}\n",
        "for i in range(1, merged_df['doc_id'].max()+1):\n",
        "  doc_dic[i] = []\n",
        "for i in doc_dic.keys():\n",
        "  for j in counts_dict[i].keys():\n",
        "    doc_dic[i] += [j for _ in range(counts_dict[i][j])]\n",
        "  diff = max - len(doc_dic[i])\n",
        "  doc_dic[i] += [0 for _ in range(diff)]"
      ]
    },
    {
      "cell_type": "code",
      "execution_count": null,
      "metadata": {
        "colab": {
          "base_uri": "https://localhost:8080/"
        },
        "outputId": "aeff2d1c-c311-4895-aeab-695fec02d5a3",
        "id": "tgrMi--Kas3f"
      },
      "outputs": [
        {
          "data": {
            "text/plain": [
              "(2307, 2307)"
            ]
          },
          "execution_count": 217,
          "metadata": {},
          "output_type": "execute_result"
        }
      ],
      "source": [
        "len(doc_dic[3]), len(doc_dic[567])"
      ]
    },
    {
      "cell_type": "code",
      "execution_count": null,
      "metadata": {
        "id": "-6jFu9O9as3f"
      },
      "outputs": [],
      "source": [
        "doc_list = np.array([doc_dic[i] for i in doc_dic.keys()])"
      ]
    },
    {
      "cell_type": "code",
      "execution_count": null,
      "metadata": {
        "outputId": "f998c5d0-e33d-40d7-efb8-f385fa0b0d54",
        "scrolled": false,
        "id": "SrcfvQZ6as3f"
      },
      "outputs": [
        {
          "data": {
            "text/plain": [
              "([array([ 38.82580645, 103.36774194, 139.30967742, ...,   0.        ,\n",
              "           0.        ,   0.        ]),\n",
              "  array([ 40.00757576,  90.95454545, 115.37121212, ...,   6.02272727,\n",
              "          51.29545455,  51.29545455]),\n",
              "  array([1420.04545455, 2597.81818182, 3057.18181818, ...,    0.        ,\n",
              "            0.        ,    0.        ]),\n",
              "  array([ 39.2967033 , 100.00732601, 130.46886447, ...,   0.        ,\n",
              "           0.        ,   0.        ]),\n",
              "  array([ 40.17877095, 116.59217877, 166.51396648, ...,   0.        ,\n",
              "           0.        ,   0.        ]),\n",
              "  array([ 39.42758621,  99.03448276, 145.52068966, ...,   0.        ,\n",
              "           0.        ,   0.        ]),\n",
              "  array([ 38.86397059,  97.0625    , 126.12132353, ...,   0.        ,\n",
              "           0.        ,   0.        ])],\n",
              " [array([[ 39,  39,  95, ...,   0,   0,   0],\n",
              "         [ 39, 158, 316, ...,   0,   0,   0],\n",
              "         [ 39,  95,  95, ...,   0,   0,   0],\n",
              "         ...,\n",
              "         [ 39,  42,  42, ...,   0,   0,   0],\n",
              "         [ 39, 316, 316, ...,   0,   0,   0],\n",
              "         [ 39,  77, 140, ...,   0,   0,   0]]),\n",
              "  array([[ 39,  96, 105, ...,   0,   0,   0],\n",
              "         [ 39, 105, 108, ...,   0,   0,   0],\n",
              "         [ 39,  77,  77, ...,   0,   0,   0],\n",
              "         ...,\n",
              "         [ 39, 133, 137, ...,   0,   0,   0],\n",
              "         [ 39,  95, 105, ...,   0,   0,   0],\n",
              "         [ 39,  39,  95, ...,   0,   0,   0]]),\n",
              "  array([[  39,   95,  428, ...,    0,    0,    0],\n",
              "         [ 574, 1482, 1482, ...,    0,    0,    0],\n",
              "         [ 990, 2846, 4146, ...,    0,    0,    0],\n",
              "         ...,\n",
              "         [  42, 6600, 6600, ...,    0,    0,    0],\n",
              "         [1595, 4726, 6600, ...,    0,    0,    0],\n",
              "         [  42, 4514, 6600, ...,    0,    0,    0]]),\n",
              "  array([[  2,  39,  42, ...,   0,   0,   0],\n",
              "         [ 39, 169, 172, ...,   0,   0,   0],\n",
              "         [133, 133, 133, ...,   0,   0,   0],\n",
              "         ...,\n",
              "         [ 39, 105, 172, ...,   0,   0,   0],\n",
              "         [ 39, 140, 169, ...,   0,   0,   0],\n",
              "         [ 39,  77, 172, ...,   0,   0,   0]]),\n",
              "  array([[  2,  95, 172, ...,   0,   0,   0],\n",
              "         [ 39, 316, 316, ...,   0,   0,   0],\n",
              "         [ 39, 158, 158, ...,   0,   0,   0],\n",
              "         ...,\n",
              "         [ 39, 316, 316, ...,   0,   0,   0],\n",
              "         [ 39,  96, 316, ...,   0,   0,   0],\n",
              "         [ 39,  95, 140, ...,   0,   0,   0]]),\n",
              "  array([[ 39, 140, 316, ...,   0,   0,   0],\n",
              "         [ 39,  96,  96, ...,   0,   0,   0],\n",
              "         [ 39,  96, 105, ...,   0,   0,   0],\n",
              "         ...,\n",
              "         [ 39, 140, 140, ...,   0,   0,   0],\n",
              "         [ 39,  96, 172, ...,   0,   0,   0],\n",
              "         [ 39,  96, 105, ...,   0,   0,   0]]),\n",
              "  array([[ 39, 105, 137, ...,   0,   0,   0],\n",
              "         [ 39,  96,  96, ...,   0,   0,   0],\n",
              "         [ 39,  77,  96, ...,   0,   0,   0],\n",
              "         ...,\n",
              "         [ 39,  39,  39, ...,   0,   0,   0],\n",
              "         [ 39,  95,  95, ...,   0,   0,   0],\n",
              "         [ 39,  95, 172, ...,   0,   0,   0]])])"
            ]
          },
          "execution_count": 219,
          "metadata": {},
          "output_type": "execute_result"
        }
      ],
      "source": [
        "kmeans(doc_list, 7, max_iterations=100, tol=1e-04)"
      ]
    },
    {
      "cell_type": "markdown",
      "metadata": {
        "id": "uZC3sD-7as3f"
      },
      "source": [
        "### Visualisation of the clusters using PCA"
      ]
    },
    {
      "cell_type": "code",
      "execution_count": null,
      "metadata": {
        "id": "sSQyNQ-Pas3f",
        "outputId": "71e0502b-f75c-404a-ba75-e6cc45df9fcc"
      },
      "outputs": [
        {
          "data": {
            "image/png": "[encoded data removed]",
            "text/plain": [
              "<Figure size 432x288 with 1 Axes>"
            ]
          },
          "metadata": {
            "needs_background": "light"
          },
          "output_type": "display_data"
        }
      ],
      "source": [
        "res = kmeans(doc_list, 4, max_iterations=100, tol=1e-04)\n",
        "array_of_clusters = res[1]\n",
        "flattened_clusters = np.concatenate(array_of_clusters)\n",
        "\n",
        "pca = PCA(n_components=2)\n",
        "transformed_clusters = pca.fit_transform(flattened_clusters)\n",
        "\n",
        "colors = ['black', 'green', 'red', 'yellow', 'magenta', 'cyan', 'blue']\n",
        "\n",
        "for i, cluster in enumerate(array_of_clusters):\n",
        "    transformed_cluster = pca.transform(cluster)\n",
        "    plt.scatter(transformed_cluster[:, 0], transformed_cluster[:, 1], color=colors[i], label=f'Cluster {i+1}', alpha=0.5)\n",
        "\n",
        "plt.xlabel('Principal Component 1')\n",
        "plt.ylabel('Principal Component 2')\n",
        "plt.title('Clusters Visualization using PCA')\n",
        "plt.legend()\n",
        "plt.show()"
      ]
    },
    {
      "cell_type": "markdown",
      "metadata": {
        "id": "70H0g6Y2as3f"
      },
      "source": [
        "### Finding the optimal k"
      ]
    },
    {
      "cell_type": "code",
      "execution_count": null,
      "metadata": {
        "id": "4H8lUdyWas3f"
      },
      "outputs": [],
      "source": [
        "np.random.seed(0)\n",
        "k_list = range(3,16)\n",
        "inertia_values = []\n",
        "for k in k_list:\n",
        "    centroids, clusters = kmeans(doc_list, k)\n",
        "    inertia = compute_inertia(centroids, clusters)\n",
        "    inertia_values.append(inertia)"
      ]
    },
    {
      "cell_type": "code",
      "execution_count": null,
      "metadata": {
        "id": "bfA8tEwxas3g",
        "outputId": "92bfd11f-1906-4fd6-bb2a-5a4e81832822"
      },
      "outputs": [
        {
          "data": {
            "text/plain": [
              "[2559160645885.465,\n",
              " 2354579757935.886,\n",
              " 2226132035025.147,\n",
              " 2152686674161.5242,\n",
              " 2094691931230.697,\n",
              " 2090096062555.5488,\n",
              " 2015073652338.3865,\n",
              " 1979337874760.2874,\n",
              " 1961110828042.6755,\n",
              " 1931123081639.9297,\n",
              " 1915682967972.4336,\n",
              " 1901650982305.5918,\n",
              " 1915692456642.2183]"
            ]
          },
          "execution_count": 228,
          "metadata": {},
          "output_type": "execute_result"
        }
      ],
      "source": [
        "inertia_values"
      ]
    },
    {
      "cell_type": "code",
      "execution_count": null,
      "metadata": {
        "scrolled": true,
        "id": "vhPLTSE0as3g",
        "outputId": "9b1638c3-9e8e-4554-86a2-da0d5f41e1d9"
      },
      "outputs": [
        {
          "data": {
            "image/png": "[encoded data removed]",
            "text/plain": [
              "<Figure size 432x288 with 1 Axes>"
            ]
          },
          "metadata": {
            "needs_background": "light"
          },
          "output_type": "display_data"
        }
      ],
      "source": [
        "points = [(23351427501271.453, 3),\n",
        "          (22459057133259.688, 4),\n",
        "          (21840768521552.883, 5),\n",
        "          (21338597386034.227, 6),\n",
        "          (20942332603451.305, 7),\n",
        "          (20699180165205.957, 8),\n",
        "          (20405796173804.246, 9),\n",
        "          (20253872713484.207, 10),\n",
        "          (20147154893574.180, 11),\n",
        "          (19891364893703.400, 12),\n",
        "          (19725689679587.280, 13),\n",
        "          (19624986854184.047, 14),\n",
        "          (19423500898410.150, 15)]\n",
        "\n",
        "highlight_point = points[4]\n",
        "x_values = [point[1] for point in points]\n",
        "y_values = [point[0] for point in points]\n",
        "\n",
        "X = np.array(x_values[-9:]).reshape(-1, 1)\n",
        "y = np.array(y_values[-9:])\n",
        "model = LinearRegression().fit(X, y)\n",
        "\n",
        "first_x = x_values[0]\n",
        "last_x = x_values[-1]\n",
        "first_y = model.predict([[first_x]])[0]\n",
        "last_y = model.predict([[last_x]])[0]\n",
        "\n",
        "plt.scatter(x_values, y_values, color='blue', label='inertia for different values of k')\n",
        "plt.plot(x_values, y_values, color='blue')\n",
        "\n",
        "# Plot the best line passing through the last few points\n",
        "plt.plot([first_x, last_x], [first_y, last_y], color='red', linestyle='--', label='linear plot for the last three pts')\n",
        "plt.scatter(highlight_point[1], highlight_point[0], color='black', s=100, label='Elbow at k=7')\n",
        "plt.xlabel('No. of clusters (k)')\n",
        "plt.ylabel('Inertia')\n",
        "plt.title('Best Line Passing Through Last few Points')\n",
        "plt.legend()\n",
        "plt.grid(True)\n",
        "plt.show()"
      ]
    }
  ],
  "metadata": {
    "colab": {
      "provenance": []
    },
    "kernelspec": {
      "display_name": "Python 3 (ipykernel)",
      "language": "python",
      "name": "python3"
    },
    "language_info": {
      "codemirror_mode": {
        "name": "ipython",
        "version": 3
      },
      "file_extension": ".py",
      "mimetype": "text/x-python",
      "name": "python",
      "nbconvert_exporter": "python",
      "pygments_lexer": "ipython3",
      "version": "3.9.7"
    }
  },
  "nbformat": 4,
  "nbformat_minor": 0
}