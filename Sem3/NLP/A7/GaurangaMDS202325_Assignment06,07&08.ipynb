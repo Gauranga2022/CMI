{
  "cells": [
    {
      "cell_type": "code",
      "execution_count": null,
      "metadata": {
        "id": "BQCYm2BslrMV",
        "scrolled": true
      },
      "outputs": [],
      "source": [
        "# Importing necessary libraries\n",
        "from google.colab import drive\n",
        "import os\n",
        "import json\n",
        "import multiprocessing as mp\n",
        "from multiprocessing import Pool\n",
        "from time import time\n",
        "from datetime import timedelta\n",
        "import nltk\n",
        "nltk.download('all')\n",
        "from nltk.tokenize import word_tokenize\n",
        "from nltk.corpus import stopwords\n",
        "from nltk import ngrams\n",
        "import pandas as pd\n",
        "import matplotlib.pyplot as plt\n",
        "import numpy as np\n",
        "import torch\n",
        "import torch.nn.functional as F\n",
        "import torch.nn as nn\n",
        "import torch.optim as optim\n",
        "from collections import Counter\n",
        "from torch.nn.utils.rnn import pad_sequence\n",
        "from torch.utils.data import Dataset, DataLoader\n",
        "import random\n",
        "import re\n",
        "from typing import Dict, List\n",
        "from tqdm import tqdm\n",
        "import pickle as pk\n",
        "from scipy.sparse import lil_matrix\n",
        "import matplotlib.pyplot as plt\n",
        "from sklearn.preprocessing import StandardScaler\n",
        "from sklearn.manifold import MDS\n",
        "import warnings\n",
        "warnings.filterwarnings(\"ignore\")\n",
        "\n",
        "stop_words = set(stopwords.words('english'))"
      ]
    },
    {
      "cell_type": "markdown",
      "metadata": {
        "id": "wWwiC62EmYMg"
      },
      "source": [
        "First, we need to create another corpus with only abstracts from the covid-19 papers."
      ]
    },
    {
      "cell_type": "markdown",
      "metadata": {
        "id": "2PVig9iwmZGd"
      },
      "source": [
        "Note that this time, we need all the abstracts as separate, which is different from the earlier cases where we just concatenated all the abstracts in the same file."
      ]
    },
    {
      "cell_type": "code",
      "execution_count": null,
      "metadata": {
        "colab": {
          "base_uri": "https://localhost:8080/"
        },
        "id": "L_W-xBMLmXAl",
        "outputId": "ba8c5723-bb18-48f7-9bdd-c5db7ac56b93"
      },
      "outputs": [
        {
          "name": "stdout",
          "output_type": "stream",
          "text": [
            "Mounted at /content/drive\n"
          ]
        }
      ],
      "source": [
        "# Mount the drive on colab\n",
        "drive.mount('/content/drive')"
      ]
    },
    {
      "cell_type": "code",
      "execution_count": null,
      "metadata": {
        "id": "9yEvxkwxmALS"
      },
      "outputs": [],
      "source": [
        "# Unzipping all the files\n",
        "import zipfile\n",
        "with zipfile.ZipFile('/content/drive/MyDrive/pdf_json.zip', 'r') as zip_ref:\n",
        "    zip_ref.extractall('/content/NLP_corpus/')"
      ]
    },
    {
      "cell_type": "code",
      "execution_count": null,
      "metadata": {
        "colab": {
          "base_uri": "https://localhost:8080/"
        },
        "id": "6OhPJRwqmWK2",
        "outputId": "7225f954-8220-4084-844d-aa6663b2d888"
      },
      "outputs": [
        {
          "name": "stdout",
          "output_type": "stream",
          "text": [
            "56528\n"
          ]
        }
      ],
      "source": [
        "# Considering only the JSON files\n",
        "files = os.listdir('/content/NLP_corpus/pdf_json')\n",
        "files = [x for x in files if x.endswith('.json')]\n",
        "print(len(files))"
      ]
    },
    {
      "cell_type": "code",
      "execution_count": null,
      "metadata": {
        "id": "19cA73uenVxz"
      },
      "outputs": [],
      "source": [
        "# Path of all json files\n",
        "Sroot = \"/content/NLP_corpus/pdf_json\""
      ]
    },
    {
      "cell_type": "code",
      "execution_count": null,
      "metadata": {
        "id": "qLAI4xWQnYZv"
      },
      "outputs": [],
      "source": [
        "def json2text(filename):\n",
        "  '''\n",
        "  Preprocesses each file and returns (file_name, preprocessed_text)\n",
        "  '''\n",
        "\n",
        "  with open(os.path.join(Sroot, filename), 'r') as file:\n",
        "    content = file.read()\n",
        "    paper_content = json.loads(content)\n",
        "\n",
        "    abstract = []\n",
        "\n",
        "\n",
        "    if 'abstract' in paper_content:\n",
        "        for c in paper_content['abstract']:\n",
        "\n",
        "          total_text = c['text']\n",
        "\n",
        "          # Preprocessing\n",
        "\n",
        "          # Removing html links\n",
        "          pattern = r'http[s]?://\\S+'\n",
        "          total_text = re.sub(pattern, '', total_text)\n",
        "\n",
        "          # Removing extra characters (not all, like - or :, etc.)\n",
        "          pattern = r'[)(,.{}[\\]<>?\\/!@#$%^&*`~\\'\";=]'\n",
        "          total_text = re.sub(pattern, '', total_text)\n",
        "\n",
        "          # Removing numbers occuring as stand-alone words\n",
        "          # Not all numbers, like in Covid-19\n",
        "          words = word_tokenize(total_text)\n",
        "          words = [word.lower() for word in words if word.isdigit() == False]\n",
        "\n",
        "          # Finally, the stopwords\n",
        "          words = [word for word in words if word not in stop_words]\n",
        "\n",
        "          total_text = ' '.join(words)\n",
        "          abstract.append(total_text)\n",
        "\n",
        "    return (filename[:-5], abstract)"
      ]
    },
    {
      "cell_type": "code",
      "execution_count": null,
      "metadata": {
        "id": "jTp6a9yvrxQ0"
      },
      "outputs": [],
      "source": [
        "def par_write(files):\n",
        "  '''\n",
        "  Uses multiprocessing to map the function json2text on all files, and saves the complete preprocessed abstract corpus in a json file.\n",
        "  '''\n",
        "  start = time()\n",
        "\n",
        "  total_files = len(files)\n",
        "\n",
        "  progress = tqdm(total=total_files, desc=\"Processing Files\")\n",
        "\n",
        "  def update_progress(result):\n",
        "      progress.update()\n",
        "\n",
        "  with Pool() as p:\n",
        "      results = []\n",
        "      for file in files:\n",
        "          res = p.apply_async(json2text, args=(file,), callback=update_progress)\n",
        "          results.append(res)\n",
        "\n",
        "      p.close()\n",
        "      p.join()\n",
        "\n",
        "  print(f\"\\nExtraction complete. Time taken = {timedelta(seconds = time() - start)}\\n\")\n",
        "\n",
        "  result_dict = {f\"{res.get()[0]}_{t}\": res.get()[1][t] for res in results for t in range(len(res.get()[1])) if res.get()[1] != []}\n",
        "\n",
        "  print(\"Dictionary conversion complete\")\n",
        "\n",
        "  # Save the results to a JSON file\n",
        "  with open('/content/drive/MyDrive/abstract_corpus.json', 'w') as f:\n",
        "      json.dump(result_dict, f)\n",
        "\n",
        "  print(\"Saving abstract_corpus.json complete\")"
      ]
    },
    {
      "cell_type": "code",
      "execution_count": null,
      "metadata": {
        "colab": {
          "base_uri": "https://localhost:8080/"
        },
        "id": "_3Vqh2hjs2dy",
        "outputId": "066faa98-01fe-4348-b769-1f9206824c40"
      },
      "outputs": [
        {
          "name": "stderr",
          "output_type": "stream",
          "text": [
            "Processing Files: 100%|█████████▉| 56513/56528 [02:57<00:00, 407.79it/s]"
          ]
        },
        {
          "name": "stdout",
          "output_type": "stream",
          "text": [
            "\n",
            "Extraction complete. Time taken = 0:02:57.311889\n",
            "\n",
            "Dictionary conversion complete\n"
          ]
        },
        {
          "name": "stderr",
          "output_type": "stream",
          "text": [
            "\r\n",
            "Processing Files: 100%|██████████| 56528/56528 [02:58<00:00, 316.46it/s]"
          ]
        },
        {
          "name": "stdout",
          "output_type": "stream",
          "text": [
            "Saving abstract_corpus.json complete\n"
          ]
        },
        {
          "name": "stderr",
          "output_type": "stream",
          "text": [
            "\n"
          ]
        }
      ],
      "source": [
        "par_write(files)"
      ]
    },
    {
      "cell_type": "code",
      "execution_count": null,
      "metadata": {
        "id": "Ik9EfQXFtHBL"
      },
      "outputs": [],
      "source": [
        "with open('/content/drive/MyDrive/abstract_corpus.json', 'r') as f:\n",
        "  content = f.read()\n",
        "  json_content = json.loads(content)"
      ]
    },
    {
      "cell_type": "code",
      "execution_count": null,
      "metadata": {
        "colab": {
          "base_uri": "https://localhost:8080/"
        },
        "id": "ZgQ1Sj2luDDB",
        "outputId": "e6699422-cf3d-4545-9967-27cc587a298e"
      },
      "outputs": [
        {
          "name": "stdout",
          "output_type": "stream",
          "text": [
            "Type of file = <class 'dict'>\n",
            "Length of file = 78470\n"
          ]
        }
      ],
      "source": [
        "print(f\"Type of file = {type(json_content)}\")\n",
        "print(f\"Length of file = {len(json_content)}\")"
      ]
    },
    {
      "cell_type": "markdown",
      "metadata": {
        "id": "buvGy4S6uFdT"
      },
      "source": [
        "Thus, we have around 78,470 abstracts in total."
      ]
    },
    {
      "cell_type": "markdown",
      "metadata": {
        "id": "J6Ge5vSw3u4I"
      },
      "source": [
        "Now, we are ready to make the sequential model on the abstract data."
      ]
    },
    {
      "cell_type": "code",
      "execution_count": null,
      "metadata": {
        "id": "CTAHUAgmoowy",
        "outputId": "a2fd7eae-74ab-405e-e520-7c80b02b9abf"
      },
      "outputs": [
        {
          "name": "stderr",
          "output_type": "stream",
          "text": [
            "100%|██████████████████████████████████████████████████████████████████████████| 5000/5000 [00:00<00:00, 2229589.62it/s]\n"
          ]
        },
        {
          "data": {
            "image/png": "[encoded data removed]",
            "text/plain": [
              "<Figure size 800x400 with 1 Axes>"
            ]
          },
          "metadata": {},
          "output_type": "display_data"
        }
      ],
      "source": [
        "# Smaller corpus for faster training\n",
        "larger_paragraphs = [x for x in list(json_content.values()) if len(x.split()) >= 50] # Selecting only large paragraphs\n",
        "smaller_data = random.sample(larger_paragraphs, 5000)\n",
        "\n",
        "# Tokenization\n",
        "tokenized_paragraphs = [para.lower().split() for para in smaller_data]\n",
        "\n",
        "size_dict = dict()\n",
        "for x in tqdm(tokenized_paragraphs):\n",
        "    t = len(x)\n",
        "    if t not in size_dict:\n",
        "        size_dict[t] = 1\n",
        "    else:\n",
        "        size_dict[t] += 1\n",
        "\n",
        "len_vs_freq = sorted(list(size_dict.items()), key = lambda x: x[0])\n",
        "x = [a[0] for a in len_vs_freq]\n",
        "y = [a[1] for a in len_vs_freq]\n",
        "\n",
        "# Plotting the bar chart\n",
        "plt.figure(figsize=(8, 4))\n",
        "plt.bar(x, y, color='skyblue', width = 0.6)\n",
        "plt.title('Paragraph lengths Vs Frequencies', fontsize=16)\n",
        "plt.xlabel('Paragraph size (x)', fontsize=14)\n",
        "plt.ylabel('Frequency (y)', fontsize=14)\n",
        "plt.grid(axis='y', linestyle='--', alpha=0.7)\n",
        "plt.tight_layout()\n",
        "plt.show();"
      ]
    },
    {
      "cell_type": "markdown",
      "metadata": {
        "id": "kT5C9tBQoowz"
      },
      "source": [
        "Looks like there are hardly paragraphs with size more than 200. Thus, we can safely clip all the paragraphs upto length of 256. This should reduce the unrolling steps for the lstm layer, thereby reducing the memory and time required for training, as well as not loosing any significant information from the data."
      ]
    },
    {
      "cell_type": "code",
      "execution_count": null,
      "metadata": {
        "id": "lwbLWDEt8EJP"
      },
      "outputs": [],
      "source": [
        "# Count word frequencies\n",
        "counter = Counter(word for para in tokenized_paragraphs for word in para)\n",
        "\n",
        "# Define special tokens\n",
        "special_tokens = [\"<unk>\", \"<pad>\", \"<end>\"]\n",
        "\n",
        "# Build vocabulary\n",
        "vocab = {token: idx for idx, token in enumerate(special_tokens)}\n",
        "for word, _ in counter.most_common():\n",
        "    if word not in vocab:\n",
        "        vocab[word] = len(vocab)\n",
        "\n",
        "# Reverse mapping for decoding\n",
        "vocab_reverse = {idx: token for token, idx in vocab.items()}\n",
        "\n",
        "# Function to encode paragraphs with the <end> token\n",
        "def encode_paragraph(paragraph, vocab):\n",
        "    return [vocab.get(word, vocab[\"<unk>\"]) for word in paragraph][:256]  # We truncate every paragraph to maximum of 256 tokens\n",
        "\n",
        "encoded_paragraphs = [encode_paragraph(para, vocab) + [vocab[\"<end>\"]] for para in tokenized_paragraphs]"
      ]
    },
    {
      "cell_type": "code",
      "execution_count": null,
      "metadata": {
        "id": "sdZSb9ehakmh"
      },
      "outputs": [],
      "source": [
        "# Convert to tensors and then padding (all paragraphs to same length)\n",
        "def pad_sequences(encoded_paragraphs, padding_value):\n",
        "    sequences = [torch.tensor(seq) for seq in encoded_paragraphs]\n",
        "    return pad_sequence(sequences, batch_first=True, padding_value=padding_value)\n",
        "\n",
        "padded_paragraphs = pad_sequences(encoded_paragraphs, vocab[\"<pad>\"])"
      ]
    },
    {
      "cell_type": "code",
      "execution_count": null,
      "metadata": {
        "id": "Iu4AKaF1c65z"
      },
      "outputs": [],
      "source": [
        "# Create input and output pairs\n",
        "data = []\n",
        "for para in padded_paragraphs:\n",
        "    input_seq = para[:-1]\n",
        "    target_seq = para[1:]\n",
        "    data.append((input_seq, target_seq))"
      ]
    },
    {
      "cell_type": "code",
      "execution_count": null,
      "metadata": {
        "id": "kpknZoY3dwjN"
      },
      "outputs": [],
      "source": [
        "# DataLoader\n",
        "dataloader = DataLoader(data, batch_size=8, shuffle=True)"
      ]
    },
    {
      "cell_type": "code",
      "execution_count": null,
      "metadata": {
        "id": "GzDKXTd-eYki"
      },
      "outputs": [],
      "source": [
        "class LSTMTextModel(nn.Module):\n",
        "    def __init__(self, vocab_size, embed_size, hidden_size, num_layers = 2):\n",
        "        super(LSTMTextModel, self).__init__()\n",
        "        self.embedding = nn.Embedding(vocab_size, embed_size, padding_idx=0)\n",
        "        # Stacked LSTM layers (2 layers)\n",
        "        self.lstm = nn.LSTM(embed_size, hidden_size, num_layers=num_layers, batch_first=True)\n",
        "        self.fc = nn.Linear(hidden_size, vocab_size)\n",
        "\n",
        "    def forward(self, x):\n",
        "        # Embedding layer\n",
        "        x = self.embedding(x)\n",
        "        # LSTM layers\n",
        "        x, _ = self.lstm(x)\n",
        "        # Output layer (probability distribution over vocabulary)\n",
        "        x = self.fc(x)\n",
        "        return x"
      ]
    },
    {
      "cell_type": "markdown",
      "metadata": {
        "id": "bTKvugidoow1"
      },
      "source": [
        "The model above consists of:\n",
        "\n",
        "1) Embedding layer: Takes in input tokens and maps them to smaller dimensional vectors (embed_size)\n",
        "\n",
        "2) LSTM Layer: A 2 layer lstm block that predicts the output of every word from the words in input.\n",
        "\n",
        "3) Output Layer: Gives the probability distribution of next word over the vocabulary"
      ]
    },
    {
      "cell_type": "code",
      "execution_count": null,
      "metadata": {
        "id": "FJZW7AMloow1",
        "outputId": "11e02c5f-9589-4b0e-e652-c3bcd9c9eb8c"
      },
      "outputs": [
        {
          "data": {
            "text/plain": [
              "device(type='cuda')"
            ]
          },
          "execution_count": 10,
          "metadata": {},
          "output_type": "execute_result"
        }
      ],
      "source": [
        "device = torch.device('cuda' if torch.cuda.is_available() else 'cpu')\n",
        "device"
      ]
    },
    {
      "cell_type": "code",
      "execution_count": null,
      "metadata": {
        "id": "XNLF8x45edn1"
      },
      "outputs": [],
      "source": [
        "# Hyperparameters\n",
        "vocab_size = len(vocab)\n",
        "embed_size = 256\n",
        "hidden_size = 256\n",
        "\n",
        "# Model, Loss, Optimizer\n",
        "model = LSTMTextModel(vocab_size, embed_size, hidden_size)\n",
        "model = model.to(device)\n",
        "criterion = nn.CrossEntropyLoss(ignore_index=vocab[\"<pad>\"])\n",
        "optimizer = torch.optim.Adam(model.parameters(), lr=0.01)"
      ]
    },
    {
      "cell_type": "code",
      "execution_count": null,
      "metadata": {
        "id": "hmmNhgvEftwe",
        "outputId": "fac0789f-3ae9-4869-c785-7427a745be5d"
      },
      "outputs": [
        {
          "name": "stdout",
          "output_type": "stream",
          "text": [
            "Training epoch 1\n",
            "Epoch 1/30 | batch 100/625, Loss : 8.70396900177002\n",
            "Epoch 1/30 | batch 200/625, Loss : 9.063349723815918\n",
            "Epoch 1/30 | batch 300/625, Loss : 8.692378044128418\n",
            "Epoch 1/30 | batch 400/625, Loss : 7.994418144226074\n",
            "Epoch 1/30 | batch 500/625, Loss : 9.099491119384766\n",
            "Epoch 1/30 | batch 600/625, Loss : 8.617513656616211\n",
            "Epoch 1/30, Loss: 8.6985\n",
            "Training epoch 2\n",
            "Epoch 2/30 | batch 100/625, Loss : 8.648392677307129\n",
            "Epoch 2/30 | batch 200/625, Loss : 7.792375564575195\n",
            "Epoch 2/30 | batch 300/625, Loss : 8.015898704528809\n",
            "Epoch 2/30 | batch 400/625, Loss : 8.204852104187012\n",
            "Epoch 2/30 | batch 500/625, Loss : 7.983089447021484\n",
            "Epoch 2/30 | batch 600/625, Loss : 7.7900309562683105\n",
            "Epoch 2/30, Loss: 7.9636\n",
            "Training epoch 3\n",
            "Epoch 3/30 | batch 100/625, Loss : 7.394314289093018\n",
            "Epoch 3/30 | batch 200/625, Loss : 7.184576511383057\n",
            "Epoch 3/30 | batch 300/625, Loss : 7.654853343963623\n",
            "Epoch 3/30 | batch 400/625, Loss : 7.642049312591553\n",
            "Epoch 3/30 | batch 500/625, Loss : 7.255885124206543\n",
            "Epoch 3/30 | batch 600/625, Loss : 7.275735855102539\n",
            "Epoch 3/30, Loss: 7.4541\n",
            "Training epoch 4\n",
            "Epoch 4/30 | batch 100/625, Loss : 6.396157264709473\n",
            "Epoch 4/30 | batch 200/625, Loss : 6.82857084274292\n",
            "Epoch 4/30 | batch 300/625, Loss : 6.575621604919434\n",
            "Epoch 4/30 | batch 400/625, Loss : 7.065757751464844\n",
            "Epoch 4/30 | batch 500/625, Loss : 7.3792243003845215\n",
            "Epoch 4/30 | batch 600/625, Loss : 7.28314733505249\n",
            "Epoch 4/30, Loss: 7.0001\n",
            "Training epoch 5\n",
            "Epoch 5/30 | batch 100/625, Loss : 6.40986967086792\n",
            "Epoch 5/30 | batch 200/625, Loss : 6.452864170074463\n",
            "Epoch 5/30 | batch 300/625, Loss : 6.647924900054932\n",
            "Epoch 5/30 | batch 400/625, Loss : 6.606856346130371\n",
            "Epoch 5/30 | batch 500/625, Loss : 6.654331207275391\n",
            "Epoch 5/30 | batch 600/625, Loss : 6.764575958251953\n",
            "Epoch 5/30, Loss: 6.5542\n",
            "Training epoch 6\n",
            "Epoch 6/30 | batch 100/625, Loss : 6.048960208892822\n",
            "Epoch 6/30 | batch 200/625, Loss : 6.082060813903809\n",
            "Epoch 6/30 | batch 300/625, Loss : 6.344428062438965\n",
            "Epoch 6/30 | batch 400/625, Loss : 6.293062686920166\n",
            "Epoch 6/30 | batch 500/625, Loss : 6.623136520385742\n",
            "Epoch 6/30 | batch 600/625, Loss : 6.651873588562012\n",
            "Epoch 6/30, Loss: 6.1138\n",
            "Training epoch 7\n",
            "Epoch 7/30 | batch 100/625, Loss : 5.776870250701904\n",
            "Epoch 7/30 | batch 200/625, Loss : 6.116941928863525\n",
            "Epoch 7/30 | batch 300/625, Loss : 5.752625942230225\n",
            "Epoch 7/30 | batch 400/625, Loss : 5.1482110023498535\n",
            "Epoch 7/30 | batch 500/625, Loss : 5.3575968742370605\n",
            "Epoch 7/30 | batch 600/625, Loss : 5.788782596588135\n",
            "Epoch 7/30, Loss: 5.7055\n",
            "Training epoch 8\n",
            "Epoch 8/30 | batch 100/625, Loss : 4.894675254821777\n",
            "Epoch 8/30 | batch 200/625, Loss : 5.219200611114502\n",
            "Epoch 8/30 | batch 300/625, Loss : 5.750874996185303\n",
            "Epoch 8/30 | batch 400/625, Loss : 5.892572402954102\n",
            "Epoch 8/30 | batch 500/625, Loss : 5.7895426750183105\n",
            "Epoch 8/30 | batch 600/625, Loss : 5.616703987121582\n",
            "Epoch 8/30, Loss: 5.3465\n",
            "Training epoch 9\n",
            "Epoch 9/30 | batch 100/625, Loss : 5.195150375366211\n",
            "Epoch 9/30 | batch 200/625, Loss : 4.579721927642822\n",
            "Epoch 9/30 | batch 300/625, Loss : 5.479994297027588\n",
            "Epoch 9/30 | batch 400/625, Loss : 4.477624893188477\n",
            "Epoch 9/30 | batch 500/625, Loss : 5.4533796310424805\n",
            "Epoch 9/30 | batch 600/625, Loss : 5.002373218536377\n",
            "Epoch 9/30, Loss: 5.0492\n",
            "Training epoch 10\n",
            "Epoch 10/30 | batch 100/625, Loss : 4.685546875\n",
            "Epoch 10/30 | batch 200/625, Loss : 4.857854843139648\n",
            "Epoch 10/30 | batch 300/625, Loss : 4.6240410804748535\n",
            "Epoch 10/30 | batch 400/625, Loss : 4.183746337890625\n",
            "Epoch 10/30 | batch 500/625, Loss : 5.148674964904785\n",
            "Epoch 10/30 | batch 600/625, Loss : 5.188257217407227\n",
            "Epoch 10/30, Loss: 4.8057\n",
            "Training epoch 11\n",
            "Epoch 11/30 | batch 100/625, Loss : 3.9292962551116943\n",
            "Epoch 11/30 | batch 200/625, Loss : 4.583377361297607\n",
            "Epoch 11/30 | batch 300/625, Loss : 4.586341857910156\n",
            "Epoch 11/30 | batch 400/625, Loss : 4.755294322967529\n",
            "Epoch 11/30 | batch 500/625, Loss : 5.01120662689209\n",
            "Epoch 11/30 | batch 600/625, Loss : 5.0800018310546875\n",
            "Epoch 11/30, Loss: 4.6342\n",
            "Training epoch 12\n",
            "Epoch 12/30 | batch 100/625, Loss : 3.8925070762634277\n",
            "Epoch 12/30 | batch 200/625, Loss : 4.917052745819092\n",
            "Epoch 12/30 | batch 300/625, Loss : 4.473156452178955\n",
            "Epoch 12/30 | batch 400/625, Loss : 4.9887213706970215\n",
            "Epoch 12/30 | batch 500/625, Loss : 4.237857818603516\n",
            "Epoch 12/30 | batch 600/625, Loss : 4.905743598937988\n",
            "Epoch 12/30, Loss: 4.4791\n",
            "Training epoch 13\n",
            "Epoch 13/30 | batch 100/625, Loss : 4.2170491218566895\n",
            "Epoch 13/30 | batch 200/625, Loss : 4.483134746551514\n",
            "Epoch 13/30 | batch 300/625, Loss : 4.229855060577393\n",
            "Epoch 13/30 | batch 400/625, Loss : 4.577505111694336\n",
            "Epoch 13/30 | batch 500/625, Loss : 4.237224102020264\n",
            "Epoch 13/30 | batch 600/625, Loss : 4.289131164550781\n",
            "Epoch 13/30, Loss: 4.3633\n",
            "Training epoch 14\n",
            "Epoch 14/30 | batch 100/625, Loss : 4.221291542053223\n",
            "Epoch 14/30 | batch 200/625, Loss : 4.154865741729736\n",
            "Epoch 14/30 | batch 300/625, Loss : 4.138057231903076\n",
            "Epoch 14/30 | batch 400/625, Loss : 4.371950626373291\n",
            "Epoch 14/30 | batch 500/625, Loss : 4.4809699058532715\n",
            "Epoch 14/30 | batch 600/625, Loss : 4.590544700622559\n",
            "Epoch 14/30, Loss: 4.2684\n",
            "Training epoch 15\n",
            "Epoch 15/30 | batch 100/625, Loss : 4.0909647941589355\n",
            "Epoch 15/30 | batch 200/625, Loss : 4.392570972442627\n",
            "Epoch 15/30 | batch 300/625, Loss : 4.611743927001953\n",
            "Epoch 15/30 | batch 400/625, Loss : 4.140355587005615\n",
            "Epoch 15/30 | batch 500/625, Loss : 3.9224977493286133\n",
            "Epoch 15/30 | batch 600/625, Loss : 4.673954486846924\n",
            "Epoch 15/30, Loss: 4.1814\n",
            "Training epoch 16\n",
            "Epoch 16/30 | batch 100/625, Loss : 4.0151519775390625\n",
            "Epoch 16/30 | batch 200/625, Loss : 3.938772439956665\n",
            "Epoch 16/30 | batch 300/625, Loss : 4.438010215759277\n",
            "Epoch 16/30 | batch 400/625, Loss : 3.9738306999206543\n",
            "Epoch 16/30 | batch 500/625, Loss : 4.615356922149658\n",
            "Epoch 16/30 | batch 600/625, Loss : 4.073657989501953\n",
            "Epoch 16/30, Loss: 4.1130\n",
            "Training epoch 17\n",
            "Epoch 17/30 | batch 100/625, Loss : 3.491318702697754\n",
            "Epoch 17/30 | batch 200/625, Loss : 3.7385976314544678\n",
            "Epoch 17/30 | batch 300/625, Loss : 4.219493389129639\n",
            "Epoch 17/30 | batch 400/625, Loss : 3.70346736907959\n",
            "Epoch 17/30 | batch 500/625, Loss : 4.148108005523682\n",
            "Epoch 17/30 | batch 600/625, Loss : 4.834689140319824\n",
            "Epoch 17/30, Loss: 4.0465\n",
            "Training epoch 18\n",
            "Epoch 18/30 | batch 100/625, Loss : 3.1495540142059326\n",
            "Epoch 18/30 | batch 200/625, Loss : 3.3783822059631348\n",
            "Epoch 18/30 | batch 300/625, Loss : 4.273292541503906\n",
            "Epoch 18/30 | batch 400/625, Loss : 4.269258499145508\n",
            "Epoch 18/30 | batch 500/625, Loss : 4.719571113586426\n",
            "Epoch 18/30 | batch 600/625, Loss : 3.294584035873413\n",
            "Epoch 18/30, Loss: 3.9897\n",
            "Training epoch 19\n",
            "Epoch 19/30 | batch 100/625, Loss : 4.1150383949279785\n",
            "Epoch 19/30 | batch 200/625, Loss : 4.0471882820129395\n",
            "Epoch 19/30 | batch 300/625, Loss : 4.008207321166992\n",
            "Epoch 19/30 | batch 400/625, Loss : 3.8835389614105225\n",
            "Epoch 19/30 | batch 500/625, Loss : 4.295015811920166\n",
            "Epoch 19/30 | batch 600/625, Loss : 3.8562278747558594\n",
            "Epoch 19/30, Loss: 3.9433\n",
            "Training epoch 20\n",
            "Epoch 20/30 | batch 100/625, Loss : 3.810526132583618\n",
            "Epoch 20/30 | batch 200/625, Loss : 3.695969581604004\n",
            "Epoch 20/30 | batch 300/625, Loss : 3.852851152420044\n",
            "Epoch 20/30 | batch 400/625, Loss : 4.311376571655273\n",
            "Epoch 20/30 | batch 500/625, Loss : 4.2839179039001465\n",
            "Epoch 20/30 | batch 600/625, Loss : 4.416287899017334\n",
            "Epoch 20/30, Loss: 3.9070\n",
            "Training epoch 21\n",
            "Epoch 21/30 | batch 100/625, Loss : 4.055782794952393\n",
            "Epoch 21/30 | batch 200/625, Loss : 4.314483165740967\n",
            "Epoch 21/30 | batch 300/625, Loss : 3.953333854675293\n",
            "Epoch 21/30 | batch 400/625, Loss : 4.043661594390869\n",
            "Epoch 21/30 | batch 500/625, Loss : 4.091734409332275\n",
            "Epoch 21/30 | batch 600/625, Loss : 4.212072372436523\n",
            "Epoch 21/30, Loss: 3.8668\n",
            "Training epoch 22\n",
            "Epoch 22/30 | batch 100/625, Loss : 3.8054709434509277\n",
            "Epoch 22/30 | batch 200/625, Loss : 3.8518004417419434\n",
            "Epoch 22/30 | batch 300/625, Loss : 4.112034797668457\n",
            "Epoch 22/30 | batch 400/625, Loss : 3.316403388977051\n",
            "Epoch 22/30 | batch 500/625, Loss : 4.394489288330078\n",
            "Epoch 22/30 | batch 600/625, Loss : 3.7508814334869385\n",
            "Epoch 22/30, Loss: 3.8160\n",
            "Training epoch 23\n",
            "Epoch 23/30 | batch 100/625, Loss : 3.9255592823028564\n",
            "Epoch 23/30 | batch 200/625, Loss : 3.8680365085601807\n",
            "Epoch 23/30 | batch 300/625, Loss : 3.629873752593994\n",
            "Epoch 23/30 | batch 400/625, Loss : 3.4856064319610596\n",
            "Epoch 23/30 | batch 500/625, Loss : 3.869368076324463\n",
            "Epoch 23/30 | batch 600/625, Loss : 3.9158523082733154\n",
            "Epoch 23/30, Loss: 3.7813\n",
            "Training epoch 24\n",
            "Epoch 24/30 | batch 100/625, Loss : 3.0096309185028076\n",
            "Epoch 24/30 | batch 200/625, Loss : 3.0562002658843994\n",
            "Epoch 24/30 | batch 300/625, Loss : 4.116477966308594\n",
            "Epoch 24/30 | batch 400/625, Loss : 4.055883407592773\n",
            "Epoch 24/30 | batch 500/625, Loss : 4.03865385055542\n",
            "Epoch 24/30 | batch 600/625, Loss : 4.044322967529297\n",
            "Epoch 24/30, Loss: 3.7646\n",
            "Training epoch 25\n",
            "Epoch 25/30 | batch 100/625, Loss : 3.3226308822631836\n",
            "Epoch 25/30 | batch 200/625, Loss : 3.717374324798584\n",
            "Epoch 25/30 | batch 300/625, Loss : 3.6524877548217773\n",
            "Epoch 25/30 | batch 400/625, Loss : 3.9141273498535156\n",
            "Epoch 25/30 | batch 500/625, Loss : 3.068978786468506\n",
            "Epoch 25/30 | batch 600/625, Loss : 4.12644100189209\n",
            "Epoch 25/30, Loss: 3.7455\n",
            "Training epoch 26\n",
            "Epoch 26/30 | batch 100/625, Loss : 3.5641086101531982\n",
            "Epoch 26/30 | batch 200/625, Loss : 3.6170742511749268\n",
            "Epoch 26/30 | batch 300/625, Loss : 3.8777925968170166\n",
            "Epoch 26/30 | batch 400/625, Loss : 4.163706302642822\n",
            "Epoch 26/30 | batch 500/625, Loss : 3.9068210124969482\n",
            "Epoch 26/30 | batch 600/625, Loss : 3.694582462310791\n",
            "Epoch 26/30, Loss: 3.7148\n",
            "Training epoch 27\n",
            "Epoch 27/30 | batch 100/625, Loss : 3.7143354415893555\n",
            "Epoch 27/30 | batch 200/625, Loss : 4.1812357902526855\n",
            "Epoch 27/30 | batch 300/625, Loss : 4.029869079589844\n",
            "Epoch 27/30 | batch 400/625, Loss : 3.7270307540893555\n",
            "Epoch 27/30 | batch 500/625, Loss : 3.74446964263916\n",
            "Epoch 27/30 | batch 600/625, Loss : 3.8226521015167236\n",
            "Epoch 27/30, Loss: 3.6917\n",
            "Training epoch 28\n",
            "Epoch 28/30 | batch 100/625, Loss : 3.4575552940368652\n",
            "Epoch 28/30 | batch 200/625, Loss : 3.1306886672973633\n",
            "Epoch 28/30 | batch 300/625, Loss : 3.292086124420166\n",
            "Epoch 28/30 | batch 400/625, Loss : 3.3497684001922607\n",
            "Epoch 28/30 | batch 500/625, Loss : 4.364475727081299\n",
            "Epoch 28/30 | batch 600/625, Loss : 3.4158496856689453\n",
            "Epoch 28/30, Loss: 3.6608\n",
            "Training epoch 29\n",
            "Epoch 29/30 | batch 100/625, Loss : 3.756157159805298\n",
            "Epoch 29/30 | batch 200/625, Loss : 3.577075719833374\n",
            "Epoch 29/30 | batch 300/625, Loss : 3.4386582374572754\n",
            "Epoch 29/30 | batch 400/625, Loss : 3.545494556427002\n",
            "Epoch 29/30 | batch 500/625, Loss : 3.700181484222412\n",
            "Epoch 29/30 | batch 600/625, Loss : 3.8100316524505615\n",
            "Epoch 29/30, Loss: 3.6520\n",
            "Training epoch 30\n",
            "Epoch 30/30 | batch 100/625, Loss : 3.2070162296295166\n",
            "Epoch 30/30 | batch 200/625, Loss : 3.1754848957061768\n",
            "Epoch 30/30 | batch 300/625, Loss : 4.041886806488037\n",
            "Epoch 30/30 | batch 400/625, Loss : 3.598191022872925\n",
            "Epoch 30/30 | batch 500/625, Loss : 4.128401756286621\n",
            "Epoch 30/30 | batch 600/625, Loss : 4.191561698913574\n",
            "Epoch 30/30, Loss: 3.6359\n"
          ]
        }
      ],
      "source": [
        "# Model Training\n",
        "epochs = 30\n",
        "losses = []\n",
        "for epoch in range(1, epochs + 1):\n",
        "    print(f'Training epoch {epoch}')\n",
        "    model.train()\n",
        "    epoch_loss = 0\n",
        "    for batch_idx, (inputs, targets) in enumerate(dataloader):\n",
        "        inputs, targets = inputs.to(device), targets.to(device)\n",
        "        optimizer.zero_grad()\n",
        "        outputs = model(inputs)\n",
        "\n",
        "        outputs = outputs.view(-1, vocab_size)\n",
        "        targets = targets.view(-1)\n",
        "\n",
        "        loss = criterion(outputs, targets)\n",
        "        loss.backward()\n",
        "        optimizer.step()\n",
        "\n",
        "        epoch_loss += loss.item()\n",
        "\n",
        "        if (batch_idx + 1) % 100 == 0:\n",
        "            print(f\"Epoch {epoch}/{epochs} | batch {batch_idx + 1}/{len(dataloader)}, Loss : {loss.item()}\")\n",
        "    losses.append(epoch_loss / len(dataloader))\n",
        "    print(f\"Epoch {epoch}/{epochs}, Loss: {epoch_loss / len(dataloader):.4f}\")\n",
        "\n",
        "    # Saving model after every epoch (to prevent loosing the model while compilation error)\n",
        "    with open('the_model.pickle', 'wb') as f:\n",
        "        pk.dump(model, f)"
      ]
    },
    {
      "cell_type": "markdown",
      "metadata": {
        "id": "aqwlDBaNoow2"
      },
      "source": [
        "### Loss Vs Epoch Plot"
      ]
    },
    {
      "cell_type": "code",
      "execution_count": null,
      "metadata": {
        "id": "7LGVk2H_oow2",
        "outputId": "f6aa74cb-b5d9-4c2d-e89a-6d17ae736011"
      },
      "outputs": [
        {
          "data": {
            "image/png": "[encoded data removed]",
            "text/plain": [
              "<Figure size 800x600 with 1 Axes>"
            ]
          },
          "metadata": {},
          "output_type": "display_data"
        }
      ],
      "source": [
        "# Plot Training loss vs Epoch\n",
        "x = list(range(1, len(losses) + 1))\n",
        "\n",
        "plt.figure(figsize=(8, 6))\n",
        "plt.scatter(x, losses, label=\"Points\")\n",
        "plt.plot(x, losses, label=\"Line\", linestyle='-', color='orange')\n",
        "plt.xlabel('Epoch')\n",
        "plt.ylabel('Loss')\n",
        "plt.title('Training loss vs epoch')\n",
        "plt.grid()\n",
        "plt.show();"
      ]
    },
    {
      "cell_type": "markdown",
      "metadata": {
        "id": "YRv65dXpoow3"
      },
      "source": [
        "We have a decreasing loss over the epoch plot. This strongly suggests that our model has learned the contextual dependencies from the given data."
      ]
    },
    {
      "cell_type": "code",
      "execution_count": null,
      "metadata": {
        "id": "tRaC58sYoow3"
      },
      "outputs": [],
      "source": [
        "# Moving the model to cpu after completely training the model\n",
        "model = model.to('cpu')"
      ]
    },
    {
      "cell_type": "code",
      "execution_count": null,
      "metadata": {
        "id": "2bys-0sIoow3"
      },
      "outputs": [],
      "source": [
        "def predict(model, input_seq, vocab, max_len=50):\n",
        "    model.eval()\n",
        "    input_seq = torch.tensor(input_seq).unsqueeze(0)\n",
        "    predictions = []\n",
        "\n",
        "    with torch.no_grad():\n",
        "        for _ in range(max_len):\n",
        "            output = model(input_seq)\n",
        "            next_word = torch.argmax(output[:, -1, :], dim=-1).item()\n",
        "            if next_word == vocab[\"<end>\"]:  # Early stopping when <end> token is predicted\n",
        "                break\n",
        "            predictions.append(next_word)\n",
        "            input_seq = torch.cat([input_seq, torch.tensor([[next_word]])], dim=1)  # Auto-regressive step\n",
        "\n",
        "    return [vocab_reverse[idx] for idx in predictions]"
      ]
    },
    {
      "cell_type": "markdown",
      "metadata": {
        "id": "14_x0Trloow3"
      },
      "source": [
        "### Predicted abstracts from three randomly generated samples from the dataset"
      ]
    },
    {
      "cell_type": "code",
      "execution_count": null,
      "metadata": {
        "id": "g6F4lF9Coow4",
        "outputId": "48b05f16-eaea-47d8-f5c7-033b8be6e9e5"
      },
      "outputs": [
        {
          "name": "stdout",
          "output_type": "stream",
          "text": [
            "Predicted text - \f\n",
            "\n",
            "background : large cohorts span entire population raise new prospects developing countries quickly vulnerable populations important element tremendous urgency accommodate citizens prevent spread covid-19 seems linked uncontrolled reach epidemic growth epidemic well epidemic curves epidemic hotspot epidemic spread infection shortest new epidemic spread in-out flow epidemic intelligence ai algorithms epidemic estimates r0 epidemic solely parameter theoretically broadly isolating worst-case scenarios\n"
          ]
        }
      ],
      "source": [
        "input_text = random.sample(smaller_data, 1)[0]\n",
        "input_seq = [vocab[word] for word in input_text.split()][:10]\n",
        "predicted_words = predict(model, input_seq, vocab)\n",
        "print(f\"Predicted text - \\f\")\n",
        "print(\" \".join(input_text.split()[:10]), end = \" \")\n",
        "print(\" \".join(predicted_words))"
      ]
    },
    {
      "cell_type": "code",
      "execution_count": null,
      "metadata": {
        "id": "A44AaBlQoow4",
        "outputId": "6c8e97e3-077e-4224-86b6-9f1e0ce3b977"
      },
      "outputs": [
        {
          "name": "stdout",
          "output_type": "stream",
          "text": [
            "Predicted text - \f\n",
            "\n",
            "cyclic amp receptor protein crp also known catabolite activator protein synthesis protein compact corresponding c-terminal domain unfolded n-terminal fusions folding trafficking mutated c-terminal domain unfolded n-terminal domain ntd lectins quantify b af orf1 mutated domain relatively rigid several hitherto unlike escherichia coli salmonella typhimurium x3987 pyats-1 andx3987 pyats-4 expressing constitutively kda amino-terminal fragment resulted preferential binding cues anti-herbivore accumulation degradation\n"
          ]
        }
      ],
      "source": [
        "input_text = random.sample(smaller_data, 1)[0]\n",
        "input_seq = [vocab[word] for word in input_text.split()][:10]\n",
        "predicted_words = predict(model, input_seq, vocab)\n",
        "print(f\"Predicted text - \\f\")\n",
        "print(\" \".join(input_text.split()[:10]), end = \" \")\n",
        "print(\" \".join(predicted_words))"
      ]
    },
    {
      "cell_type": "code",
      "execution_count": null,
      "metadata": {
        "id": "MHP86A23oow5",
        "outputId": "6a195ac2-a099-4260-96cb-64008696b23e"
      },
      "outputs": [
        {
          "name": "stdout",
          "output_type": "stream",
          "text": [
            "Predicted text - \f\n",
            "\n",
            "simple summary : animals countless species wild well tame entertain tourists holidays popularity however animal-based constituents counter nature conservation endangered species freshwater ecosystems visualize fluorescently-labeled word count : authorfunder los factores sorgen h c ha sottolineato la necessità di un nuovo punto di arrivo son outer un punto di arrivo uncommon : 6volutives nucleico fue il decadimento delle les facteurs\n"
          ]
        }
      ],
      "source": [
        "input_text = random.sample(smaller_data, 1)[0]\n",
        "input_seq = [vocab[word] for word in input_text.split()][:10]\n",
        "predicted_words = predict(model, input_seq, vocab)\n",
        "print(f\"Predicted text - \\f\")\n",
        "print(\" \".join(input_text.split()[:10]), end = \" \")\n",
        "print(\" \".join(predicted_words))"
      ]
    },
    {
      "cell_type": "markdown",
      "metadata": {
        "id": "fbehBq7zoow5"
      },
      "source": [
        "### Discussion over the results"
      ]
    },
    {
      "cell_type": "markdown",
      "metadata": {
        "id": "cNr7v0pwoow5"
      },
      "source": [
        "We note that the generated texts above are, although sensible, does not makes sense in the long run (as an overall paragraph). We can list down the three major problems here."
      ]
    },
    {
      "cell_type": "markdown",
      "metadata": {
        "id": "85DYpbvnoow5"
      },
      "source": [
        "#### Problem 1\n",
        "\n",
        "The phrases in generated paragraph locally makes sense, but fail to capture the overall meaning.\n",
        "\n",
        "Possible Remedy: This suggests that the model is able to capture the local meaning of words very efficiently, but is failing to capture the overall meaning of the paragraph. This can be tackled by increasing the size of embedding layers, hidden layers, or the number of LSTM layers (higher than 2)."
      ]
    },
    {
      "cell_type": "markdown",
      "metadata": {
        "id": "k5Of3N-eoow6"
      },
      "source": [
        "#### Problem 2\n",
        "\n",
        "Words tend to repeat in the generated paragraph.\n",
        "\n",
        "Possible Remedy: This suggests that the model is not focussing on far-away information, leading to information forgetting. This might be tackled by increasing lstm layers and making residual connections."
      ]
    },
    {
      "cell_type": "markdown",
      "metadata": {
        "id": "7a-2JMzwoow6"
      },
      "source": [
        "#### Problem 3\n",
        "\n",
        "The above remedies tend to increase the training time and complexity.\n",
        "\n",
        "Possible Remedy: We might need to increase the training dataset for the model (from 5000 to 10,000 or higher). Also, we can increase the number of words we provide to the model initially (10 in our case). This might increase the overall sense of generated paragraphs."
      ]
    }
  ],
  "metadata": {
    "colab": {
      "provenance": []
    },
    "kernelspec": {
      "display_name": "Python 3 (ipykernel)",
      "language": "python",
      "name": "python3"
    },
    "language_info": {
      "codemirror_mode": {
        "name": "ipython",
        "version": 3
      },
      "file_extension": ".py",
      "mimetype": "text/x-python",
      "name": "python",
      "nbconvert_exporter": "python",
      "pygments_lexer": "ipython3",
      "version": "3.11.3"
    }
  },
  "nbformat": 4,
  "nbformat_minor": 0
}