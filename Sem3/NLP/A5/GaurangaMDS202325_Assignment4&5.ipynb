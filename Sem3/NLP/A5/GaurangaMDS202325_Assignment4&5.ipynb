{
  "cells": [
    {
      "cell_type": "code",
      "execution_count": null,
      "id": "25FK6cAKan75",
      "metadata": {
        "execution": {
          "iopub.execute_input": "2024-10-24T08:15:00.231620Z",
          "iopub.status.busy": "2024-10-24T08:15:00.230741Z",
          "iopub.status.idle": "2024-10-24T08:15:06.054130Z",
          "shell.execute_reply": "2024-10-24T08:15:06.052833Z",
          "shell.execute_reply.started": "2024-10-24T08:15:00.231569Z"
        },
        "id": "25FK6cAKan75",
        "outputId": "8f7638f4-fe1c-46a4-86e1-c259d2b4b236",
        "papermill": {
          "duration": 6.745042,
          "end_time": "2024-10-23T18:05:22.772533",
          "exception": false,
          "start_time": "2024-10-23T18:05:16.027491",
          "status": "completed"
        },
        "tags": [],
        "trusted": true
      },
      "outputs": [
        {
          "name": "stdout",
          "output_type": "stream",
          "text": [
            "[nltk_data] Downloading package stopwords to /kaggle/working...\n",
            "[nltk_data]   Unzipping corpora/stopwords.zip.\n",
            "[nltk_data] Downloading package wordnet to /kaggle/working...\n",
            "Archive:  /kaggle/working/corpora/wordnet.zip\n",
            "   creating: /kaggle/working/corpora/wordnet/\n",
            "  inflating: /kaggle/working/corpora/wordnet/lexnames  \n",
            "  inflating: /kaggle/working/corpora/wordnet/data.verb  \n",
            "  inflating: /kaggle/working/corpora/wordnet/index.adv  \n",
            "  inflating: /kaggle/working/corpora/wordnet/adv.exc  \n",
            "  inflating: /kaggle/working/corpora/wordnet/index.verb  \n",
            "  inflating: /kaggle/working/corpora/wordnet/cntlist.rev  \n",
            "  inflating: /kaggle/working/corpora/wordnet/data.adj  \n",
            "  inflating: /kaggle/working/corpora/wordnet/index.adj  \n",
            "  inflating: /kaggle/working/corpora/wordnet/LICENSE  \n",
            "  inflating: /kaggle/working/corpora/wordnet/citation.bib  \n",
            "  inflating: /kaggle/working/corpora/wordnet/noun.exc  \n",
            "  inflating: /kaggle/working/corpora/wordnet/verb.exc  \n",
            "  inflating: /kaggle/working/corpora/wordnet/README  \n",
            "  inflating: /kaggle/working/corpora/wordnet/index.sense  \n",
            "  inflating: /kaggle/working/corpora/wordnet/data.noun  \n",
            "  inflating: /kaggle/working/corpora/wordnet/data.adv  \n",
            "  inflating: /kaggle/working/corpora/wordnet/index.noun  \n",
            "  inflating: /kaggle/working/corpora/wordnet/adj.exc  \n"
          ]
        },
        {
          "data": {
            "text/plain": [
              "device(type='cpu')"
            ]
          },
          "execution_count": 1,
          "metadata": {},
          "output_type": "execute_result"
        }
      ],
      "source": [
        "import json\n",
        "from pathlib import Path\n",
        "from collections import Counter\n",
        "from tqdm import tqdm\n",
        "import random\n",
        "from collections import defaultdict\n",
        "\n",
        "import numpy as np\n",
        "import glob\n",
        "from matplotlib import pyplot as plt\n",
        "\n",
        "import nltk\n",
        "from nltk.corpus import stopwords\n",
        "from nltk.stem import WordNetLemmatizer\n",
        "\n",
        "import torch\n",
        "import torch.nn as nn\n",
        "import torch.nn.functional as F\n",
        "import torch.optim as optim\n",
        "from torch.utils.data import DataLoader, Dataset, IterableDataset\n",
        "from typing import List, Dict\n",
        "from itertools import chain\n",
        "\n",
        "data_dir = Path('/kaggle/input/')\n",
        "output_dir = Path('/kaggle/working/')\n",
        "\n",
        "nltk.download('stopwords', download_dir=output_dir)\n",
        "nltk.download('wordnet', download_dir=output_dir)\n",
        "!unzip -o /kaggle/working/corpora/wordnet.zip -d /kaggle/working/corpora/\n",
        "\n",
        "nltk.data.path.append(output_dir)\n",
        "stopwords = set(stopwords.words('english'))\n",
        "device = torch.device('cuda') if torch.cuda.is_available() else torch.device('cpu')\n",
        "device"
      ]
    },
    {
      "cell_type": "markdown",
      "id": "j-K-nS9rqYGK",
      "metadata": {
        "id": "j-K-nS9rqYGK"
      },
      "source": [
        "## **Task-1**. Use the COVID-19 corpus\n",
        "Extract all the abstracts from the COVID-19 text files and use them as the corpus. Ensure that you create\n",
        "a vocabulary of around 10,000 words"
      ]
    },
    {
      "cell_type": "code",
      "execution_count": null,
      "id": "B3yYWC4Han8C",
      "metadata": {
        "execution": {
          "iopub.execute_input": "2024-10-24T08:15:06.057423Z",
          "iopub.status.busy": "2024-10-24T08:15:06.056721Z",
          "iopub.status.idle": "2024-10-24T08:21:58.796892Z",
          "shell.execute_reply": "2024-10-24T08:21:58.795706Z",
          "shell.execute_reply.started": "2024-10-24T08:15:06.057383Z"
        },
        "id": "B3yYWC4Han8C",
        "outputId": "5d7300ea-388e-4b55-96a1-6fb2061995cf",
        "papermill": {
          "duration": 415.528141,
          "end_time": "2024-10-23T18:12:18.308066",
          "exception": false,
          "start_time": "2024-10-23T18:05:22.779925",
          "status": "completed"
        },
        "tags": [],
        "trusted": true
      },
      "outputs": [
        {
          "name": "stdout",
          "output_type": "stream",
          "text": [
            "Length of the vocabulary: 10000\n"
          ]
        }
      ],
      "source": [
        "abstracts = []\n",
        "json_files = glob.glob(f\"{data_dir}/pdf_json/pdf_json/*json\")\n",
        "lemmatizer = WordNetLemmatizer()\n",
        "\n",
        "for json_file in json_files:\n",
        "    with open(json_file, 'r') as f:\n",
        "        data = json.load(f)\n",
        "    abstract_ = []\n",
        "    for abstract in data['abstract']:\n",
        "        abstract = re.sub(r'[^a-z\\s]', '', abstract['text'].strip().lower())\n",
        "        for word in abstract.split():\n",
        "            word = lemmatizer.lemmatize(word)\n",
        "            if word not in stopwords and word != '':\n",
        "                abstract_.append(word)\n",
        "        abstracts.append(abstract_)\n",
        "\n",
        "c = Counter([w for abstract in abstracts for w in abstract])\n",
        "\n",
        "# Removing any word with the length less than 2\n",
        "vocab_counter = Counter({w:v for w, v in c.items() if len(w) > 2})\n",
        "\n",
        "# Taking most common 10000 words\n",
        "vocab = set(w[0] for w in vocab_counter.most_common(10000))\n",
        "print(f\"Length of the vocabulary: {len(vocab)}\")"
      ]
    },
    {
      "cell_type": "code",
      "execution_count": null,
      "id": "_IPktjPVan8E",
      "metadata": {
        "execution": {
          "iopub.execute_input": "2024-10-24T08:21:58.798517Z",
          "iopub.status.busy": "2024-10-24T08:21:58.798173Z",
          "iopub.status.idle": "2024-10-24T08:22:01.982199Z",
          "shell.execute_reply": "2024-10-24T08:22:01.981082Z",
          "shell.execute_reply.started": "2024-10-24T08:21:58.798480Z"
        },
        "id": "_IPktjPVan8E",
        "papermill": {
          "duration": 2.663788,
          "end_time": "2024-10-23T18:12:20.978838",
          "exception": false,
          "start_time": "2024-10-23T18:12:18.315050",
          "status": "completed"
        },
        "tags": [],
        "trusted": true
      },
      "outputs": [],
      "source": [
        "# Creating the corpus with most common 10000 words\n",
        "abstracts = [[w for w in abstract if w in vocab] for abstract in abstracts]"
      ]
    },
    {
      "cell_type": "code",
      "execution_count": null,
      "id": "hMA8G2H7an8G",
      "metadata": {
        "execution": {
          "iopub.execute_input": "2024-10-24T08:22:01.984936Z",
          "iopub.status.busy": "2024-10-24T08:22:01.984577Z",
          "iopub.status.idle": "2024-10-24T08:22:02.007250Z",
          "shell.execute_reply": "2024-10-24T08:22:02.006030Z",
          "shell.execute_reply.started": "2024-10-24T08:22:01.984901Z"
        },
        "id": "hMA8G2H7an8G",
        "trusted": true
      },
      "outputs": [],
      "source": [
        "class SkipGramDataset(IterableDataset):\n",
        "    def __init__(self,\n",
        "                 documents: List[List[str]],\n",
        "                 window_size: int = 2,\n",
        "                 num_negative: int = 5,\n",
        "                 min_count: int = 5,\n",
        "                 sampling_table_size: int = 1e8):\n",
        "        \"\"\"\n",
        "        Args:\n",
        "            documents: List of documents, where each document is a list of words\n",
        "            window_size: Maximum distance between target and context words\n",
        "            num_negative: Number of negative samples per positive pair\n",
        "            min_count: Minimum frequency of words to include in vocab\n",
        "            sampling_table_size: Size of the negative sampling table\n",
        "        \"\"\"\n",
        "        super().__init__()\n",
        "        self.documents = documents\n",
        "        self.window_size = window_size\n",
        "        self.num_negative = num_negative\n",
        "\n",
        "        # Build vocabulary and frequency table\n",
        "        print(\"Building vocabulary...\")\n",
        "        self.vocab, self.word_freqs = self._build_vocab(min_count)\n",
        "        self.vocab_size = len(self.vocab)\n",
        "\n",
        "        # Create negative sampling table\n",
        "        print(\"Creating negative sampling table...\")\n",
        "        self.negative_table = self._create_negative_table(int(sampling_table_size))\n",
        "\n",
        "        # Pre-calculate document lengths and cumulative lengths for efficient indexing\n",
        "        self.doc_lengths = [len(doc) for doc in documents]\n",
        "        self.cumsum_lengths = np.cumsum(self.doc_lengths)\n",
        "        self.total_words = self.cumsum_lengths[-1]\n",
        "\n",
        "        # Calculate approximate number of pairs for length estimation\n",
        "        words_per_window = window_size * 2\n",
        "        self.approx_pairs = self.total_words * words_per_window\n",
        "\n",
        "    def _build_vocab(self, min_count):\n",
        "        \"\"\"Build vocabulary and compute normalized word frequencies\"\"\"\n",
        "        # Count words\n",
        "        word_counts = Counter(chain.from_iterable(self.documents))\n",
        "\n",
        "        # Filter by minimum count and create vocabulary\n",
        "        filtered_words = [(word, count) for word, count in word_counts.items()\n",
        "                         if count >= min_count]\n",
        "        vocab = {word: idx for idx, (word, _) in enumerate(filtered_words)}\n",
        "\n",
        "        # Compute normalized frequencies for negative sampling\n",
        "        freqs = np.array([count for _, count in filtered_words], dtype=np.float32)\n",
        "        freqs = np.power(freqs, 0.75)\n",
        "        freqs = freqs / freqs.sum()\n",
        "\n",
        "        return vocab, freqs\n",
        "\n",
        "    def _create_negative_table(self, size):\n",
        "        \"\"\"Create table for efficient negative sampling\"\"\"\n",
        "        table = np.zeros(size, dtype=np.int32)\n",
        "        p = 0\n",
        "        i = 0\n",
        "\n",
        "        # Fill table according to word frequencies\n",
        "        for word_idx, freq in enumerate(self.word_freqs):\n",
        "            p += freq\n",
        "            while i < size and i / size < p:\n",
        "                table[i] = word_idx\n",
        "                i += 1\n",
        "\n",
        "        return table\n",
        "\n",
        "    def _get_negative_samples(self, pos_id, context_id):\n",
        "        \"\"\"Get negative samples, excluding positive examples\"\"\"\n",
        "        samples = []\n",
        "        while len(samples) < self.num_negative:\n",
        "            neg_id = self.negative_table[random.randint(0, len(self.negative_table) - 1)]\n",
        "            if neg_id != pos_id and neg_id != context_id:\n",
        "                samples.append(neg_id)\n",
        "        return samples\n",
        "\n",
        "    def _get_doc_and_pos(self, index):\n",
        "        \"\"\"Get document and word position from global index\"\"\"\n",
        "        doc_idx = np.searchsorted(self.cumsum_lengths, index, side='right')\n",
        "        if doc_idx == 0:\n",
        "            pos = index\n",
        "        else:\n",
        "            pos = index - self.cumsum_lengths[doc_idx - 1]\n",
        "        return self.documents[doc_idx], pos\n",
        "\n",
        "    def __iter__(self):\n",
        "        \"\"\"Generate pairs on-the-fly\"\"\"\n",
        "        worker_info = torch.utils.data.get_worker_info()\n",
        "        if worker_info is None:\n",
        "            # Single-process data loading\n",
        "            start_idx = 0\n",
        "            end_idx = self.total_words\n",
        "        else:\n",
        "            # Multi-process data loading\n",
        "            per_worker = int(np.ceil(self.total_words / worker_info.num_workers))\n",
        "            worker_id = worker_info.id\n",
        "            start_idx = worker_id * per_worker\n",
        "            end_idx = min(start_idx + per_worker, self.total_words)\n",
        "\n",
        "        # Generate pairs for this worker's range\n",
        "        for idx in range(start_idx, end_idx):\n",
        "            document, pos = self._get_doc_and_pos(idx)\n",
        "\n",
        "            # Skip if word not in vocabulary\n",
        "            if document[pos] not in self.vocab:\n",
        "                continue\n",
        "\n",
        "            target_id = self.vocab[document[pos]]\n",
        "\n",
        "            # Generate context words within window\n",
        "            window_start = max(0, pos - self.window_size)\n",
        "            window_end = min(len(document), pos + self.window_size + 1)\n",
        "\n",
        "            for context_pos in range(window_start, window_end):\n",
        "                if context_pos != pos and document[context_pos] in self.vocab:\n",
        "                    context_id = self.vocab[document[context_pos]]\n",
        "                    neg_samples = self._get_negative_samples(target_id, context_id)\n",
        "\n",
        "                    yield (\n",
        "                        torch.tensor(target_id, dtype=torch.long),\n",
        "                        torch.tensor(context_id, dtype=torch.long),\n",
        "                        torch.tensor(neg_samples, dtype=torch.long)\n",
        "                    )\n",
        "\n",
        "    def __len__(self):\n",
        "        \"\"\"Approximate length for progress bars\"\"\"\n",
        "        return self.approx_pairs"
      ]
    },
    {
      "cell_type": "code",
      "execution_count": null,
      "id": "FCpSzeo8an8I",
      "metadata": {
        "execution": {
          "iopub.execute_input": "2024-10-24T06:22:24.375612Z",
          "iopub.status.busy": "2024-10-24T06:22:24.375158Z",
          "iopub.status.idle": "2024-10-24T06:23:12.668459Z",
          "shell.execute_reply": "2024-10-24T06:23:12.667081Z",
          "shell.execute_reply.started": "2024-10-24T06:22:24.375570Z"
        },
        "id": "FCpSzeo8an8I",
        "outputId": "1ec0e4e6-5f56-4f90-d2f2-8e772d9408fd",
        "papermill": {
          "duration": 40.7564,
          "end_time": "2024-10-23T18:13:02.038752",
          "exception": false,
          "start_time": "2024-10-23T18:12:21.282352",
          "status": "completed"
        },
        "tags": [],
        "trusted": true
      },
      "outputs": [
        {
          "name": "stdout",
          "output_type": "stream",
          "text": [
            "Building vocabulary...\n",
            "Creating negative sampling table...\n"
          ]
        }
      ],
      "source": [
        "# Creating dataloader\n",
        "batch_size = 1024\n",
        "window_size = 2\n",
        "num_negative = 5\n",
        "min_count = 5\n",
        "num_workers = 4\n",
        "\n",
        "dataset = SkipGramDataset(\n",
        "    documents=abstracts,\n",
        "    window_size=window_size,\n",
        "    num_negative=num_negative,\n",
        "    min_count=min_count\n",
        ")\n",
        "\n",
        "dataloader = torch.utils.data.DataLoader(\n",
        "    dataset=dataset,\n",
        "    batch_size=batch_size,\n",
        "    num_workers=num_workers,\n",
        "    shuffle=False,\n",
        "    collate_fn=lambda batch: (\n",
        "        torch.stack([item[0] for item in batch]),\n",
        "        torch.stack([item[1] for item in batch]),\n",
        "        torch.stack([item[2] for item in batch])\n",
        "    )\n",
        ")"
      ]
    },
    {
      "cell_type": "markdown",
      "id": "mjOtgl99q_76",
      "metadata": {
        "id": "mjOtgl99q_76"
      },
      "source": [
        "## **Task-3** Description of the model\n",
        "\n",
        "Skip-gram model with negative sampling, used for word embedding learning.\n",
        "\n",
        "**1. Architecture:**\n",
        "- Uses one embedding matrice for target words and one linear layer for context predictions\n",
        "- Implements negative sampling to improve training efficiency.\n",
        "\n",
        "**2. Main Components:**\n",
        "- `target_embeddings`: Embedding layer for target words\n",
        "- `context_linear`: Linear layer for predicting context words\n",
        "- Both layers are initialized with uniform random weights in [-0.1, 0.1]\n",
        "\n",
        "**3. Forward Pass:**\n",
        "- Takes target words, context words, and negative samples as input\n",
        "- Calculates positive scores for true context words\n",
        "- Calculates negative scores for randomly sampled negative words\n",
        "- Combines both into a negative sampling loss function\n",
        "\n",
        "The model is designed for efficient training on large text corpora to learn word representations that capture semantic relationships between words."
      ]
    },
    {
      "cell_type": "code",
      "execution_count": null,
      "id": "GB1O3AuFan8J",
      "metadata": {
        "execution": {
          "iopub.execute_input": "2024-10-24T08:22:02.009670Z",
          "iopub.status.busy": "2024-10-24T08:22:02.009242Z",
          "iopub.status.idle": "2024-10-24T08:22:02.029298Z",
          "shell.execute_reply": "2024-10-24T08:22:02.028073Z",
          "shell.execute_reply.started": "2024-10-24T08:22:02.009603Z"
        },
        "id": "GB1O3AuFan8J",
        "trusted": true
      },
      "outputs": [],
      "source": [
        "class SkipGramHybrid(nn.Module):\n",
        "    def __init__(self, vocab_size, embedding_dim):\n",
        "        super().__init__()\n",
        "\n",
        "        # Embedding layer for target words\n",
        "        self.target_embeddings = nn.Embedding(vocab_size, embedding_dim)\n",
        "\n",
        "        # Linear layer for context predictions\n",
        "        self.context_linear = nn.Linear(embedding_dim, vocab_size, bias=False)\n",
        "\n",
        "        # Initialize weights\n",
        "        self.target_embeddings.weight.data.uniform_(-0.1, 0.1)\n",
        "        self.context_linear.weight.data.uniform_(-0.1, 0.1)\n",
        "\n",
        "        self.embedding_dim = embedding_dim\n",
        "        self.vocab_size = vocab_size\n",
        "\n",
        "    def forward(self, target_words, context_words, negative_words):\n",
        "        num_negative = negative_words.size(1)\n",
        "\n",
        "        # Get target embeddings [batch_size, embedding_dim]\n",
        "        target_embeds = self.target_embeddings(target_words)\n",
        "\n",
        "        # Compute scores for positive context words\n",
        "        pos_scores = self.context_linear(target_embeds)\n",
        "        pos_scores = torch.gather(pos_scores, 1, context_words.unsqueeze(1))\n",
        "        pos_loss = -torch.log(torch.sigmoid(pos_scores)).squeeze()\n",
        "\n",
        "        # Compute scores for negative samples\n",
        "        neg_scores = self.context_linear(target_embeds).unsqueeze(1)\n",
        "        neg_scores = torch.gather(neg_scores.expand(-1, num_negative, -1), 2,\n",
        "                                negative_words.unsqueeze(2)).squeeze(2)\n",
        "        neg_loss = -torch.sum(torch.log(torch.sigmoid(-neg_scores)), dim=1)\n",
        "\n",
        "        return torch.mean(pos_loss + neg_loss)\n",
        "\n",
        "\n",
        "def train_skipgram(dataloader, embedding_dim=100, batch_size=1024, num_epochs=20, lr=0.001):\n",
        "    # Initialize model and optimizer\n",
        "    model = SkipGramHybrid(len(dataset.vocab), embedding_dim).to(device)\n",
        "    optimizer = torch.optim.SGD(model.parameters(), lr=lr)\n",
        "\n",
        "    training_loss = []\n",
        "    # Training loop\n",
        "    for epoch in range(num_epochs):\n",
        "        total_loss = 0\n",
        "        for target, context, negative in tqdm(dataloader, desc=f'Training: Epoch {epoch+1}/{num_epochs}'):\n",
        "            optimizer.zero_grad()\n",
        "            loss = model(target.to(device), context.to(device), negative.to(device))\n",
        "            loss.backward()\n",
        "            optimizer.step()\n",
        "\n",
        "            total_loss += loss.item()\n",
        "        avg_loss = total_loss / len(dataloader)\n",
        "        training_loss.append(avg_loss)\n",
        "        print(f\"Epoch {epoch}, Average Loss: {avg_loss:.4f}\")\n",
        "\n",
        "    return model, dataset.vocab, training_loss"
      ]
    },
    {
      "cell_type": "code",
      "execution_count": null,
      "id": "2R_haZXRan8L",
      "metadata": {
        "execution": {
          "iopub.execute_input": "2024-10-23T18:13:02.057553Z",
          "iopub.status.busy": "2024-10-23T18:13:02.056674Z",
          "iopub.status.idle": "2024-10-23T19:42:16.228534Z",
          "shell.execute_reply": "2024-10-23T19:42:16.227374Z"
        },
        "id": "2R_haZXRan8L",
        "outputId": "8c63bf41-f425-4261-ee7e-af9c9aeb9bfc",
        "papermill": {
          "duration": 5354.183211,
          "end_time": "2024-10-23T19:42:16.230625",
          "exception": false,
          "start_time": "2024-10-23T18:13:02.047414",
          "status": "completed"
        },
        "tags": []
      },
      "outputs": [
        {
          "name": "stderr",
          "output_type": "stream",
          "text": [
            "Training: Epoch 1/20:  99%|█████████▉| 7525/7589 [04:24<00:02, 28.46it/s]\n"
          ]
        },
        {
          "name": "stdout",
          "output_type": "stream",
          "text": [
            "Epoch 0, Average Loss: 2.4730\n"
          ]
        },
        {
          "name": "stderr",
          "output_type": "stream",
          "text": [
            "Training: Epoch 2/20:  99%|█████████▉| 7525/7589 [04:25<00:02, 28.35it/s]\n"
          ]
        },
        {
          "name": "stdout",
          "output_type": "stream",
          "text": [
            "Epoch 1, Average Loss: 2.0011\n"
          ]
        },
        {
          "name": "stderr",
          "output_type": "stream",
          "text": [
            "Training: Epoch 3/20:  99%|█████████▉| 7525/7589 [04:24<00:02, 28.49it/s]\n"
          ]
        },
        {
          "name": "stdout",
          "output_type": "stream",
          "text": [
            "Epoch 2, Average Loss: 1.8402\n"
          ]
        },
        {
          "name": "stderr",
          "output_type": "stream",
          "text": [
            "Training: Epoch 4/20:  99%|█████████▉| 7525/7589 [04:23<00:02, 28.56it/s]\n"
          ]
        },
        {
          "name": "stdout",
          "output_type": "stream",
          "text": [
            "Epoch 3, Average Loss: 1.7626\n"
          ]
        },
        {
          "name": "stderr",
          "output_type": "stream",
          "text": [
            "Training: Epoch 5/20:  99%|█████████▉| 7525/7589 [04:24<00:02, 28.44it/s]\n"
          ]
        },
        {
          "name": "stdout",
          "output_type": "stream",
          "text": [
            "Epoch 4, Average Loss: 1.7173\n"
          ]
        },
        {
          "name": "stderr",
          "output_type": "stream",
          "text": [
            "Training: Epoch 6/20:  99%|█████████▉| 7525/7589 [04:22<00:02, 28.70it/s]\n"
          ]
        },
        {
          "name": "stdout",
          "output_type": "stream",
          "text": [
            "Epoch 5, Average Loss: 1.6883\n"
          ]
        },
        {
          "name": "stderr",
          "output_type": "stream",
          "text": [
            "Training: Epoch 7/20:  99%|█████████▉| 7525/7589 [04:26<00:02, 28.25it/s]\n"
          ]
        },
        {
          "name": "stdout",
          "output_type": "stream",
          "text": [
            "Epoch 6, Average Loss: 1.6679\n"
          ]
        },
        {
          "name": "stderr",
          "output_type": "stream",
          "text": [
            "Training: Epoch 8/20:  99%|█████████▉| 7525/7589 [04:26<00:02, 28.29it/s]\n"
          ]
        },
        {
          "name": "stdout",
          "output_type": "stream",
          "text": [
            "Epoch 7, Average Loss: 1.6522\n"
          ]
        },
        {
          "name": "stderr",
          "output_type": "stream",
          "text": [
            "Training: Epoch 9/20:  99%|█████████▉| 7525/7589 [04:27<00:02, 28.17it/s]\n"
          ]
        },
        {
          "name": "stdout",
          "output_type": "stream",
          "text": [
            "Epoch 8, Average Loss: 1.6413\n"
          ]
        },
        {
          "name": "stderr",
          "output_type": "stream",
          "text": [
            "Training: Epoch 10/20:  99%|█████████▉| 7525/7589 [04:27<00:02, 28.18it/s]\n"
          ]
        },
        {
          "name": "stdout",
          "output_type": "stream",
          "text": [
            "Epoch 9, Average Loss: 1.6317\n"
          ]
        },
        {
          "name": "stderr",
          "output_type": "stream",
          "text": [
            "Training: Epoch 11/20:  99%|█████████▉| 7525/7589 [04:27<00:02, 28.14it/s]\n"
          ]
        },
        {
          "name": "stdout",
          "output_type": "stream",
          "text": [
            "Epoch 10, Average Loss: 1.6240\n"
          ]
        },
        {
          "name": "stderr",
          "output_type": "stream",
          "text": [
            "Training: Epoch 12/20:  99%|█████████▉| 7525/7589 [04:26<00:02, 28.21it/s]\n"
          ]
        },
        {
          "name": "stdout",
          "output_type": "stream",
          "text": [
            "Epoch 11, Average Loss: 1.6185\n"
          ]
        },
        {
          "name": "stderr",
          "output_type": "stream",
          "text": [
            "Training: Epoch 13/20:  99%|█████████▉| 7525/7589 [04:31<00:02, 27.76it/s]\n"
          ]
        },
        {
          "name": "stdout",
          "output_type": "stream",
          "text": [
            "Epoch 12, Average Loss: 1.6131\n"
          ]
        },
        {
          "name": "stderr",
          "output_type": "stream",
          "text": [
            "Training: Epoch 14/20:  99%|█████████▉| 7525/7589 [04:29<00:02, 27.96it/s]\n"
          ]
        },
        {
          "name": "stdout",
          "output_type": "stream",
          "text": [
            "Epoch 13, Average Loss: 1.6085\n"
          ]
        },
        {
          "name": "stderr",
          "output_type": "stream",
          "text": [
            "Training: Epoch 15/20:  99%|█████████▉| 7525/7589 [04:32<00:02, 27.57it/s]\n"
          ]
        },
        {
          "name": "stdout",
          "output_type": "stream",
          "text": [
            "Epoch 14, Average Loss: 1.6049\n"
          ]
        },
        {
          "name": "stderr",
          "output_type": "stream",
          "text": [
            "Training: Epoch 16/20:  99%|█████████▉| 7525/7589 [04:27<00:02, 28.12it/s]\n"
          ]
        },
        {
          "name": "stdout",
          "output_type": "stream",
          "text": [
            "Epoch 15, Average Loss: 1.6016\n"
          ]
        },
        {
          "name": "stderr",
          "output_type": "stream",
          "text": [
            "Training: Epoch 17/20:  99%|█████████▉| 7525/7589 [04:30<00:02, 27.81it/s]\n"
          ]
        },
        {
          "name": "stdout",
          "output_type": "stream",
          "text": [
            "Epoch 16, Average Loss: 1.5990\n"
          ]
        },
        {
          "name": "stderr",
          "output_type": "stream",
          "text": [
            "Training: Epoch 18/20:  99%|█████████▉| 7525/7589 [04:30<00:02, 27.78it/s]\n"
          ]
        },
        {
          "name": "stdout",
          "output_type": "stream",
          "text": [
            "Epoch 17, Average Loss: 1.5960\n"
          ]
        },
        {
          "name": "stderr",
          "output_type": "stream",
          "text": [
            "Training: Epoch 19/20:  99%|█████████▉| 7525/7589 [04:32<00:02, 27.60it/s]\n"
          ]
        },
        {
          "name": "stdout",
          "output_type": "stream",
          "text": [
            "Epoch 18, Average Loss: 1.5938\n"
          ]
        },
        {
          "name": "stderr",
          "output_type": "stream",
          "text": [
            "Training: Epoch 20/20:  99%|█████████▉| 7525/7589 [04:32<00:02, 27.57it/s]"
          ]
        },
        {
          "name": "stdout",
          "output_type": "stream",
          "text": [
            "Epoch 19, Average Loss: 1.5918\n"
          ]
        },
        {
          "name": "stderr",
          "output_type": "stream",
          "text": [
            "\n"
          ]
        }
      ],
      "source": [
        "# Train the model\n",
        "model, vocab, training_loss = train_skipgram(dataloader)"
      ]
    },
    {
      "cell_type": "markdown",
      "id": "eg6IN35QuFLM",
      "metadata": {
        "id": "eg6IN35QuFLM"
      },
      "source": [
        "## **Task-5.** Plot Epochs vs. Training Error\n",
        "Plot the relationship between the number of epochs and the training error."
      ]
    },
    {
      "cell_type": "code",
      "execution_count": null,
      "id": "9cmtVN7MtVu_",
      "metadata": {
        "colab": {
          "base_uri": "https://localhost:8080/",
          "height": 607
        },
        "id": "9cmtVN7MtVu_",
        "outputId": "f77bd8b0-6016-4b33-dbf4-8ee7b0ef2bd1"
      },
      "outputs": [
        {
          "data": {
            "image/png": "[encoded data removed]",
            "text/plain": [
              "<Figure size 1000x600 with 1 Axes>"
            ]
          },
          "metadata": {},
          "output_type": "display_data"
        }
      ],
      "source": [
        "plt.figure(figsize=(10, 6))\n",
        "plt.plot(training_loss, marker='o', linestyle='-', color='b', markersize=5)\n",
        "plt.title('Training Loss per Epoch', fontsize=16)\n",
        "plt.xlabel('Epoch', fontsize=14)\n",
        "plt.ylabel('Training Loss', fontsize=14)\n",
        "plt.xticks(range(len(training_loss)))\n",
        "plt.grid(True)\n",
        "plt.tight_layout()\n",
        "plt.show()"
      ]
    },
    {
      "cell_type": "code",
      "execution_count": null,
      "id": "2SAkRi4lan8Q",
      "metadata": {
        "execution": {
          "iopub.execute_input": "2024-10-23T19:42:27.878227Z",
          "iopub.status.busy": "2024-10-23T19:42:27.877848Z",
          "iopub.status.idle": "2024-10-23T19:42:27.897887Z",
          "shell.execute_reply": "2024-10-23T19:42:27.897172Z"
        },
        "id": "2SAkRi4lan8Q",
        "papermill": {
          "duration": 2.922969,
          "end_time": "2024-10-23T19:42:27.899682",
          "exception": false,
          "start_time": "2024-10-23T19:42:24.976713",
          "status": "completed"
        },
        "tags": []
      },
      "outputs": [],
      "source": [
        "# Saving the model\n",
        "torch.save(model.state_dict(), '/kaggle/working/model.pth')"
      ]
    },
    {
      "cell_type": "code",
      "execution_count": null,
      "id": "PCG7GtqWan8S",
      "metadata": {
        "execution": {
          "iopub.execute_input": "2024-10-24T08:22:02.031132Z",
          "iopub.status.busy": "2024-10-24T08:22:02.030684Z",
          "iopub.status.idle": "2024-10-24T08:22:25.009088Z",
          "shell.execute_reply": "2024-10-24T08:22:25.007896Z",
          "shell.execute_reply.started": "2024-10-24T08:22:02.031083Z"
        },
        "id": "PCG7GtqWan8S",
        "outputId": "53347704-6f0b-425f-8782-96d5fff07f8f",
        "trusted": true
      },
      "outputs": [
        {
          "name": "stdout",
          "output_type": "stream",
          "text": [
            "Building vocabulary...\n",
            "Creating negative sampling table...\n"
          ]
        },
        {
          "name": "stderr",
          "output_type": "stream",
          "text": [
            "/tmp/ipykernel_36/394975449.py:32: FutureWarning: You are using `torch.load` with `weights_only=False` (the current default value), which uses the default pickle module implicitly. It is possible to construct malicious pickle data which will execute arbitrary code during unpickling (See https://github.com/pytorch/pytorch/blob/main/SECURITY.md#untrusted-models for more details). In a future release, the default value for `weights_only` will be flipped to `True`. This limits the functions that could be executed during unpickling. Arbitrary objects will no longer be allowed to be loaded via this mode unless they are explicitly allowlisted by the user via `torch.serialization.add_safe_globals`. We recommend you start setting `weights_only=True` for any use case where you don't have full control of the loaded file. Please open an issue on GitHub for any issues related to this experimental feature.\n",
            "  model.load_state_dict(torch.load('/kaggle/input/skipgram_model.pth', map_location=device))\n"
          ]
        },
        {
          "data": {
            "text/plain": [
              "<All keys matched successfully>"
            ]
          },
          "execution_count": 6,
          "metadata": {},
          "output_type": "execute_result"
        }
      ],
      "source": [
        "vocab = dataset.vocab\n",
        "word_to_idx = {w:i for w,i in vocab.items()}\n",
        "idx_to_word = {i:w for w,i in vocab.items()}\n",
        "embedding_dim = 100\n",
        "\n",
        "# Loading the model\n",
        "model = SkipGramHybrid(len(vocab), embedding_dim).to(device)\n",
        "model.load_state_dict(torch.load('/kaggle/input/skipgram_model.pth', map_location=device))"
      ]
    },
    {
      "cell_type": "markdown",
      "id": "Fzb-WnbxuMuI",
      "metadata": {
        "id": "Fzb-WnbxuMuI"
      },
      "source": [
        "## **Task-7.** Test Analogies"
      ]
    },
    {
      "cell_type": "code",
      "execution_count": null,
      "id": "FNM01Rojan8U",
      "metadata": {
        "execution": {
          "iopub.execute_input": "2024-10-24T08:22:25.011109Z",
          "iopub.status.busy": "2024-10-24T08:22:25.010541Z",
          "iopub.status.idle": "2024-10-24T08:22:25.137601Z",
          "shell.execute_reply": "2024-10-24T08:22:25.136218Z",
          "shell.execute_reply.started": "2024-10-24T08:22:25.011056Z"
        },
        "id": "FNM01Rojan8U",
        "outputId": "1873d483-7fd9-450f-e4c8-8efa90fb624b",
        "papermill": {
          "duration": 2.843358,
          "end_time": "2024-10-23T19:42:45.003104",
          "exception": false,
          "start_time": "2024-10-23T19:42:42.159746",
          "status": "completed"
        },
        "tags": [],
        "trusted": true
      },
      "outputs": [
        {
          "name": "stdout",
          "output_type": "stream",
          "text": [
            "Testing COVID-19 Related Analogies:\n",
            "\n",
            "antigen : negative :: infection : ?\n",
            "Predicted: vaccine\n",
            "Confidence (cosine similarity): 0.2898\n",
            "\n",
            "antibody : immunity :: vaccination : ?\n",
            "Predicted: proteolysis\n",
            "Confidence (cosine similarity): 0.3224\n",
            "\n"
          ]
        }
      ],
      "source": [
        "def get_word_vector(word, word_to_idx, embeddings):\n",
        "    \"\"\"Get the embedding vector for a word\"\"\"\n",
        "    if word in word_to_idx:\n",
        "        idx = word_to_idx[word]\n",
        "        # Convert to tensor and get embedding\n",
        "        idx_tensor = torch.tensor([idx])\n",
        "        return embeddings(idx_tensor).detach()\n",
        "    return None\n",
        "\n",
        "def cosine_similarity_torch(v1, v2):\n",
        "    \"\"\"Calculate cosine similarity between two vectors using PyTorch\"\"\"\n",
        "    return F.cosine_similarity(v1.unsqueeze(0), v2.unsqueeze(0))\n",
        "\n",
        "def find_closest_word(vector, word_to_idx, idx_to_word, embeddings, exclude_words=None):\n",
        "    \"\"\"Find the word with the closest embedding to the given vector\"\"\"\n",
        "    if exclude_words is None:\n",
        "        exclude_words = set()\n",
        "\n",
        "    # Create tensor of all word indices\n",
        "    all_indices = torch.tensor(list(word_to_idx.values()))\n",
        "\n",
        "    # Get embeddings for all words\n",
        "    all_embeddings = embeddings(all_indices)\n",
        "\n",
        "    # Calculate cosine similarities using PyTorch operations\n",
        "    similarities = F.cosine_similarity(vector.unsqueeze(0), all_embeddings)\n",
        "\n",
        "    # Convert to numpy for easier processing\n",
        "    similarities = similarities.detach().squeeze()\n",
        "\n",
        "    # Sort indices by similarity\n",
        "    sorted_indices = torch.argsort(similarities, descending=True).numpy()\n",
        "\n",
        "    # Find the closest word that's not in exclude_words\n",
        "    for idx in sorted_indices:\n",
        "        word = idx_to_word[idx]\n",
        "        if word not in exclude_words:\n",
        "            return word, similarities[idx]\n",
        "\n",
        "    return None, None\n",
        "\n",
        "def test_covid_analogy(word1, word2, word3, word_to_idx, idx_to_word, embeddings):\n",
        "    \"\"\"\n",
        "    Test analogy of the form: word1 : word2 :: word3 : ?\n",
        "    Returns the word that best completes the analogy\n",
        "    \"\"\"\n",
        "    # Get word vectors\n",
        "    v1 = get_word_vector(word1, word_to_idx, embeddings)\n",
        "    v2 = get_word_vector(word2, word_to_idx, embeddings)\n",
        "    v3 = get_word_vector(word3, word_to_idx, embeddings)\n",
        "\n",
        "    if v1 is None or v2 is None or v3 is None:\n",
        "        return None, None\n",
        "\n",
        "    # Calculate the expected vector for word4\n",
        "    # Using the formula: v4 ≈ v2 - v1 + v3\n",
        "    target_vector = v2 - v1 + v3\n",
        "\n",
        "    # Find the closest word to the target vector\n",
        "    exclude_words = {word1, word2, word3}\n",
        "    return find_closest_word(target_vector, word_to_idx, idx_to_word, embeddings, exclude_words)\n",
        "\n",
        "def evaluate_covid_analogies(model, word_to_idx, idx_to_word):\n",
        "    \"\"\"\n",
        "    Test a set of COVID-19 related analogies\n",
        "    \"\"\"\n",
        "    print(\"Testing COVID-19 Related Analogies:\\n\")\n",
        "\n",
        "    # Put model in eval mode\n",
        "    model.eval()\n",
        "\n",
        "    # Use the target embeddings for word vectors\n",
        "    embeddings = model.target_embeddings\n",
        "\n",
        "    # Example analogies using COVID-19 terms\n",
        "    analogies = [\n",
        "        (\"antigen\", \"negative\", \"infection\"),\n",
        "        (\"antibody\", \"immunity\", \"vaccination\")\n",
        "    ]\n",
        "\n",
        "    with torch.no_grad():  # Disable gradient computation for inference\n",
        "        for a1, a2, a3 in analogies:\n",
        "            predicted_word, similarity = test_covid_analogy(\n",
        "                a1, a2, a3, word_to_idx, idx_to_word, embeddings\n",
        "            )\n",
        "\n",
        "            print(f\"{a1} : {a2} :: {a3} : ?\")\n",
        "            print(f\"Predicted: {predicted_word}\")\n",
        "            if similarity is not None:\n",
        "                print(f\"Confidence (cosine similarity): {similarity:.4f}\")\n",
        "            print()\n",
        "\n",
        "evaluate_covid_analogies(model, word_to_idx, idx_to_word)"
      ]
    },
    {
      "cell_type": "markdown",
      "id": "FA7kgE9suoA8",
      "metadata": {
        "id": "FA7kgE9suoA8"
      },
      "source": [
        "## Assigment-5"
      ]
    },
    {
      "cell_type": "code",
      "execution_count": null,
      "id": "TLzQ9_2ban8W",
      "metadata": {
        "execution": {
          "iopub.execute_input": "2024-10-24T08:22:25.166272Z",
          "iopub.status.busy": "2024-10-24T08:22:25.165902Z",
          "iopub.status.idle": "2024-10-24T08:22:25.224504Z",
          "shell.execute_reply": "2024-10-24T08:22:25.223393Z",
          "shell.execute_reply.started": "2024-10-24T08:22:25.166234Z"
        },
        "id": "TLzQ9_2ban8W",
        "outputId": "21f42594-bc40-4fb9-dd51-b449ee6339cd",
        "trusted": true
      },
      "outputs": [
        {
          "name": "stdout",
          "output_type": "stream",
          "text": [
            "\n",
            "Analyzing similar words for: 'covid'\n",
            "\n",
            "Using Input Matrix (Win):\n",
            "pandemic: 0.5595\n",
            "espaa: 0.4838\n",
            "cuidados: 0.4712\n",
            "diagnstico: 0.4687\n",
            "aspectos: 0.4503\n",
            "\n",
            "Using Output Matrix (Wout):\n",
            "pandemic: 0.8617\n",
            "distancing: 0.8241\n",
            "combating: 0.8233\n",
            "resumen: 0.8226\n",
            "sgrna: 0.8203\n",
            "\n",
            "Using Averaged Matrices:\n",
            "pandemic: 0.6705\n",
            "moderatetosevere: 0.5911\n",
            "resumen: 0.5892\n",
            "espaa: 0.5829\n",
            "amid: 0.5776\n",
            "\n",
            "Using Concatenated Matrices:\n",
            "pandemic: 0.7288\n",
            "diagnstico: 0.6683\n",
            "espaa: 0.6668\n",
            "resumen: 0.6602\n",
            "cuidados: 0.6563\n",
            "\n",
            "Overlap Analysis:\n",
            "Win-Wout: 1 words in common\n",
            "Average-Win: 2 words in common\n",
            "Average-Wout: 2 words in common\n",
            "Average-Concatenate: 3 words in common\n",
            "Concatenate-Win: 4 words in common\n",
            "Concatenate-Wout: 2 words in common\n"
          ]
        }
      ],
      "source": [
        "def get_similar_words_win(word, word_to_idx, idx_to_word, model, top_k=5):\n",
        "    \"\"\"Find similar words using input embeddings (Win)\"\"\"\n",
        "    if word not in word_to_idx:\n",
        "        return []\n",
        "\n",
        "    with torch.no_grad():\n",
        "        # Get the word embedding from Win (target_embeddings)\n",
        "        word_idx = torch.tensor([word_to_idx[word]])\n",
        "        word_vec = model.target_embeddings(word_idx)\n",
        "\n",
        "        # Get all word embeddings\n",
        "        all_indices = torch.arange(len(word_to_idx))\n",
        "        all_embeddings = model.target_embeddings(all_indices)\n",
        "\n",
        "        # Calculate cosine similarities\n",
        "        similarities = F.cosine_similarity(word_vec, all_embeddings)\n",
        "\n",
        "        # Get top-k similar words\n",
        "        top_indices = torch.argsort(similarities, descending=True)[1:top_k+1]  # Skip the word itself\n",
        "\n",
        "        results = []\n",
        "        for idx in top_indices:\n",
        "            similar_word = idx_to_word[idx.item()]\n",
        "            similarity = similarities[idx].item()\n",
        "            results.append((similar_word, similarity))\n",
        "\n",
        "        return results\n",
        "\n",
        "def get_similar_words_wout(word, word_to_idx, idx_to_word, model, top_k=5):\n",
        "    \"\"\"Find similar words using output embeddings (Wout)\"\"\"\n",
        "    if word not in word_to_idx:\n",
        "        return []\n",
        "\n",
        "    with torch.no_grad():\n",
        "        # Get the word vector from Wout (context_linear weights)\n",
        "        word_idx = word_to_idx[word]\n",
        "        word_vec = model.context_linear.weight[word_idx]\n",
        "\n",
        "        # Get all word vectors from Wout\n",
        "        all_embeddings = model.context_linear.weight\n",
        "\n",
        "        # Calculate cosine similarities\n",
        "        similarities = F.cosine_similarity(word_vec.unsqueeze(0), all_embeddings)\n",
        "\n",
        "        # Get top-k similar words\n",
        "        top_indices = torch.argsort(similarities, descending=True)[1:top_k+1]  # Skip the word itself\n",
        "\n",
        "        results = []\n",
        "        for idx in top_indices:\n",
        "            similar_word = idx_to_word[idx.item()]\n",
        "            similarity = similarities[idx].item()\n",
        "            results.append((similar_word, similarity))\n",
        "\n",
        "        return results\n",
        "\n",
        "def get_similar_words_combined(word, word_to_idx, idx_to_word, model, method='average', top_k=5):\n",
        "    \"\"\"Find similar words using combined embeddings (Win and Wout)\"\"\"\n",
        "    if word not in word_to_idx:\n",
        "        return []\n",
        "\n",
        "    with torch.no_grad():\n",
        "        word_idx = word_to_idx[word]\n",
        "\n",
        "        # Get word vectors from both matrices\n",
        "        win_vec = model.target_embeddings(torch.tensor([word_idx]))\n",
        "        wout_vec = model.context_linear.weight[word_idx]\n",
        "\n",
        "        # Combine vectors based on method\n",
        "        if method == 'concatenate':\n",
        "            word_vec = torch.cat([win_vec.squeeze(0), wout_vec])\n",
        "        else:  # average\n",
        "            word_vec = (win_vec.squeeze(0) + wout_vec) / 2\n",
        "\n",
        "        # Get combined vectors for all words\n",
        "        all_win = model.target_embeddings(torch.arange(len(word_to_idx)))\n",
        "        all_wout = model.context_linear.weight\n",
        "\n",
        "        if method == 'concatenate':\n",
        "            all_embeddings = torch.cat([all_win, all_wout], dim=1)\n",
        "        else:  # average\n",
        "            all_embeddings = (all_win + all_wout) / 2\n",
        "\n",
        "        # Calculate cosine similarities\n",
        "        similarities = F.cosine_similarity(word_vec.unsqueeze(0), all_embeddings)\n",
        "\n",
        "        # Get top-k similar words\n",
        "        top_indices = torch.argsort(similarities, descending=True)[1:top_k+1]  # Skip the word itself\n",
        "\n",
        "        results = []\n",
        "        for idx in top_indices:\n",
        "            similar_word = idx_to_word[idx.item()]\n",
        "            similarity = similarities[idx].item()\n",
        "            results.append((similar_word, similarity))\n",
        "\n",
        "        return results\n",
        "\n",
        "def compare_embeddings(word, word_to_idx, idx_to_word, model, top_k=5):\n",
        "    \"\"\"Compare similar words using different embedding approaches\"\"\"\n",
        "    print(f\"\\nAnalyzing similar words for: '{word}'\\n\")\n",
        "\n",
        "    # Get similar words using different methods\n",
        "    win_similar = get_similar_words_win(word, word_to_idx, idx_to_word, model, top_k)\n",
        "    wout_similar = get_similar_words_wout(word, word_to_idx, idx_to_word, model, top_k)\n",
        "    avg_similar = get_similar_words_combined(word, word_to_idx, idx_to_word, model, 'average', top_k)\n",
        "    concat_similar = get_similar_words_combined(word, word_to_idx, idx_to_word, model, 'concatenate', top_k)\n",
        "\n",
        "    # Print results\n",
        "    print(\"Using Input Matrix (Win):\")\n",
        "    for word, sim in win_similar:\n",
        "        print(f\"{word}: {sim:.4f}\")\n",
        "\n",
        "    print(\"\\nUsing Output Matrix (Wout):\")\n",
        "    for word, sim in wout_similar:\n",
        "        print(f\"{word}: {sim:.4f}\")\n",
        "\n",
        "    print(\"\\nUsing Averaged Matrices:\")\n",
        "    for word, sim in avg_similar:\n",
        "        print(f\"{word}: {sim:.4f}\")\n",
        "\n",
        "    print(\"\\nUsing Concatenated Matrices:\")\n",
        "    for word, sim in concat_similar:\n",
        "        print(f\"{word}: {sim:.4f}\")\n",
        "\n",
        "    # Analyze overlap between methods\n",
        "    all_methods = {\n",
        "        'Win': set(word for word, _ in win_similar),\n",
        "        'Wout': set(word for word, _ in wout_similar),\n",
        "        'Average': set(word for word, _ in avg_similar),\n",
        "        'Concatenate': set(word for word, _ in concat_similar)\n",
        "    }\n",
        "\n",
        "    # Calculate overlap statistics\n",
        "    overlap_stats = defaultdict(int)\n",
        "    for method1, words1 in all_methods.items():\n",
        "        for method2, words2 in all_methods.items():\n",
        "            if method1 < method2:  # Avoid counting pairs twice\n",
        "                overlap = len(words1.intersection(words2))\n",
        "                overlap_stats[f\"{method1}-{method2}\"] = overlap\n",
        "\n",
        "    print(\"\\nOverlap Analysis:\")\n",
        "    for pair, count in overlap_stats.items():\n",
        "        print(f\"{pair}: {count} words in common\")\n",
        "\n",
        "\n",
        "compare_embeddings(\"covid\", word_to_idx, idx_to_word, model, top_k=5)"
      ]
    },
    {
      "cell_type": "markdown",
      "id": "D64-A9f_uvRB",
      "metadata": {
        "id": "D64-A9f_uvRB"
      },
      "source": [
        "**Description of the outcome**\n",
        "\n",
        "This output compares different word embedding methods by looking at their top-5 similar word predictions, measuring how many words they share in common:\n",
        "\n",
        "1. `Win-Wout`: Only 1/5 words overlap (20%) - these methods produce quite different results\n",
        "2. `Average-Win` and `Average-Wout`: Both share 2/5 words (40%) - suggesting the Average method has moderate alignment with both approaches\n",
        "3. `Average-Concatenate`: 3/5 words in common (60%) - shows strong agreement between these methods\n",
        "4. `Concatenate-Win`: Highest overlap with 4/5 words (80%) - indicates these two methods are finding almost the same set of similar words\n",
        "5. `Concatenate-Wout`: 2/5 words in common (40%) - moderate overlap\n",
        "\n",
        "Looking at the percentages makes the relationships clearer:\n",
        "- Concatenate and Win methods are most similar (80% overlap)\n",
        "- Average and Concatenate show strong agreement (60% overlap)\n",
        "- Win and Wout are most different (20% overlap)\n",
        "- Other combinations show moderate agreement (40% overlap)\n",
        "\n",
        "This suggests that the Concatenate method might be capturing the best of both Win and Wout approaches, as it shows strong alignment with Win while maintaining some similarity with Wout."
      ]
    },
    {
      "cell_type": "markdown",
      "id": "BsNoWSrOgIDS",
      "metadata": {
        "id": "BsNoWSrOgIDS"
      },
      "source": [
        "**Task-5.** A slide related to the complexities of skipgram and CBOW model was shown in the class. Check if they\n",
        "are correct. If not, what are the correct entries?\n",
        "\n",
        "I can confirm that the complexities shown in the slide are correct:\n",
        "\n",
        "1. Skip-gram with Hierarchical Softmax: O(T·N·C·log V)\n",
        "- This is correct as the hierarchical softmax reduces the complexity from O(V) to O(log V)\n",
        "\n",
        "2. Skip-gram with Negative Sampling: O(T·N·C·k)\n",
        "- This is correct as negative sampling reduces complexity to depend on k samples instead of V\n",
        "\n",
        "3. CBOW (Continuous Bag of Words) with Hierarchical Softmax: O(T·N·C·log V)\n",
        "- This matches the expected complexity, similar to Skip-gram with hierarchical softmax\n",
        "\n",
        "4. CBOW with Negative Sampling: O(T·N·C·k)\n",
        "- This is accurate, following the same pattern as Skip-gram with negative sampling\n",
        "\n",
        "5. Cosine Similarity: O(N)\n",
        "- This is correct as it involves vector operations proportional to embedding dimension\n",
        "\n",
        "6. Analogy Task: O(V·N)\n",
        "- This is accurate as it typically involves scanning through the vocabulary while doing vector operations\n",
        "\n",
        "The definitions of variables are also correctly stated:\n",
        "- T: total number of words in corpus\n",
        "- V: vocabulary size\n",
        "- N: embedding size\n",
        "- C: context window size\n",
        "- k: number of negative samples"
      ]
    }
  ],
  "metadata": {
    "colab": {
      "provenance": []
    },
    "kaggle": {
      "accelerator": "none",
      "dataSources": [
        {
          "databundleVersionId": 9941651,
          "datasetId": 5608831,
          "sourceId": 9707844,
          "sourceType": "datasetVersion"
        }
      ],
      "dockerImageVersionId": 30761,
      "isGpuEnabled": false,
      "isInternetEnabled": true,
      "language": "python",
      "sourceType": "notebook"
    },
    "kernelspec": {
      "display_name": "base",
      "language": "python",
      "name": "python3"
    },
    "language_info": {
      "codemirror_mode": {
        "name": "ipython",
        "version": 3
      },
      "file_extension": ".py",
      "mimetype": "text/x-python",
      "name": "python",
      "nbconvert_exporter": "python",
      "pygments_lexer": "ipython3",
      "version": "3.12.4"
    },
    "papermill": {
      "default_parameters": {},
      "duration": 5856.484277,
      "end_time": "2024-10-23T19:42:49.643305",
      "environment_variables": {},
      "exception": null,
      "input_path": "__notebook__.ipynb",
      "output_path": "__notebook__.ipynb",
      "parameters": {},
      "start_time": "2024-10-23T18:05:13.159028",
      "version": "2.6.0"
    }
  },
  "nbformat": 4,
  "nbformat_minor": 5
}