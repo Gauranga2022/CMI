{
 "cells": [
  {
   "cell_type": "markdown",
   "metadata": {},
   "source": [
    "<h1 align = 'center'> Emotion Detection using ResNet </h1"
   ]
  },
  {
   "cell_type": "markdown",
   "metadata": {},
   "source": [
    "### Siddhesh Maheshwari MDS202342 <br> Narendra C MDS202336 <br> Gauranga Kumar Baishya MDS202325"
   ]
  },
  {
   "cell_type": "code",
   "execution_count": 3,
   "metadata": {
    "_cell_guid": "b1076dfc-b9ad-4769-8c92-a6c4dae69d19",
    "_kg_hide-output": true,
    "_uuid": "8f2839f25d086af736a60e9eeb907d3b93b6e0e5",
    "execution": {
     "iopub.execute_input": "2024-09-28T13:52:21.458883Z",
     "iopub.status.busy": "2024-09-28T13:52:21.458482Z",
     "iopub.status.idle": "2024-09-28T13:52:31.613359Z",
     "shell.execute_reply": "2024-09-28T13:52:31.612453Z",
     "shell.execute_reply.started": "2024-09-28T13:52:21.458842Z"
    },
    "scrolled": true
   },
   "outputs": [
    {
     "name": "stdout",
     "output_type": "stream",
     "text": [
      "Total number of files in '/kaggle/input/emotion-detection-fer/train' and its subdirectories: 28709\n",
      "Total number of files in '/kaggle/input/emotion-detection-fer/test' and its subdirectories: 7178\n"
     ]
    }
   ],
   "source": [
    "import numpy as np # linear algebra\n",
    "import pandas as pd # data processing, CSV file I/O (e.g. pd.read_csv)\n",
    "\n",
    "import os\n",
    "def count_files_recursive(directory):\n",
    "  \"\"\"Recursively counts the total number of files within a directory and its subdirectories.\"\"\"\n",
    "  total_count = 0\n",
    "  for root, _, files in os.walk(directory):\n",
    "    total_count += len(files)\n",
    "  return total_count\n",
    "\n",
    "# Example usage:\n",
    "directory_path = \"/kaggle/input/emotion-detection-fer/train\"  # Replace with the path to your directory\n",
    "total_file_count = count_files_recursive(directory_path)\n",
    "print(f\"Total number of files in '{directory_path}' and its subdirectories: {total_file_count}\")\n",
    "directory_path = \"/kaggle/input/emotion-detection-fer/test\"  # Replace with the path to your directory\n",
    "total_file_count = count_files_recursive(directory_path)\n",
    "print(f\"Total number of files in '{directory_path}' and its subdirectories: {total_file_count}\")"
   ]
  },
  {
   "cell_type": "code",
   "execution_count": null,
   "metadata": {
    "execution": {
     "iopub.execute_input": "2024-09-28T13:52:31.615594Z",
     "iopub.status.busy": "2024-09-28T13:52:31.615182Z",
     "iopub.status.idle": "2024-09-28T13:52:31.619965Z",
     "shell.execute_reply": "2024-09-28T13:52:31.618863Z",
     "shell.execute_reply.started": "2024-09-28T13:52:31.615560Z"
    }
   },
   "outputs": [],
   "source": [
    "import warnings\n",
    "# Suppress all warnings\n",
    "warnings.filterwarnings(\"ignore\")"
   ]
  },
  {
   "cell_type": "code",
   "execution_count": 5,
   "metadata": {
    "execution": {
     "iopub.execute_input": "2024-09-28T13:52:31.622249Z",
     "iopub.status.busy": "2024-09-28T13:52:31.621210Z",
     "iopub.status.idle": "2024-09-28T13:52:34.495891Z",
     "shell.execute_reply": "2024-09-28T13:52:34.494927Z",
     "shell.execute_reply.started": "2024-09-28T13:52:31.622206Z"
    }
   },
   "outputs": [
    {
     "name": "stdout",
     "output_type": "stream",
     "text": [
      "cuda:0\n",
      "cpu count :  4\n"
     ]
    }
   ],
   "source": [
    "import torch\n",
    "import torch.nn as nn\n",
    "import torch.nn.functional as F\n",
    "import torch.optim as optim\n",
    "import torch.nn.functional as F\n",
    "import matplotlib.pyplot as plt\n",
    "import numpy\n",
    "import random\n",
    "import os\n",
    "\n",
    "from torchvision import datasets, transforms, models\n",
    "from torchvision.transforms import ToTensor\n",
    "from torch.utils.data import Dataset, DataLoader\n",
    "\n",
    "# set the PseudoRandom Generator Seeds for better reproducibility\n",
    "# see here for more: https://pytorch.org/docs/stable/notes/randomness.html\n",
    "torch.manual_seed(99)\n",
    "random.seed(99)\n",
    "numpy.random.seed(99)\n",
    "\n",
    "# this 'device' will be used for training our model\n",
    "device = torch.device(\"cuda:0\" if torch.cuda.is_available() else \"cpu\")\n",
    "print(device)\n",
    "print(\"cpu count : \",os.cpu_count())"
   ]
  },
  {
   "cell_type": "markdown",
   "metadata": {},
   "source": [
    "## Custom Dataset and DataLoader for Emotion Detection\n",
    "\n",
    "This code defines a custom dataset class to load and preprocess emotion images, converting them to grayscale and applying transformations, while also initializing DataLoaders for training and testing sets.\n"
   ]
  },
  {
   "cell_type": "code",
   "execution_count": 6,
   "metadata": {
    "execution": {
     "iopub.execute_input": "2024-09-28T13:52:34.497899Z",
     "iopub.status.busy": "2024-09-28T13:52:34.497455Z",
     "iopub.status.idle": "2024-09-28T13:52:34.614125Z",
     "shell.execute_reply": "2024-09-28T13:52:34.613305Z",
     "shell.execute_reply.started": "2024-09-28T13:52:34.497863Z"
    }
   },
   "outputs": [],
   "source": [
    "input_size  = 28*28\n",
    "output_size = 7\n",
    "from PIL import Image\n",
    "\n",
    "class CustomDataset(Dataset):\n",
    "    def __init__(self, data_root, transform=None):\n",
    "        self.data_root = data_root\n",
    "        self.transform = transform\n",
    "        self.images = []\n",
    "        self.labels = []\n",
    "\n",
    "        # Explicit mapping from class names to numeric labels\n",
    "        self.class_to_idx = {\n",
    "            \"angry\": 0,\n",
    "            \"disgusted\": 1,\n",
    "            \"fearful\": 2,\n",
    "            \"happy\": 3,\n",
    "            \"neutral\": 4,\n",
    "            \"sad\": 5,\n",
    "            \"surprised\": 6\n",
    "        }\n",
    "\n",
    "        # Loop through each class folder and gather image paths and labels\n",
    "        for class_name, idx in self.class_to_idx.items():\n",
    "            class_folder = os.path.join(data_root, class_name)\n",
    "            if os.path.isdir(class_folder):\n",
    "                for image_file in os.listdir(class_folder):\n",
    "                    image_path = os.path.join(class_folder, image_file)\n",
    "                    if image_file.endswith(('.png', '.jpg', '.jpeg')):\n",
    "                        self.images.append(image_path)\n",
    "                        self.labels.append(idx)\n",
    "\n",
    "    def __len__(self):\n",
    "        return len(self.images)\n",
    "\n",
    "    def __getitem__(self, index):\n",
    "        image_path = self.images[index]\n",
    "        image = Image.open(image_path).convert('L')  # Convert to grayscale (black and white)\n",
    "\n",
    "        if self.transform:\n",
    "            image = self.transform(image)\n",
    "\n",
    "        label = self.labels[index]\n",
    "        return image, label\n",
    "\n",
    "# Define the transformations (Resize, convert to tensor)\n",
    "transform = transforms.Compose([\n",
    "    transforms.Resize((28, 28)),\n",
    "    transforms.ToTensor()\n",
    "])\n",
    "\n",
    "transform = transforms.Compose([\n",
    "    transforms.Resize((224, 224), interpolation=Image.BICUBIC),  # Resize to 224x224 using bicubic interpolation\n",
    "    transforms.Grayscale(num_output_channels=3),  # Convert to 3 channels (grayscale replicated)\n",
    "    transforms.ToTensor(),  # Convert the image to a tensor\n",
    "    transforms.Normalize(mean=[0.5077587 ,0.5077587 ,0.5077587], std= [0.19906063 ,0.19906063 ,0.19906063]) # Mannualy Calculated\n",
    "])\n",
    "\n",
    "# Initialize the custom dataset for training and testing\n",
    "train_dataset = CustomDataset(data_root='/kaggle/input/emotion-detection-fer/train', transform=transform)\n",
    "test_dataset = CustomDataset(data_root='/kaggle/input/emotion-detection-fer/test', transform=transform)\n",
    "\n",
    "# Create DataLoader for train and test sets\n",
    "train_loader = DataLoader(dataset=train_dataset, batch_size=64, shuffle=True, num_workers=4)\n",
    "test_loader = DataLoader(dataset=test_dataset, batch_size=64, shuffle=False, num_workers=4)"
   ]
  },
  {
   "cell_type": "markdown",
   "metadata": {},
   "source": [
    "## a) Training a Classifier from Scratch"
   ]
  },
  {
   "cell_type": "code",
   "execution_count": 7,
   "metadata": {
    "execution": {
     "iopub.execute_input": "2024-09-28T13:52:38.963786Z",
     "iopub.status.busy": "2024-09-28T13:52:38.963391Z",
     "iopub.status.idle": "2024-09-28T13:52:39.197595Z",
     "shell.execute_reply": "2024-09-28T13:52:39.196682Z",
     "shell.execute_reply.started": "2024-09-28T13:52:38.963747Z"
    }
   },
   "outputs": [
    {
     "name": "stdout",
     "output_type": "stream",
     "text": [
      "ResNet(\n",
      "  (conv1): Conv2d(3, 64, kernel_size=(7, 7), stride=(2, 2), padding=(3, 3), bias=False)\n",
      "  (bn1): BatchNorm2d(64, eps=1e-05, momentum=0.1, affine=True, track_running_stats=True)\n",
      "  (relu): ReLU(inplace=True)\n",
      "  (maxpool): MaxPool2d(kernel_size=3, stride=2, padding=1, dilation=1, ceil_mode=False)\n",
      "  (layer1): Sequential(\n",
      "    (0): BasicBlock(\n",
      "      (conv1): Conv2d(64, 64, kernel_size=(3, 3), stride=(1, 1), padding=(1, 1), bias=False)\n",
      "      (bn1): BatchNorm2d(64, eps=1e-05, momentum=0.1, affine=True, track_running_stats=True)\n",
      "      (relu): ReLU(inplace=True)\n",
      "      (conv2): Conv2d(64, 64, kernel_size=(3, 3), stride=(1, 1), padding=(1, 1), bias=False)\n",
      "      (bn2): BatchNorm2d(64, eps=1e-05, momentum=0.1, affine=True, track_running_stats=True)\n",
      "    )\n",
      "    (1): BasicBlock(\n",
      "      (conv1): Conv2d(64, 64, kernel_size=(3, 3), stride=(1, 1), padding=(1, 1), bias=False)\n",
      "      (bn1): BatchNorm2d(64, eps=1e-05, momentum=0.1, affine=True, track_running_stats=True)\n",
      "      (relu): ReLU(inplace=True)\n",
      "      (conv2): Conv2d(64, 64, kernel_size=(3, 3), stride=(1, 1), padding=(1, 1), bias=False)\n",
      "      (bn2): BatchNorm2d(64, eps=1e-05, momentum=0.1, affine=True, track_running_stats=True)\n",
      "    )\n",
      "  )\n",
      "  (layer2): Sequential(\n",
      "    (0): BasicBlock(\n",
      "      (conv1): Conv2d(64, 128, kernel_size=(3, 3), stride=(2, 2), padding=(1, 1), bias=False)\n",
      "      (bn1): BatchNorm2d(128, eps=1e-05, momentum=0.1, affine=True, track_running_stats=True)\n",
      "      (relu): ReLU(inplace=True)\n",
      "      (conv2): Conv2d(128, 128, kernel_size=(3, 3), stride=(1, 1), padding=(1, 1), bias=False)\n",
      "      (bn2): BatchNorm2d(128, eps=1e-05, momentum=0.1, affine=True, track_running_stats=True)\n",
      "      (downsample): Sequential(\n",
      "        (0): Conv2d(64, 128, kernel_size=(1, 1), stride=(2, 2), bias=False)\n",
      "        (1): BatchNorm2d(128, eps=1e-05, momentum=0.1, affine=True, track_running_stats=True)\n",
      "      )\n",
      "    )\n",
      "    (1): BasicBlock(\n",
      "      (conv1): Conv2d(128, 128, kernel_size=(3, 3), stride=(1, 1), padding=(1, 1), bias=False)\n",
      "      (bn1): BatchNorm2d(128, eps=1e-05, momentum=0.1, affine=True, track_running_stats=True)\n",
      "      (relu): ReLU(inplace=True)\n",
      "      (conv2): Conv2d(128, 128, kernel_size=(3, 3), stride=(1, 1), padding=(1, 1), bias=False)\n",
      "      (bn2): BatchNorm2d(128, eps=1e-05, momentum=0.1, affine=True, track_running_stats=True)\n",
      "    )\n",
      "  )\n",
      "  (layer3): Sequential(\n",
      "    (0): BasicBlock(\n",
      "      (conv1): Conv2d(128, 256, kernel_size=(3, 3), stride=(2, 2), padding=(1, 1), bias=False)\n",
      "      (bn1): BatchNorm2d(256, eps=1e-05, momentum=0.1, affine=True, track_running_stats=True)\n",
      "      (relu): ReLU(inplace=True)\n",
      "      (conv2): Conv2d(256, 256, kernel_size=(3, 3), stride=(1, 1), padding=(1, 1), bias=False)\n",
      "      (bn2): BatchNorm2d(256, eps=1e-05, momentum=0.1, affine=True, track_running_stats=True)\n",
      "      (downsample): Sequential(\n",
      "        (0): Conv2d(128, 256, kernel_size=(1, 1), stride=(2, 2), bias=False)\n",
      "        (1): BatchNorm2d(256, eps=1e-05, momentum=0.1, affine=True, track_running_stats=True)\n",
      "      )\n",
      "    )\n",
      "    (1): BasicBlock(\n",
      "      (conv1): Conv2d(256, 256, kernel_size=(3, 3), stride=(1, 1), padding=(1, 1), bias=False)\n",
      "      (bn1): BatchNorm2d(256, eps=1e-05, momentum=0.1, affine=True, track_running_stats=True)\n",
      "      (relu): ReLU(inplace=True)\n",
      "      (conv2): Conv2d(256, 256, kernel_size=(3, 3), stride=(1, 1), padding=(1, 1), bias=False)\n",
      "      (bn2): BatchNorm2d(256, eps=1e-05, momentum=0.1, affine=True, track_running_stats=True)\n",
      "    )\n",
      "  )\n",
      "  (layer4): Sequential(\n",
      "    (0): BasicBlock(\n",
      "      (conv1): Conv2d(256, 512, kernel_size=(3, 3), stride=(2, 2), padding=(1, 1), bias=False)\n",
      "      (bn1): BatchNorm2d(512, eps=1e-05, momentum=0.1, affine=True, track_running_stats=True)\n",
      "      (relu): ReLU(inplace=True)\n",
      "      (conv2): Conv2d(512, 512, kernel_size=(3, 3), stride=(1, 1), padding=(1, 1), bias=False)\n",
      "      (bn2): BatchNorm2d(512, eps=1e-05, momentum=0.1, affine=True, track_running_stats=True)\n",
      "      (downsample): Sequential(\n",
      "        (0): Conv2d(256, 512, kernel_size=(1, 1), stride=(2, 2), bias=False)\n",
      "        (1): BatchNorm2d(512, eps=1e-05, momentum=0.1, affine=True, track_running_stats=True)\n",
      "      )\n",
      "    )\n",
      "    (1): BasicBlock(\n",
      "      (conv1): Conv2d(512, 512, kernel_size=(3, 3), stride=(1, 1), padding=(1, 1), bias=False)\n",
      "      (bn1): BatchNorm2d(512, eps=1e-05, momentum=0.1, affine=True, track_running_stats=True)\n",
      "      (relu): ReLU(inplace=True)\n",
      "      (conv2): Conv2d(512, 512, kernel_size=(3, 3), stride=(1, 1), padding=(1, 1), bias=False)\n",
      "      (bn2): BatchNorm2d(512, eps=1e-05, momentum=0.1, affine=True, track_running_stats=True)\n",
      "    )\n",
      "  )\n",
      "  (avgpool): AdaptiveAvgPool2d(output_size=(1, 1))\n",
      "  (fc): Linear(in_features=512, out_features=1000, bias=True)\n",
      ")\n"
     ]
    }
   ],
   "source": [
    "import torchvision.models as models\n",
    "\n",
    "# Load the ResNet model (without pretrained weights for inspection)\n",
    "model = models.resnet18(pretrained=False)\n",
    "\n",
    "print(model)"
   ]
  },
  {
   "cell_type": "markdown",
   "metadata": {},
   "source": [
    "### Training ResNet-18 Model for Emotion Detection"
   ]
  },
  {
   "cell_type": "code",
   "execution_count": 18,
   "metadata": {
    "execution": {
     "iopub.execute_input": "2024-09-28T10:53:53.465453Z",
     "iopub.status.busy": "2024-09-28T10:53:53.464472Z",
     "iopub.status.idle": "2024-09-28T11:15:34.034346Z",
     "shell.execute_reply": "2024-09-28T11:15:34.033190Z",
     "shell.execute_reply.started": "2024-09-28T10:53:53.465405Z"
    }
   },
   "outputs": [
    {
     "name": "stderr",
     "output_type": "stream",
     "text": [
      "/opt/conda/lib/python3.10/site-packages/torchvision/models/_utils.py:208: UserWarning: The parameter 'pretrained' is deprecated since 0.13 and may be removed in the future, please use 'weights' instead.\n",
      "  warnings.warn(\n",
      "/opt/conda/lib/python3.10/site-packages/torchvision/models/_utils.py:223: UserWarning: Arguments other than a weight enum or `None` for 'weights' are deprecated since 0.13 and may be removed in the future. The current behavior is equivalent to passing `weights=None`.\n",
      "  warnings.warn(msg)\n"
     ]
    },
    {
     "name": "stdout",
     "output_type": "stream",
     "text": [
      "cuda\n",
      "Epoch 1/15, Loss: 1.6147\n",
      "Epoch 2/15, Loss: 1.2700\n",
      "Epoch 3/15, Loss: 1.1379\n",
      "Epoch 4/15, Loss: 1.0400\n",
      "Epoch 5/15, Loss: 0.9534\n",
      "Epoch 6/15, Loss: 0.8642\n",
      "Epoch 7/15, Loss: 0.7374\n",
      "Epoch 8/15, Loss: 0.6038\n",
      "Epoch 9/15, Loss: 0.4250\n",
      "Epoch 10/15, Loss: 0.2913\n",
      "Epoch 11/15, Loss: 0.1902\n",
      "Epoch 12/15, Loss: 0.1356\n",
      "Epoch 13/15, Loss: 0.1170\n",
      "Epoch 14/15, Loss: 0.1056\n",
      "Epoch 15/15, Loss: 0.0876\n",
      "Model training completed and saved as resnet18_custom_emotion_detection.pth\n"
     ]
    }
   ],
   "source": [
    "# Load the ResNet-18 model without pre-trained weights\n",
    "resnet_model_pre_f = models.resnet18(pretrained=False)\n",
    "\n",
    "# Modify the final fully connected layer to output 7 classes\n",
    "num_output_features = resnet_model_pre_f.fc.in_features\n",
    "num_classes = 7\n",
    "resnet_model_pre_f.fc = nn.Linear(num_output_features, num_classes)\n",
    "\n",
    "# Move the model to the GPU if available\n",
    "device = torch.device(\"cuda\" if torch.cuda.is_available() else \"cpu\")\n",
    "print(device)\n",
    "resnet_model_pre_f = resnet_model_pre_f.to(device)\n",
    "\n",
    "# Define the loss function and optimizer\n",
    "criterion = nn.CrossEntropyLoss()  # CrossEntropyLoss for multi-class classification\n",
    "optimizer = optim.Adam(resnet_model_pre_f.parameters(), lr=0.001)\n",
    "\n",
    "# Training the model\n",
    "num_epochs = 15  # Set the number of epochs\n",
    "epoch_losses = [] \n",
    "for epoch in range(num_epochs):\n",
    "    resnet_model_pre_f.train()  # Set model to training mode\n",
    "    running_loss = 0.0\n",
    "\n",
    "    for inputs, labels in train_loader:\n",
    "        inputs, labels = inputs.to(device), labels.to(device)  # Move data to GPU\n",
    "\n",
    "        # Zero the parameter gradients\n",
    "        optimizer.zero_grad()\n",
    "\n",
    "        # Forward pass\n",
    "        outputs = resnet_model_pre_f(inputs)\n",
    "        loss = criterion(outputs, labels)  # Compute loss using raw logits\n",
    "\n",
    "        # Backward pass and optimization\n",
    "        loss.backward()\n",
    "        optimizer.step()\n",
    "\n",
    "        # Update running loss\n",
    "        running_loss += loss.item()\n",
    "\n",
    "    # Calculate average loss for the epoch\n",
    "    epoch_loss = running_loss / len(train_loader)\n",
    "    epoch_losses.append(epoch_loss) \n",
    "    print(f\"Epoch {epoch+1}/{num_epochs}, Loss: {epoch_loss:.4f}\")\n",
    "\n",
    "# Save the trained model\n",
    "torch.save(resnet_model_pre_f.state_dict(), \"resnet18_custom_emotion_detection_2.pth\")\n",
    "print(\"Model training completed and saved as resnet18_custom_emotion_detection_2.pth\")"
   ]
  },
  {
   "cell_type": "code",
   "execution_count": 19,
   "metadata": {
    "execution": {
     "iopub.execute_input": "2024-09-28T11:16:33.391636Z",
     "iopub.status.busy": "2024-09-28T11:16:33.390781Z",
     "iopub.status.idle": "2024-09-28T11:16:33.398819Z",
     "shell.execute_reply": "2024-09-28T11:16:33.397820Z",
     "shell.execute_reply.started": "2024-09-28T11:16:33.391595Z"
    }
   },
   "outputs": [
    {
     "data": {
      "text/html": [
       "<a href='resnet18_custom_emotion_detection.pth' target='_blank'>resnet18_custom_emotion_detection.pth</a><br>"
      ],
      "text/plain": [
       "/kaggle/working/resnet18_custom_emotion_detection.pth"
      ]
     },
     "execution_count": 19,
     "metadata": {},
     "output_type": "execute_result"
    }
   ],
   "source": [
    "# Download the saved model file to your local machine\n",
    "from IPython.display import FileLink\n",
    "\n",
    "# Create a link to download the file\n",
    "FileLink(r'resnet18_custom_emotion_detection.pth')"
   ]
  },
  {
   "cell_type": "code",
   "execution_count": 20,
   "metadata": {
    "execution": {
     "iopub.execute_input": "2024-09-28T11:16:39.987268Z",
     "iopub.status.busy": "2024-09-28T11:16:39.986886Z",
     "iopub.status.idle": "2024-09-28T11:16:51.530714Z",
     "shell.execute_reply": "2024-09-28T11:16:51.529432Z",
     "shell.execute_reply.started": "2024-09-28T11:16:39.987233Z"
    }
   },
   "outputs": [],
   "source": [
    "# Testing the model\n",
    "resnet_model_pre_f.eval()  # Set model to evaluation mode\n",
    "test_loss = 0.0\n",
    "all_preds = []\n",
    "all_labels = []\n",
    "\n",
    "with torch.no_grad():  # No need to calculate gradients for testing\n",
    "    for inputs, labels in test_loader:\n",
    "        inputs, labels = inputs.to(device), labels.to(device)\n",
    "\n",
    "        outputs = resnet_model_pre_f(inputs)\n",
    "        loss = criterion(outputs, labels)\n",
    "        \n",
    "        # Store loss and predictions\n",
    "        test_loss += loss.item()\n",
    "        _, preds = torch.max(outputs, 1)  # Get predicted class (logits are raw scores)\n",
    "        all_preds.extend(preds.cpu().numpy())\n",
    "        all_labels.extend(labels.cpu().numpy())"
   ]
  },
  {
   "cell_type": "code",
   "execution_count": 21,
   "metadata": {
    "execution": {
     "iopub.execute_input": "2024-09-28T11:16:51.533129Z",
     "iopub.status.busy": "2024-09-28T11:16:51.532760Z",
     "iopub.status.idle": "2024-09-28T11:16:52.000643Z",
     "shell.execute_reply": "2024-09-28T11:16:51.999715Z",
     "shell.execute_reply.started": "2024-09-28T11:16:51.533094Z"
    }
   },
   "outputs": [
    {
     "name": "stdout",
     "output_type": "stream",
     "text": [
      "Test Loss: 2.2374\n",
      "Test Accuracy: 0.6048\n"
     ]
    },
    {
     "data": {
      "image/png": "[encoded data removed]",
      "text/plain": [
       "<Figure size 800x600 with 2 Axes>"
      ]
     },
     "metadata": {},
     "output_type": "display_data"
    },
    {
     "name": "stdout",
     "output_type": "stream",
     "text": [
      "              precision    recall  f1-score   support\n",
      "\n",
      "           0       0.54      0.51      0.53       958\n",
      "           1       0.54      0.50      0.52       111\n",
      "           2       0.42      0.47      0.44      1024\n",
      "           3       0.76      0.85      0.80      1774\n",
      "           4       0.55      0.59      0.57      1233\n",
      "           5       0.52      0.35      0.42      1247\n",
      "           6       0.74      0.77      0.75       831\n",
      "\n",
      "    accuracy                           0.60      7178\n",
      "   macro avg       0.58      0.58      0.58      7178\n",
      "weighted avg       0.60      0.60      0.60      7178\n",
      "\n"
     ]
    }
   ],
   "source": [
    "from sklearn.metrics import confusion_matrix, classification_report,accuracy_score\n",
    "import seaborn as sns\n",
    "\n",
    "# Calculate average test loss\n",
    "test_loss = test_loss / len(test_loader)\n",
    "print(f\"Test Loss: {test_loss:.4f}\")\n",
    "accuracy = accuracy_score(all_labels, all_preds)\n",
    "print(f\"Test Accuracy: {accuracy:.4f}\")\n",
    "\n",
    "cm = confusion_matrix(all_labels, all_preds)\n",
    "\n",
    "# Plotting the confusion matrix\n",
    "plt.figure(figsize=(8, 6))\n",
    "sns.heatmap(cm, annot=True, fmt=\"d\", cmap=\"crest\")\n",
    "plt.title(\"Confusion Matrix\")\n",
    "plt.xlabel(\"Predicted Label\")\n",
    "plt.ylabel(\"True Label\")\n",
    "plt.show()\n",
    "\n",
    "# Printing classification report\n",
    "print(classification_report(all_labels, all_preds))"
   ]
  },
  {
   "cell_type": "markdown",
   "metadata": {},
   "source": [
    "### Model Evaluation Results\n",
    "\n",
    "The test accuracy of the model trained from scratch is **60.48%**."
   ]
  },
  {
   "cell_type": "code",
   "execution_count": 10,
   "metadata": {
    "execution": {
     "iopub.execute_input": "2024-09-28T13:55:58.465311Z",
     "iopub.status.busy": "2024-09-28T13:55:58.464553Z",
     "iopub.status.idle": "2024-09-28T13:55:58.476042Z",
     "shell.execute_reply": "2024-09-28T13:55:58.475044Z",
     "shell.execute_reply.started": "2024-09-28T13:55:58.465272Z"
    }
   },
   "outputs": [],
   "source": [
    "# Function to evaluate the model on the test dataset and return accuracy\n",
    "def evaluate_saved_model(model_path, test_loader, device):\n",
    "    # Load the model architecture and weights\n",
    "    resnet_model_pre_t = models.resnet18(pretrained=False)\n",
    "    num_output_features = resnet_model_pre_t.fc.in_features\n",
    "    num_classes = 7\n",
    "    resnet_model_pre_t.fc = nn.Linear(num_output_features, num_classes)\n",
    "    resnet_model_pre_t.load_state_dict(torch.load(model_path))\n",
    "    resnet_model_pre_t.to(device)\n",
    "    \n",
    "    # Set the model to evaluation mode\n",
    "    resnet_model_pre_t.eval()\n",
    "    \n",
    "    # Initialize variables for evaluation\n",
    "    all_preds = []\n",
    "    all_labels = []\n",
    "    test_loss = 0.0\n",
    "    criterion = nn.CrossEntropyLoss()\n",
    "\n",
    "    # Evaluate the model\n",
    "    with torch.no_grad():\n",
    "        for inputs, labels in test_loader:\n",
    "            inputs, labels = inputs.to(device), labels.to(device)\n",
    "            outputs = resnet_model_pre_t(inputs)\n",
    "            loss = criterion(outputs, labels)\n",
    "            test_loss += loss.item()\n",
    "            \n",
    "            _, preds = torch.max(outputs, 1)\n",
    "            all_preds.extend(preds.cpu().numpy())\n",
    "            all_labels.extend(labels.cpu().numpy())\n",
    "\n",
    "    # Calculate average test loss\n",
    "    test_loss = test_loss / len(test_loader)\n",
    "    accuracy = accuracy_score(all_labels, all_preds)\n",
    "    \n",
    "    # Print the test loss and accuracy\n",
    "    print(f\"Model: {model_path}\")\n",
    "    print(f\"Test Loss: {test_loss:.4f}\")\n",
    "    print(f\"Test Accuracy: {accuracy:.4f}\")\n",
    "    \n",
    "    # Calculate and plot confusion matrix\n",
    "    cm = confusion_matrix(all_labels, all_preds)\n",
    "    plt.figure(figsize=(8, 6))\n",
    "    sns.heatmap(cm, annot=True, fmt=\"d\", cmap=\"crest\")\n",
    "    plt.title(f\"Confusion Matrix for {model_path}\")\n",
    "    plt.xlabel(\"Predicted Label\")\n",
    "    plt.ylabel(\"True Label\")\n",
    "    plt.show()\n",
    "    \n",
    "    # Print classification report\n",
    "    print(classification_report(all_labels, all_preds))\n"
   ]
  },
  {
   "cell_type": "code",
   "execution_count": 11,
   "metadata": {
    "execution": {
     "iopub.execute_input": "2024-09-28T13:56:00.709853Z",
     "iopub.status.busy": "2024-09-28T13:56:00.709164Z",
     "iopub.status.idle": "2024-09-28T13:56:00.716349Z",
     "shell.execute_reply": "2024-09-28T13:56:00.715403Z",
     "shell.execute_reply.started": "2024-09-28T13:56:00.709812Z"
    }
   },
   "outputs": [],
   "source": [
    "# Evaluate model function\n",
    "def evaluate_model(model, test_loader, device):\n",
    "    model.to(device)\n",
    "    model.eval()\n",
    "    all_preds = []\n",
    "    all_labels = []\n",
    "\n",
    "    with torch.no_grad():\n",
    "        for inputs, labels in test_loader:\n",
    "            inputs, labels = inputs.to(device), labels.to(device)\n",
    "            outputs = model(inputs)\n",
    "            _, preds = torch.max(outputs, 1)\n",
    "            all_preds.extend(preds.cpu().numpy())\n",
    "            all_labels.extend(labels.cpu().numpy())\n",
    "\n",
    "    accuracy = accuracy_score(all_labels, all_preds)\n",
    "    return accuracy"
   ]
  },
  {
   "cell_type": "markdown",
   "metadata": {},
   "source": [
    "## b) Fine-Tuning a Pretrained ResNet-18:"
   ]
  },
  {
   "cell_type": "markdown",
   "metadata": {},
   "source": [
    "### Model Training and Saving Function\n",
    "\n",
    "The function `train_and_save_model` is designed to train a ResNet-18 model with the option to freeze specific layers based on the given model name. It initializes the model, sets the appropriate parameters for training, and saves the trained model after evaluating its accuracy on the test dataset.\n"
   ]
  },
  {
   "cell_type": "code",
   "execution_count": 13,
   "metadata": {
    "execution": {
     "iopub.execute_input": "2024-09-28T13:56:25.526415Z",
     "iopub.status.busy": "2024-09-28T13:56:25.525601Z",
     "iopub.status.idle": "2024-09-28T13:56:25.538965Z",
     "shell.execute_reply": "2024-09-28T13:56:25.538004Z",
     "shell.execute_reply.started": "2024-09-28T13:56:25.526378Z"
    }
   },
   "outputs": [],
   "source": [
    "# Define a function to train and save the model\n",
    "def train_and_save_model(model_name, train_loader, test_loader, device, num_epochs):\n",
    "    # Re-initialize the model for each training phase\n",
    "    resnet_model_pre_t = models.resnet18(pretrained=True)\n",
    "    num_output_features = resnet_model_pre_t.fc.in_features\n",
    "    num_classes = 7\n",
    "    resnet_model_pre_t.fc = nn.Linear(num_output_features, num_classes)\n",
    "    resnet_model_pre_t.to(device)\n",
    "    \n",
    "    # Define a function to set requires_grad for specific named layers\n",
    "    def set_requires_grad_for_layers(model, layers_to_freeze, freeze=True):\n",
    "        for name, param in model.named_parameters():\n",
    "            # Check if the parameter name starts with any of the layers to freeze\n",
    "            if any(name.startswith(layer_name) for layer_name in layers_to_freeze):\n",
    "                param.requires_grad = not freeze\n",
    "\n",
    "    # Model name to layer mappings for freezing layers\n",
    "    layer_mappings = {\n",
    "        \"resnet18_Pre_train\":[],\n",
    "        \"resnet18_freeze_layer1\": [\"layer1\"],  # Freeze all of `layer1`\n",
    "        \"resnet18_freeze_layer1_2\": [\"layer1\",\"layer2\"],\n",
    "        \"resnet18_freeze_layer1_2_3\": [\"layer1\",\"layer2\",\"layer3\"],\n",
    "    }\n",
    "\n",
    "    # First, unfreeze all layers (set requires_grad to True)\n",
    "    for param in resnet_model_pre_t.parameters():\n",
    "        param.requires_grad = True\n",
    "\n",
    "    # Apply freezing based on the model name\n",
    "    if model_name in layer_mappings:\n",
    "        set_requires_grad_for_layers(resnet_model_pre_t, layer_mappings[model_name], freeze=True)\n",
    "\n",
    "    # Ensure at least one parameter has requires_grad=True\n",
    "    trainable_params = filter(lambda p: p.requires_grad, resnet_model_pre_t.parameters())\n",
    "    if not any(p.requires_grad for p in resnet_model_pre_t.parameters()):\n",
    "        raise ValueError(f\"No trainable parameters for model {model_name}\")\n",
    "\n",
    "    # Define the loss function and optimizer\n",
    "    optimizer = optim.Adam(trainable_params, lr=0.001)\n",
    "    criterion = nn.CrossEntropyLoss()\n",
    "    epoch_losses = []\n",
    "\n",
    "    # Training loop\n",
    "    for epoch in range(num_epochs):\n",
    "        resnet_model_pre_t.train()\n",
    "        running_loss = 0.0\n",
    "\n",
    "        for inputs, labels in train_loader:\n",
    "            inputs, labels = inputs.to(device), labels.to(device)\n",
    "\n",
    "            optimizer.zero_grad()\n",
    "            outputs = resnet_model_pre_t(inputs)\n",
    "            loss = criterion(outputs, labels)\n",
    "            loss.backward()\n",
    "            optimizer.step()\n",
    "\n",
    "            running_loss += loss.item()\n",
    "\n",
    "        epoch_loss = running_loss / len(train_loader)\n",
    "        epoch_losses.append(epoch_loss)\n",
    "        print(f\"Epoch {epoch+1}/{num_epochs}, Loss: {epoch_loss:.4f}\")\n",
    "\n",
    "    # Save the trained model\n",
    "    model_path = f\"{model_name}.pth\"\n",
    "    torch.save(resnet_model_pre_t.state_dict(), model_path)\n",
    "    print(f\"Model {model_name} saved as {model_path}\")\n",
    "\n",
    "    # Evaluate and return accuracy\n",
    "    accuracy = evaluate_model(resnet_model_pre_t, test_loader, device)\n",
    "    return resnet_model_pre_t,accuracy\n"
   ]
  },
  {
   "cell_type": "code",
   "execution_count": 1,
   "metadata": {},
   "outputs": [
    {
     "name": "stdout",
     "output_type": "stream",
     "text": [
      " Training resnet18_Pre_train model...\n",
      "Downloading: \"https://download.pytorch.org/models/resnet18-f37072fd.pth\" to /root/.cache/torch/hub/checkpoints/resnet18-f37072fd.pth\n",
      "100%|██████████| 44.7M/44.7M [00:00<00:00, 155MB/s]\n",
      "Epoch 1/5, Loss: 1.2041\n",
      "Epoch 2/5, Loss: 0.9975\n",
      "Epoch 3/5, Loss: 0.8832\n",
      "Epoch 4/5, Loss: 0.7645\n",
      "Epoch 5/5, Loss: 0.6247\n",
      "Model resnet18_Pre_train saved as resnet18_Pre_train.pth\n",
      "\n",
      "Training resnet18_freeze_layer1 model...\n",
      "Epoch 1/5, Loss: 1.1778\n",
      "Epoch 2/5, Loss: 0.9780\n",
      "Epoch 3/5, Loss: 0.8547\n",
      "Epoch 4/5, Loss: 0.7262\n",
      "Epoch 5/5, Loss: 0.5733\n",
      "Model resnet18_freeze_layer1 saved as resnet18_freeze_layer1.pth\n",
      "\n",
      "Training resnet18_freeze_layer1_2 model...\n",
      "Epoch 1/5, Loss: 1.1714\n",
      "Epoch 2/5, Loss: 0.9544\n",
      "Epoch 3/5, Loss: 0.8110\n",
      "Epoch 4/5, Loss: 0.6510\n",
      "Epoch 5/5, Loss: 0.4680\n",
      "Model resnet18_freeze_layer1_2 saved as resnet18_freeze_layer1_2.pth\n",
      "\n",
      "Training resnet18_freeze_layer1_2_3 model...\n",
      "Epoch 1/5, Loss: 1.1880\n",
      "Epoch 2/5, Loss: 0.9545\n",
      "Epoch 3/5, Loss: 0.7668\n",
      "Epoch 4/5, Loss: 0.5543\n",
      "Epoch 5/5, Loss: 0.3385\n",
      "Model resnet18_freeze_layer1_2_3 saved as resnet18_freeze_layer1_2_3.pth\n"
     ]
    }
   ],
   "source": [
    "# List to store accuracies\n",
    "accuracies = []\n",
    "\n",
    "# Train and evaluate different models with different layer configurations\n",
    "model_names = [\n",
    "      \"resnet18_Pre_train\",\n",
    "    \"resnet18_freeze_layer1\",\n",
    "    \"resnet18_freeze_layer1_2\",\n",
    "    \"resnet18_freeze_layer1_2_3\"\n",
    "    \n",
    "]\n",
    "\n",
    "# Training each model configuration\n",
    "for model_name in model_names:\n",
    "    print(f\"\\nTraining {model_name} model...\")\n",
    "    accuracy = train_and_save_model(model_name, train_loader, test_loader, device, num_epochs=5)\n",
    "#     print(f\"Accuracy for {model_name}: {accuracy:.4f}\"/)\n",
    "    accuracies.append((model_name, accuracy[1]))"
   ]
  },
  {
   "cell_type": "code",
   "execution_count": 2,
   "metadata": {},
   "outputs": [
    {
     "name": "stdout",
     "output_type": "stream",
     "text": [
      "[('resnet18_Pre_train', 0.6124268598495403),\n",
      " ('resnet18_freeze_layer1',0.620785734187796 ),\n",
      " ('resnet18_freeze_layer1_2', 0.6466982446363889),\n",
      " ('resnet18_freeze_layer1_2_3', 0.6372248537196991)]\n"
     ]
    }
   ],
   "source": [
    "accuracies"
   ]
  },
  {
   "cell_type": "markdown",
   "metadata": {},
   "source": [
    "### Model Training and Layer Freezing\n",
    "\n",
    "In this training phase, We implemented a ResNet-18 architecture with the flexibility to freeze specific layers based on the chosen model configuration. The primary goal was to evaluate the impact of layer freezing on model performance and identify the optimal configuration for achieving the best accuracy.\n",
    "\n",
    "#### Training Process\n",
    "\n",
    "The following model configurations were explored:\n",
    "\n",
    "1. **resnet18_Pre_train**: No layers were frozen.\n",
    "2. **resnet18_freeze_layer1**: Only `layer1` was frozen.\n",
    "3. **resnet18_freeze_layer1_2**: Both `layer1` and `layer2` were frozen.\n",
    "4. **resnet18_freeze_layer1_2_3**: `layer1`, `layer2`, and `layer3` were frozen.\n",
    "\n",
    "Each model was trained for five epochs, and the accuracies obtained were as follows:\n",
    "\n",
    "- **resnet18_Pre_train**: 61.24%\n",
    "- **resnet18_freeze_layer1**: 62.08%\n",
    "- **resnet18_freeze_layer1_2**: **64.67%** (Best result)\n",
    "- **resnet18_freeze_layer1_2_3**: 63.72%\n",
    "\n",
    "The configuration **resnet18_freeze_layer1_2** yielded the highest accuracy at **64.67%**. This indicated that freezing the first two layers allowed the model to retain essential learned features while focusing on optimizing the remaining layers. Based on these results, I decided to proceed with further training utilizing the **resnet18_freeze_layer1_2** configuration to potentially enhance performance and refine model capabilities in subsequent phases of my assignment.\n"
   ]
  },
  {
   "cell_type": "code",
   "execution_count": 3,
   "metadata": {},
   "outputs": [
    {
     "name": "stdout",
     "output_type": "stream",
     "text": [
      "Epoch 1/20, Loss: 1.1651\n",
      "Epoch 2/20, Loss: 0.9485\n",
      "Epoch 3/20, Loss: 0.8063\n",
      "Epoch 4/20, Loss: 0.6372\n",
      "Epoch 5/20, Loss: 0.4540\n",
      "Epoch 6/20, Loss: 0.2887\n",
      "Epoch 7/20, Loss: 0.1851\n",
      "Epoch 8/20, Loss: 0.1295\n",
      "Epoch 9/20, Loss: 0.1126\n",
      "Epoch 10/20, Loss: 0.0998\n",
      "Epoch 11/20, Loss: 0.0897\n",
      "Epoch 12/20, Loss: 0.0839\n",
      "Epoch 13/20, Loss: 0.0592\n",
      "Epoch 14/20, Loss: 0.0710\n",
      "Epoch 15/20, Loss: 0.0785\n",
      "Epoch 16/20, Loss: 0.0469\n",
      "Epoch 17/20, Loss: 0.0615\n",
      "Epoch 18/20, Loss: 0.0682\n",
      "Epoch 19/20, Loss: 0.0456\n",
      "Epoch 20/20, Loss: 0.0457\n",
      "Model resnet18_freeze_layer1_2 saved as resnet18_freeze_layer1_2.pth\n"
     ]
    }
   ],
   "source": [
    "final_model = \"resnet18_freeze_layer1_2 \"\n",
    "resnet_model_pre_t_final ,accuracy_final =  train_and_save_model(final_model, train_loader, test_loader, device, 20)"
   ]
  },
  {
   "cell_type": "code",
   "execution_count": 4,
   "metadata": {},
   "outputs": [
    {
     "name": "stdout",
     "output_type": "stream",
     "text": [
      "0.6510169963778211\n"
     ]
    }
   ],
   "source": [
    "torch.save(resnet_model_pre_t_final.state_dict(), \"resnet18_custom_emotion_detection_final.pth\")\n",
    "device = torch.device(\"cuda:0\" if torch.cuda.is_available() else \"cpu\")\n",
    "evaluate_model(resnet_model_pre_t_final,test_loader,device)"
   ]
  },
  {
   "cell_type": "code",
   "execution_count": null,
   "metadata": {},
   "outputs": [
    {
     "name": "stdout",
     "output_type": "stream",
     "text": [
      "Test Accuracy: 0.6510\n"
     ]
    },
    {
     "data": {
      "image/png": "[encoded data removed]",
      "text/plain": [
       "<Figure size 800x600 with 2 Axes>"
      ]
     },
     "metadata": {},
     "output_type": "display_data"
    },
    {
     "name": "stdout",
     "output_type": "stream",
     "text": [
      "              precision    recall  f1-score   support\n",
      "\n",
      "           0       0.57      0.57      0.57       958\n",
      "           1       0.80      0.47      0.59       111\n",
      "           2       0.54      0.45      0.49      1024\n",
      "           3       0.82      0.86      0.84      1774\n",
      "           4       0.59      0.59      0.59      1233\n",
      "           5       0.53      0.54      0.54      1247\n",
      "           6       0.72      0.82      0.77       831\n",
      "\n",
      "    accuracy                           0.65      7178\n",
      "   macro avg       0.65      0.61      0.63      7178\n",
      "weighted avg       0.65      0.65      0.65      7178\n",
      "\n"
     ]
    }
   ],
   "source": [
    "acc = evaluate_model(resnet_model_pre_t_final,test_loader,device)"
   ]
  },
  {
   "cell_type": "markdown",
   "metadata": {},
   "source": [
    "### Test Accuracy Evaluation\n",
    "\n",
    "After training the ResNet-18 model with the **resnet18_freeze_layer1_2** configuration, which involved freezing the first two layers, I proceeded to evaluate the model's performance on the test dataset. The model achieved a **test accuracy of 65.10%**.\n",
    "\n",
    "### Analysis of Results\n",
    "\n",
    "This improvement in test accuracy indicates that the model effectively learned to generalize from the training data while maintaining relevant features from the frozen layers. By selectively freezing layers, I ensured that essential feature extraction capabilities were preserved, allowing the model to focus on optimizing the remaining layers for better classification performance.\n",
    "\n",
    "The results suggest that the chosen configuration not only enhances training efficiency but also contributes positively to the model's ability to perform well on unseen data. Moving forward, I plan to explore further hyperparameter tuning and potentially fine-tune additional layers to maximize accuracy and robustness in predictions for my assignment.\n"
   ]
  }
 ],
 "metadata": {
  "kaggle": {
   "accelerator": "nvidiaTeslaT4",
   "dataSources": [
    {
     "datasetId": 1028436,
     "sourceId": 1732825,
     "sourceType": "datasetVersion"
    }
   ],
   "dockerImageVersionId": 30775,
   "isGpuEnabled": true,
   "isInternetEnabled": true,
   "language": "python",
   "sourceType": "notebook"
  },
  "kernelspec": {
   "display_name": "Python 3 (ipykernel)",
   "language": "python",
   "name": "python3"
  },
  "language_info": {
   "codemirror_mode": {
    "name": "ipython",
    "version": 3
   },
   "file_extension": ".py",
   "mimetype": "text/x-python",
   "name": "python",
   "nbconvert_exporter": "python",
   "pygments_lexer": "ipython3",
   "version": "3.11.4"
  }
 },
 "nbformat": 4,
 "nbformat_minor": 4
}
